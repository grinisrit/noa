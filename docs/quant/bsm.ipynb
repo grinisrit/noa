{
 "cells": [
  {
   "cell_type": "markdown",
   "id": "0bbb0ed2",
   "metadata": {},
   "source": [
    "# Black-Scholes-Merton model\n",
    "#### Roland Grinis, Ivan Novikov, Evgeny Filipov, Maksim Sosnin"
   ]
  },
  {
   "cell_type": "code",
   "execution_count": null,
   "id": "f39ce899",
   "metadata": {},
   "outputs": [],
   "source": [
    "import torch\n",
    "import math\n",
    "import numpy as np\n",
    "import numba as nb\n",
    "from typing import Tuple, List\n",
    "import matplotlib.pyplot as plt\n",
    "import plotly.graph_objects as go\n",
    "plt.style.use(\"dark_background\")\n",
    "%matplotlib inline"
   ]
  },
  {
   "cell_type": "markdown",
   "id": "7cf8f235",
   "metadata": {},
   "source": [
    "## 1 Black-Scholes Formulae\n",
    "\n",
    "Under the BSM model:\n",
    "$$\n",
    "\\frac{\\text{d}f_t}{f_t} = \\sigma \\text{d}W_t\n",
    "$$\n",
    "\n",
    "As a special case, assuming constant interest rate $r>0$, the zero-coupon bond as numéraire and the underlying with no extra cashflows:\n",
    "$$\n",
    "f_t = e^{r(T-t)}S_t, \\quad P(t,T) = e^{-r(T-t)}\n",
    "$$\n",
    "\n",
    "we can derive the Black-Scholes model for the underlying:\n",
    "$$\n",
    "\\text{d}S_t = r S_t\\text{d}t + \\sigma S_t \\text{d}W^\\gamma_t\n",
    "$$\n",
    "\n",
    "The forward value of a European Call at strike $K$ and maturity date $T$ is given by:\n",
    "$$\n",
    "FV_C = f_t \\text{N}(d_{+}) - K \\text{N}(d_{-})\n",
    "$$\n",
    "\n",
    "where $\\text{N}(x) = \\frac{1}{\\sqrt{2\\pi}}\\int^x_{-\\infty} \\text{d}z \\exp(-z^2/2)$ is the standard normal CDF and:\n",
    "$$\n",
    "d_{\\pm} = \\frac{\\log \\frac{f_t}{K} \\pm \\frac{1}{2}\\sigma^2(T-t) }{\\sigma \\sqrt{T-t}  } \n",
    "$$\n",
    "\n",
    "\n",
    "For the European Put, one can rely on the put-call parity $FV_C - FV_P = f_t - K$:\n",
    "$$\n",
    "FV_P = -f_t \\text{N}(-d_{+}) + K \\text{N}(- d_{-})\n",
    "$$"
   ]
  },
  {
   "cell_type": "markdown",
   "id": "67fc6e57",
   "metadata": {},
   "source": [
    "#### 1.1 Greeks\n",
    "\n",
    "There are three main risk sensitivies:\n",
    "* *Delta* $\\Delta$ measures the exposure to the underlying:\n",
    "$$\n",
    "\\begin{split}\n",
    " \\Delta & \\equiv \\frac{\\partial FV_C}{\\partial f} = \\text{N}(d_{+})   \\\\\n",
    " \\Delta & \\equiv \\frac{\\partial FV_P}{\\partial f} = - \\text{N}(-d_{+}) = \\text{N}(d_{+}) - 1\n",
    "\\end{split}\n",
    "$$\n",
    "\n",
    "* *Vega* (also called *Kappa*) is the exposure to volatility:\n",
    "$$\n",
    "\\mathcal{V} \\equiv \\frac{\\partial FV_C}{\\partial \\sigma} = \\frac{\\partial FV_P}{\\partial \\sigma} = \\text{N}'(d_{+}) f_t \\sqrt{T-t}\n",
    "$$\n",
    "* *Curvature* is supposed to measure the convexity:\n",
    "$$\n",
    "\\Upsilon \\equiv \\frac{\\sigma}{\\left(f_t\\sigma \\sqrt{T-t}\\right)^2} \\mathcal{V} = \\frac{\\text{N}'(d_{+})}{f_t\\sigma \\sqrt{T-t}}\n",
    "$$\n",
    "\n",
    "The definition of curvature above is somewhat of an abuse of terminology as we should have been capturing second order information with *Gamma*:\n",
    "$$\n",
    "\\Gamma \\equiv \\frac{\\partial^2 FV_C}{\\partial f^2} = \\frac{\\partial^2 FV_P}{\\partial f^2} = \\frac{\\text{N}'(d_{+})}{f_t\\sigma \\sqrt{T-t}}\n",
    "$$\n",
    "\n",
    "But higher order derivatives are expensive to compute. And as we can easily see, in the special case of BSM this is justified via what is known the *Gamma-Vega relation*.\n",
    "\n",
    "Finally, another quantity of interest is *Theta* - the decay of the value of optionality over time:\n",
    "$$\n",
    " \\Theta \\equiv \\frac{\\partial FV_C}{\\partial t}= \\frac{\\partial FV_P}{\\partial t} = - \\frac{\\sigma f_t \\text{N}'(d_{+})}{2 \\sqrt{T-t}}  \n",
    "$$"
   ]
  },
  {
   "cell_type": "code",
   "execution_count": null,
   "id": "77cfa138",
   "metadata": {},
   "outputs": [],
   "source": [
    "normal = torch.distributions.Normal(0,1)\n",
    "N = normal.cdf\n",
    "logNp = normal.log_prob"
   ]
  },
  {
   "cell_type": "code",
   "execution_count": null,
   "id": "708f7501",
   "metadata": {},
   "outputs": [],
   "source": [
    "def BS_call_FV(forward, time_t, strike, maturity, sigma):\n",
    "    dt = maturity - time_t\n",
    "    d1 = (torch.log(forward / strike) + sigma**2*dt/2) / (sigma*torch.sqrt(dt))\n",
    "    d2 = d1 - sigma*torch.sqrt(dt)\n",
    "    return forward*N(d1) - strike*N(d2)"
   ]
  },
  {
   "cell_type": "code",
   "execution_count": null,
   "id": "3a01dc2d",
   "metadata": {},
   "outputs": [],
   "source": [
    "def BS_call_Delta(forward, time_t, strike, maturity, sigma):\n",
    "    dt = maturity - time_t\n",
    "    d1 = (torch.log(forward / strike) + sigma**2*dt/2) / (sigma*torch.sqrt(dt))\n",
    "    return N(d1)"
   ]
  },
  {
   "cell_type": "code",
   "execution_count": null,
   "id": "59f66af8",
   "metadata": {},
   "outputs": [],
   "source": [
    "def BS_call_Vega(forward, time_t, strike, maturity, sigma):\n",
    "    dt = maturity - time_t\n",
    "    d1 = (torch.log(forward / strike) + sigma**2*dt/2) / (sigma*torch.sqrt(dt))\n",
    "    return torch.exp(logNp(d1)) * forward * torch.sqrt(dt)"
   ]
  },
  {
   "cell_type": "code",
   "execution_count": null,
   "id": "f2d7ae8f",
   "metadata": {},
   "outputs": [],
   "source": [
    "def BS_call_Gamma(forward, time_t, strike, maturity, sigma):\n",
    "    dt = maturity - time_t\n",
    "    d1 = (torch.log(forward / strike) + sigma**2*dt/2) / (sigma*torch.sqrt(dt))\n",
    "    return torch.exp(logNp(d1)) / (forward * sigma * torch.sqrt(dt))"
   ]
  },
  {
   "cell_type": "code",
   "execution_count": null,
   "id": "4ee56579",
   "metadata": {},
   "outputs": [],
   "source": [
    "def BS_call_Theta(forward, time_t, strike, maturity, sigma):\n",
    "    dt = maturity - time_t\n",
    "    d1 = (torch.log(forward / strike) + sigma**2*dt/2) / (sigma*torch.sqrt(dt))\n",
    "    return - forward * sigma * torch.exp(logNp(d1)) / (2 * torch.sqrt(dt))"
   ]
  },
  {
   "cell_type": "code",
   "execution_count": null,
   "id": "208cfae7",
   "metadata": {},
   "outputs": [],
   "source": [
    "forward, time_t = torch.meshgrid(\n",
    "    torch.linspace(50, 150, steps=200),\n",
    "    torch.linspace(0, 1, steps=200)[:-1], indexing='xy')\n",
    "strike = 100.\n",
    "maturity = 1.\n",
    "sigma = 0.3"
   ]
  },
  {
   "cell_type": "code",
   "execution_count": null,
   "id": "259946e3",
   "metadata": {},
   "outputs": [],
   "source": [
    "FV = BS_call_FV(forward, time_t, strike, maturity, sigma)\n",
    "Delta = BS_call_Delta(forward, time_t, strike, maturity, sigma)\n",
    "Vega = BS_call_Vega(forward, time_t, strike, maturity, sigma)\n",
    "Curvature = BS_call_Gamma(forward, time_t, strike, maturity, sigma)\n",
    "Theta = BS_call_Theta(forward, time_t, strike, maturity, sigma)"
   ]
  },
  {
   "cell_type": "code",
   "execution_count": null,
   "id": "0e792130",
   "metadata": {},
   "outputs": [],
   "source": [
    "plt.figure(figsize=(10,10))\n",
    "ax = plt.axes(projection='3d')\n",
    "ax.plot_surface(time_t.numpy(), forward.numpy(), FV.numpy(),\n",
    "                cmap='summer', edgecolors='darkslategray', lw=.3)\n",
    "plt.xlabel('Time (t)', color='white', fontsize=15)\n",
    "plt.ylabel('Forward (f)', color='white', fontsize=15)\n",
    "plt.title('European Call Option Forward Value')\n",
    "plt.grid(True)\n",
    "plt.show()"
   ]
  },
  {
   "cell_type": "markdown",
   "id": "c10c03d2",
   "metadata": {},
   "source": [
    "See on interactive plot:"
   ]
  },
  {
   "cell_type": "code",
   "execution_count": null,
   "id": "7866e217",
   "metadata": {
    "pycharm": {
     "is_executing": true
    }
   },
   "outputs": [],
   "source": [
    "fig = go.Figure(data=[go.Surface(z=FV.numpy(), x=forward.numpy(),\n",
    "                                 y=time_t.numpy(), colorscale='Tealgrn_r')])\n",
    "fig.update_layout(title='European Call Option Forward Value',template=\"plotly_dark\", width=1000, height=1000)\n",
    "fig.update_scenes(xaxis_title_text='f',\n",
    "                  yaxis_title_text='t',\n",
    "                  zaxis_title_text='FV')\n",
    "fig.show()"
   ]
  },
  {
   "cell_type": "code",
   "execution_count": null,
   "id": "dc9dbb57",
   "metadata": {},
   "outputs": [],
   "source": [
    "plt.figure(figsize=(10,10))\n",
    "ax = plt.axes(projection='3d')\n",
    "ax.plot_surface(time_t.numpy(), forward.numpy(), Delta.numpy(),\n",
    "                cmap='summer', edgecolors='darkslategray', lw=.3)\n",
    "plt.xlabel('Time (t)', color='white', fontsize=15)\n",
    "plt.ylabel('Forward (f)', color='white', fontsize=15)\n",
    "plt.title('European Call Option Delta')\n",
    "plt.show()"
   ]
  },
  {
   "cell_type": "code",
   "execution_count": null,
   "id": "8b35f58e",
   "metadata": {
    "pycharm": {
     "is_executing": true
    }
   },
   "outputs": [],
   "source": [
    "figD = go.Figure(data=[go.Surface(z=Delta.numpy(), x=forward.numpy(),\n",
    "                                  y=time_t.numpy(), colorscale='Tealgrn_r')])\n",
    "figD.update_layout(title='European Call Option Delta',template=\"plotly_dark\", width=1000, height=1000)\n",
    "figD.update_scenes(xaxis_title_text='f',\n",
    "                  yaxis_title_text='t',\n",
    "                  zaxis_title_text='Delta')\n",
    "figD.show()"
   ]
  },
  {
   "cell_type": "code",
   "execution_count": null,
   "id": "1c9bc688",
   "metadata": {},
   "outputs": [],
   "source": [
    "plt.figure(figsize=(10,10))\n",
    "ax = plt.axes(projection='3d')\n",
    "ax.plot_surface(time_t.numpy(), forward.numpy(), Vega.numpy(),\n",
    "                cmap='summer', edgecolors='darkslategray', lw=.3)\n",
    "plt.xlabel('Time (t)', color='white', fontsize=15)\n",
    "plt.ylabel('Forward (f)', color='white', fontsize=15)\n",
    "plt.title('European Call Option Vega')\n",
    "plt.show()"
   ]
  },
  {
   "cell_type": "code",
   "execution_count": null,
   "id": "3e506a5c",
   "metadata": {
    "pycharm": {
     "is_executing": true
    }
   },
   "outputs": [],
   "source": [
    "figV = go.Figure(data=[go.Surface(z=Vega.numpy(), x=forward.numpy(),\n",
    "                                  y=time_t.numpy(), colorscale='Tealgrn_r')])\n",
    "figV.update_layout(title='European Call Option Vega',template=\"plotly_dark\", width=1000, height=1000)\n",
    "figV.update_scenes(xaxis_title_text='f',\n",
    "                  yaxis_title_text='t',\n",
    "                  zaxis_title_text='Vega')\n",
    "figV.show()"
   ]
  },
  {
   "cell_type": "code",
   "execution_count": null,
   "id": "691d86da",
   "metadata": {},
   "outputs": [],
   "source": [
    "plt.figure(figsize=(10,10))\n",
    "ax = plt.axes(projection='3d')\n",
    "ax.plot_surface(time_t.numpy(), forward.numpy(), Curvature.numpy(),\n",
    "                cmap='summer', edgecolors='azure', lw=.5, rcount=70, ccount=70)\n",
    "plt.xlabel('Time (t)', color='white', fontsize=15)\n",
    "plt.ylabel('Forward (f)', color='white', fontsize=15)\n",
    "plt.title('European Call Option Gamma')\n",
    "plt.show()"
   ]
  },
  {
   "cell_type": "code",
   "execution_count": null,
   "id": "5db53aa6",
   "metadata": {
    "pycharm": {
     "is_executing": true
    }
   },
   "outputs": [],
   "source": [
    "figC = go.Figure(data=[go.Surface(z=Curvature.numpy(), x=forward.numpy(),\n",
    "                                  y=time_t.numpy(), colorscale='Tealgrn_r')])\n",
    "figC.update_layout(title='European Call Option Curvature',template=\"plotly_dark\", width=1000, height=1000)\n",
    "figC.update_scenes(xaxis_title_text='f',\n",
    "                  yaxis_title_text='t',\n",
    "                  zaxis_title_text='Gamma')\n",
    "figC.show()"
   ]
  },
  {
   "cell_type": "code",
   "execution_count": null,
   "id": "e148b97b",
   "metadata": {},
   "outputs": [],
   "source": [
    "plt.figure(figsize=(10,10))\n",
    "ax = plt.axes(projection='3d')\n",
    "ax.plot_surface(time_t.numpy(), forward.numpy(), Theta.numpy(),\n",
    "                cmap='summer', edgecolors='darkslategray', lw=.5)\n",
    "plt.xlabel('Time (t)', color='white', fontsize=15)\n",
    "plt.ylabel('Forward (f)', color='white', fontsize=15)\n",
    "plt.title('European Call Option Theta')\n",
    "plt.show()"
   ]
  },
  {
   "cell_type": "code",
   "execution_count": null,
   "id": "40e4498b",
   "metadata": {
    "pycharm": {
     "is_executing": true
    }
   },
   "outputs": [],
   "source": [
    "figT = go.Figure(data=[go.Surface(z=Theta.numpy(), x=forward.numpy(),\n",
    "                                  y=time_t.numpy(), colorscale='Tealgrn_r')])\n",
    "figT.update_layout(title='European Call Option Theta',template=\"plotly_dark\", width=1000, height=1000)\n",
    "figT.update_scenes(xaxis_title_text='f',\n",
    "                  yaxis_title_text='t',\n",
    "                  zaxis_title_text='Theta')\n",
    "figT.show()"
   ]
  },
  {
   "cell_type": "markdown",
   "id": "06029647",
   "metadata": {},
   "source": [
    "#### Exercises\n",
    "Implement and plot the delta for the Put. Reimplement the above functions for binary options and compare with vanillas. "
   ]
  },
  {
   "cell_type": "markdown",
   "id": "6fa30357",
   "metadata": {},
   "source": [
    "## 2 The Binomial Method\n",
    "Consider a discrete model for a stock price $S_0, S_{t_1}, \\dots, S_{t_M}$ with $t_{i+1} = t_i + \\Delta t$ and:\n",
    "\n",
    "\\begin{equation*} \n",
    "\\begin{split}\n",
    "\\mathbb{P} \\left(S_{t_{i+1}} = u S_{t_i} \\right) & = p \\\\\n",
    "\\mathbb{P} \\left(S_{t_{i+1}} = d S_{t_i} \\right) & = 1 - p\n",
    "\\end{split}\n",
    "\\end{equation*}\n",
    "for constants  $0 <d < u$ such that $u \\cdot d=1$ and a probability $0 < p < 1$. We assume a constant continuously compounded interest rate $r > 0$ and the zero-coupon $P(t,T) = e^{-r(T-t)}$ as numéraire."
   ]
  },
  {
   "cell_type": "markdown",
   "id": "e968f8a2",
   "metadata": {},
   "source": [
    "### 2.1 Approximating the Black-Scholes SDE\n",
    "Setting:\n",
    "\\begin{equation*} \n",
    "\\begin{split}\n",
    "p & = \\frac{e^{r\\Delta t} - d}{u - d} \\\\\n",
    "u & = \\beta + \\sqrt{\\beta^2 -1}\n",
    "\\end{split}\n",
    "\\end{equation*}\n",
    "\n",
    "where: \n",
    "$$\n",
    "\\beta = \\frac{1}{2}\\left(e^{-r\\Delta t} + e^{(r+\\sigma^2)\\Delta t}\\right)\n",
    "$$\n",
    "\n",
    "we obtain a discretisation for:\n",
    "$$\n",
    "\\text{d}S_t = r S_t\\text{d}t + \\sigma S_t \\text{d}W_t\n",
    "$$\n",
    "\n",
    "with linear weak convergence $O(\\Delta t)$.\n"
   ]
  },
  {
   "cell_type": "markdown",
   "id": "984c7cbb",
   "metadata": {},
   "source": [
    "### 2.2 European options\n",
    "\n",
    "#### 2.2.1 Pricing algorithm\n",
    "Let's start with $t_0 = 0$ and assume a maturity $t_M = 1$, we get $\\Delta t = \\frac1{M}$. Let us denote:\n",
    "$$\n",
    "S_{j,i} = S_0 u^j d^{i - j} = S_0 u^{2j - i}\n",
    "$$ \n",
    "where $i$ corresponds to time $t_i$ and $j$ is a number of time periods before $t_i$ when price goes up.\n",
    "\n",
    "According to risk neutral dynamics for European option price\n",
    "$$\n",
    "    PV_{j,i} = e^{-r \\Delta t} (p PV_{j + 1,i + 1} + (1 - p) PV_{j,i + 1})\n",
    "$$\n",
    "\n",
    "with final time at maturity given by $PV_{j,M} = (S_{j, M} - K)^{+}$ for the call option payoff, and $PV_{j,M} = (K - S_{j, M})^{+}$ if we want the put."
   ]
  },
  {
   "cell_type": "code",
   "execution_count": null,
   "id": "5fc26980",
   "metadata": {},
   "outputs": [],
   "source": [
    "M = 100\n",
    "S_0 = 50\n",
    "K = 70\n",
    "sigma = 0.5\n",
    "r = 0.01\n",
    "\n",
    "@nb.njit()\n",
    "def get_proba(r, sigma, M):\n",
    "    beta = 0.5*(np.exp(-r/M) + np.exp((r + sigma**2)/M))\n",
    "    u = beta + np.sqrt(beta**2 - 1)\n",
    "    d = 1 / u\n",
    "    return u, (np.exp(r / M) - d) / (u - d)\n",
    "\n",
    "u, p = get_proba(r, sigma, M)\n",
    "print(p)\n",
    "print(u)"
   ]
  },
  {
   "cell_type": "code",
   "execution_count": null,
   "id": "56ce5520",
   "metadata": {},
   "outputs": [],
   "source": [
    "# return the price of a call option at maturity t_M = 1 where j is number of upward moves\n",
    "from numba import prange\n",
    "@nb.njit(parallel=True)\n",
    "def price_mature_call(S_0, K, u, M):\n",
    "    d = 1 / u\n",
    "    S_M = np.zeros(M + 1)\n",
    "    for j in prange(M + 1):\n",
    "        S_M[j] = S_0 * (u ** j) * (d ** (M - j))\n",
    "    return np.maximum(S_M - K, 0)"
   ]
  },
  {
   "cell_type": "code",
   "execution_count": null,
   "id": "4ca3ee93",
   "metadata": {},
   "outputs": [],
   "source": [
    "# use recurrent formula to calculate the price for previous period\n",
    "@nb.njit()\n",
    "def price_previous_layer(r, M, p, current_layer):\n",
    "    return np.exp(- r / M) * (p * current_layer[1:] + \\\n",
    "      (1 - p) * current_layer[:-1])"
   ]
  },
  {
   "cell_type": "code",
   "execution_count": null,
   "id": "571268c8",
   "metadata": {},
   "outputs": [],
   "source": [
    "@nb.njit()\n",
    "def price_european_call(S_0, K, sigma, r, M):\n",
    "    u, p = get_proba(r, sigma, M)\n",
    "    current_layer = price_mature_call(S_0, K, u, M)\n",
    "    for layer in range(M):\n",
    "        current_layer = price_previous_layer(r, M, p, current_layer)\n",
    "    return current_layer[0]\n",
    "price_european_call(S_0, K, sigma, r, M)"
   ]
  },
  {
   "cell_type": "markdown",
   "id": "2b974000",
   "metadata": {},
   "source": [
    "#### 2.2.2 Exercise: Weak convergence\n",
    "Check we have weak convergence of order $O(\\Delta t)$ with Black-Scholes formulae.\n",
    "#### 2.2.2 Exercise: The European Put\n",
    "Price the European Put with the above method and compare your result with Black-Scholes formulae."
   ]
  },
  {
   "cell_type": "markdown",
   "id": "8a121992",
   "metadata": {},
   "source": [
    "#### 2.2.4 Replication\n",
    "Let us choose $\\Delta$ at time $t_i$ such that the portfolio become riskless at time $t_{i+1}$:\n",
    "\\begin{equation*} \n",
    "\\begin{split}\n",
    "\\Pi_i & = e^{-r \\Delta t} \\Pi_{i+1} \\\\\n",
    "& = S_i \\Delta_i - PV_i\n",
    "\\end{split}\n",
    "\\end{equation*}\n",
    "where the portfolio $\\Pi_i$ consists of a positon $\\Delta_i$ in the underlying $S_i$ and a short position in the option contract.\n",
    "\n",
    "Solving the above for $\\Delta_i$ gives:\n",
    "\\begin{equation*} \n",
    "\\begin{split}\n",
    "u S_i \\Delta_i - PV_{i+1}^{(u)} & = d S_i \\Delta_i - PV_{i+1}^{(d)} \\\\\n",
    "\\Rightarrow \\Delta_i & = \\frac{PV_{i+1}^{(u)} - PV_{i+1}^{(d)}}{S_i(u - d)}\n",
    "\\end{split}\n",
    "\\end{equation*}\n",
    "\n",
    "#### 2.2.5 Exercise:  Exact replication\n",
    "Add the missing steps in the above calculations and check that we replicate the option *exactly*."
   ]
  },
  {
   "cell_type": "markdown",
   "id": "ea99e3ae",
   "metadata": {},
   "source": [
    "### 2.3 The American Put\n",
    "\n",
    "#### 2.3.1 Dynamic Programming \n",
    "\n",
    "Applying the Dynamic Programming Principle to the European Put Option, we can price recursively the American Put Option:\n",
    "\\begin{equation*} \n",
    "\\begin{split}\n",
    "  &PV_{j,M} = (K - S_{j, M})^{+} \\\\\n",
    "  &PV_{j,i} = \\max \\left\\{(K - S_{j, i})^{+}, e^{-r \\Delta t} (p PV_{j + 1,i + 1} + (1 - p) PV_{j,i + 1}) \\right\\}\n",
    "\\end{split}\n",
    "\\end{equation*}\n"
   ]
  },
  {
   "cell_type": "code",
   "execution_count": null,
   "id": "7ddb8ea2",
   "metadata": {},
   "outputs": [],
   "source": [
    "@nb.njit()\n",
    "def get_maturity_underlying(S_0, K, u, M):\n",
    "    d = 1/u\n",
    "    S_M = np.zeros(M + 1)\n",
    "    for j in range(M + 1):\n",
    "        S_M[j] = S_0 * (u ** j) * (d ** (M - j))\n",
    "    return S_M"
   ]
  },
  {
   "cell_type": "code",
   "execution_count": null,
   "id": "4f97424f",
   "metadata": {},
   "outputs": [],
   "source": [
    "K = 35\n",
    "@nb.njit()\n",
    "def price_american_put(S_0, K, sigma, r, M):\n",
    "    u, p = get_proba(r, sigma, M)\n",
    "    current_underlying = get_maturity_underlying(S_0, K, u, M)\n",
    "    current_premium = np.maximum(K - current_underlying, 0)\n",
    "    for layer in range(M):\n",
    "        continuation_value = price_previous_layer(r, M, p, current_premium)\n",
    "        current_underlying = current_underlying[:-1] * u\n",
    "        intrinsic_value = np.maximum(K - current_underlying, 0)\n",
    "        current_premium = np.maximum(intrinsic_value, continuation_value)\n",
    "    return current_premium[0]\n",
    "price_american_put(S_0, K, sigma, r, M)"
   ]
  },
  {
   "cell_type": "markdown",
   "id": "0a4c17a3",
   "metadata": {},
   "source": [
    "#### 2.3.2 Exercise: Exact replication\n",
    "Check that exactly the same formula for $\\Delta$ holds, and we can replicate the Americal Put exactly\n",
    "#### 2.3.3 Exercise: The Americal Call\n",
    "Price the American call with the above method and compare your result with the European Call, what if $r<0$?"
   ]
  },
  {
   "cell_type": "markdown",
   "id": "a954c948",
   "metadata": {},
   "source": [
    "## 3 Solving the Black-Scholes PDE\n",
    "\n",
    "In this section we again consider the special case of constant interest rates $r>0$ and take the zero coupon $P(t,T) = e^{-r(T-t)}$ as numéraire. The underlying then follows:\n",
    "$$\n",
    "\\text{d}S_t = r S_t\\text{d}t + \\sigma S_t \\text{d}W_t\n",
    "$$"
   ]
  },
  {
   "cell_type": "markdown",
   "id": "76091e82",
   "metadata": {},
   "source": [
    "### 3.1 Black-Scholes PDE \n",
    "\n",
    "The present value $PV(t,S_t) = e^{-r(T-t)}FV(t,S_t)$ must be a martingale and by Feyman-Kac solves in $0 \\leq t \\leq T$ and  $S > 0$:\n",
    "$$\n",
    "\\frac{\\partial PV}{\\partial t} + \\frac12 \\frac{\\partial^2 PV}{\\partial S^2} \\sigma^2 S^2 + \\frac{\\partial PV}{\\partial S} rS = rPV\n",
    "$$\n",
    "\n",
    "This is the well-known Black-Scholes PDE."
   ]
  },
  {
   "cell_type": "markdown",
   "id": "0f6f8ffd",
   "metadata": {},
   "source": [
    "#### 3.1.1 Initial Value Problem for Vanilla Options\n",
    "\n",
    "At maturity $t = T$ the call option present value is $PV_C(T, S)= (S - K)^+$. If $S \\rightarrow 0$, the option becomes worthless $PV_C \\rightarrow 0$ (note: the underlying $S$ will never become $>0$ in GBM). \n",
    "\n",
    "On the other hand, if $S$ becomes very large, then the option will almost certainly\n",
    "be exercised, and the exercise price is negligible compared to $S$: $PV_C(t, S) \\sim S$ as $S \\rightarrow \\infty$. \n",
    "\n",
    "Therefore, the initial conditions for the call should be:\n",
    "\\begin{equation}\n",
    "\\begin{aligned}\n",
    "  &PV_C(T,S) = (S - K)^+ \\\\\n",
    "  &PV_C(t,0) = 0 \\\\\n",
    "  &PV_C(t, S) \\sim S \\text{ as } S \\rightarrow \\infty\n",
    "\\end{aligned}\n",
    "\\end{equation}\n",
    "\n",
    "Similarly, we obtain the initial conditions for the put's present value $PV_P$:\n",
    "\\begin{equation}\n",
    "\\begin{aligned}\n",
    "  &PV_P(T,S) = (K - S)^+ \\\\\n",
    "  &PV_P(t,0) = K e^{-r(T - t)} \\\\\n",
    "  &PV_P(t, S) \\rightarrow 0 \\text{ as } S \\rightarrow \\infty\n",
    "\\end{aligned}\n",
    "\\end{equation}"
   ]
  },
  {
   "cell_type": "markdown",
   "id": "dfaec703",
   "metadata": {},
   "source": [
    "#### 3.1.2 The Heat Equation\n",
    "\n",
    "Let us transform the Black-Scholes PDE into a heat equation.\n",
    "\\begin{equation}\n",
    "  S = K e^x, t = T - \\frac{2\\tau}{\\sigma^2}\n",
    "\\end{equation}\n",
    "\n",
    "We introduce:\n",
    "\\begin{equation}\n",
    "  v(\\tau, x) = v \\left( \\frac{\\sigma^2}{2} (T - t), \\ln(S / K)\\right) = \\frac{1}{K} PV(t,S) \n",
    "\\end{equation}\n",
    "\n",
    "Then this gives us:\n",
    "\\begin{equation}\n",
    "  \\frac{\\partial PV}{\\partial t} = K \\frac{\\partial v}{\\partial \\tau} \\frac{\\partial \\tau}{\\partial t} = - \\frac{K \\sigma^2}{2} \\frac{\\partial v}{\\partial \\tau}\n",
    "\\end{equation}\n",
    "\n",
    "\\begin{equation}\n",
    "  \\frac{\\partial PV}{\\partial S} = K \\frac{\\partial v}{\\partial x} \\frac{\\partial x}{\\partial S} = \\frac{K}{S} \\frac{\\partial v}{\\partial x}\n",
    "\\end{equation}\n",
    "\n",
    "So we get:\n",
    "\\begin{equation}\n",
    "  \\frac{\\partial^2 PV}{\\partial S^2} = K \\frac{\\partial}{\\partial S}\\left(\\frac{\\partial v}{\\partial S}\\right) = \\frac{\\partial}{\\partial S}\\left(\\frac{K}{S} \\frac{\\partial v}{\\partial x}\\right) = -\\frac{K}{S^2} \\frac{\\partial v}{\\partial x} + \\frac{K}{S} \\frac{\\partial^2 v}{\\partial x^2} \\frac{\\partial x}{\\partial S} = -\\frac{K}{S^2} \\frac{\\partial v}{\\partial x} + \\frac{K}{S^2} \\frac{\\partial^2 v}{\\partial x^2}\n",
    "\\end{equation}\n",
    "\n",
    "\n",
    "Hence, substituting the new derivatives back into the Black-Scholes PDE and grouping terms:\n",
    "\\begin{equation}\n",
    "  \\frac{\\partial v}{\\partial \\tau} = \\frac{\\partial^2 v}{\\partial x^2} + ( k - 1)\\frac{\\partial v}{\\partial x} - k v\n",
    "\\end{equation}\n",
    "where $k = \\frac{2r}{\\sigma^2}$, $-\\infty < x < \\infty$, $0 \\le \\tau \\le \\frac{\\sigma^2}{2} T$.\n",
    "\n",
    "The equation above is still not the heat equation. To simplify even further, we can write:\n",
    "\\begin{equation}\n",
    "  v(\\tau, x) = e^{\\alpha x + \\beta \\tau} y(\\tau, x)\n",
    "\\end{equation}\n",
    "\n",
    "Differentiating, we find:\n",
    "\\begin{equation}\n",
    "  \\frac{\\partial v}{\\partial \\tau} = e^{\\alpha x + \\beta \\tau} \\left(\\beta u + \\frac{\\partial u}{\\partial \\tau}\\right)\n",
    "\\end{equation}\n",
    "\n",
    "\\begin{equation}\n",
    "  \\frac{\\partial v}{\\partial x} = e^{\\alpha x + \\beta \\tau} \\left(\\alpha y + \\frac{\\partial y}{\\partial x}\\right)\n",
    "\\end{equation}\n",
    "\n",
    "\\begin{equation}\n",
    "  \\frac{\\partial^2 v}{\\partial x^2} = e^{\\alpha x + \\beta \\tau} \\left(\\alpha^2 y + 2 \\alpha \\frac{\\partial y}{\\partial x} + \\frac{\\partial^2 y}{\\partial x^2} \\right)\n",
    "\\end{equation}\n",
    "\n",
    "Finally, we obtain:\n",
    "\\begin{equation}\n",
    "  \\beta y + \\frac{\\partial y}{\\partial \\tau} = \\alpha^2 y + 2 \\alpha \\frac{\\partial y}{\\partial x} + \\frac{\\partial^2 y}{\\partial x^2} + (k - 1)\\left(\\alpha y + \\frac{\\partial y}{\\partial x}\\right) - ky\n",
    "\\end{equation}\n",
    "\n",
    "\\begin{equation}\n",
    "  \\frac{\\partial y}{\\partial \\tau} = \\frac{\\partial^2 y}{\\partial x^2} + (k - 1 + 2\\alpha) \\frac{\\partial y}{\\partial x} + (\\alpha^2 + \\alpha k - \\alpha - k - \\beta) y\n",
    "\\end{equation}\n",
    "\n",
    "We now choose $\\alpha$ and $\\beta$ to eliminate the last two terms:\n",
    "\\begin{equation}\n",
    "  \\alpha = - \\frac{k - 1}{2}\n",
    "\\end{equation}\n",
    "\n",
    "\\begin{equation}\n",
    "  \\beta = \\alpha^2 + \\alpha k - \\alpha - k = - \\frac14 (k + 1)^2\n",
    "\\end{equation}\n",
    "\n",
    "Therefore:\n",
    "\\begin{equation}\n",
    "  \\frac{\\partial y}{\\partial \\tau} = \\frac{\\partial^2 y}{\\partial x^2}\n",
    "\\end{equation}\n",
    "where $-\\infty < x < \\infty$, $0 \\le \\tau \\le \\frac{\\sigma^2}{2} T$. Now we can rewrite the initial conditions. Recall that\n",
    "\\begin{equation}\n",
    "  PV(t, S) = K e^{\\alpha x + \\beta \\tau} y(\\tau, x)\n",
    "\\end{equation}\n",
    "\n",
    "In the case of a call option we get:\n",
    "\\begin{equation}\n",
    "\\begin{aligned}\n",
    "  &y(0, x) = e^{-\\alpha x} (e^x - 1, 0)^+ = (e^{(k+1)x/2} - e^{(k-1)x/2})^+ \\\\\n",
    "  &y(\\tau, x) \\rightarrow 0 \\text{ as } x \\rightarrow -\\infty \\\\\n",
    "  &y(\\tau, x) \\sim e^{(k+1)x/2 + (k+1)^2 \\tau / 4} \\text{ as } x \\rightarrow \\infty\n",
    "\\end{aligned}\n",
    "\\end{equation}\n",
    "\n",
    "Similarly, the boundary conditions for a put:\n",
    "\\begin{equation}\n",
    "\\begin{aligned}\n",
    "  &y(0, x) = e^{-\\alpha x} (1 - e^x, 0)^+ = (e^{(k-1)x/2} - e^{(k+1)x/2})^+ \\\\\n",
    "  &y(\\tau, x) = e^{(k-1)x/2 + (k-1)^2 \\tau/4} \\text{ as } x \\rightarrow -\\infty \\\\\n",
    "  &y(\\tau, x) \\rightarrow 0 \\text{ as } x \\rightarrow \\infty\n",
    "\\end{aligned}\n",
    "\\end{equation}"
   ]
  },
  {
   "cell_type": "markdown",
   "id": "3cc84a56",
   "metadata": {},
   "source": [
    "### 3.2 Finite-Differences Methods\n",
    "\n",
    "We start first with the naive approach:\n",
    "\n",
    "#### 3.2.1 Explicit Method\n",
    "\n",
    "In the PDE, replace\n",
    "\\begin{equation}\n",
    "\\begin{aligned}\n",
    "  &\\frac{\\partial y_{i, \\nu}}{\\partial \\tau} = \\frac{y_{i, \\nu + 1} - y_{i, \\nu}}{\\Delta \\tau} + O(\\Delta \\tau) \\\\\n",
    "  &\\frac{\\partial^2 y_{i, \\nu}}{\\partial x^2} = \\frac{y_{i + 1, \\nu} - 2y_{i, \\nu} + y_{i - 1, \\nu}}{\\Delta x^2} + O(\\Delta x^2)\n",
    "\\end{aligned}\n",
    "\\end{equation}\n",
    "where $x \\in [x_{min}, x_{max}]$, $\\tau \\in [0, \\tau_{max}]$, $x_i = x_{min} + i \\cdot \\Delta x$, $\\tau_i = \\nu \\cdot \\Delta \\tau$. \n",
    "\n",
    "The order of convergence is $O(\\Delta \\tau, \\Delta x^2)$.\n",
    "\n",
    "Denote $w \\rightarrow y$ the numerical solution on the grid and drop the $O$-errors:\n",
    "\\begin{equation}\n",
    "  w_{i, \\nu + 1} = w_{i, \\nu} + \\frac{\\Delta \\tau}{\\Delta x^2} (w_{i + 1, \\nu} - 2w_{i, \\nu} + w_{i - 1, \\nu})\n",
    "\\end{equation}\n",
    "With the notation $\\lambda = \\frac{\\Delta \\tau}{\\Delta x^2}$ this is rewritten as\n",
    "\\begin{equation}\n",
    "  w_{i, \\nu + 1} = \\lambda w_{i - 1, \\nu} + (1 - 2 \\lambda) w_{i, \\nu} + \\lambda w_{i + 1, \\nu}\n",
    "\\end{equation}\n",
    "Or\n",
    "\\begin{equation}\n",
    "  w^{(\\nu + 1)} = A w^{(\\nu)}\n",
    "\\end{equation}\n",
    "where $w^{(\\nu)} = (w_{0, \\nu}, ... , w_{m, \\nu})^T$, $m = \\frac{x_{max} - x_{min}}{\\Delta x}$ and\n",
    "\\begin{equation}\n",
    "  A = \\left(\n",
    "    \\begin{array}{ccccc}\n",
    "      1 - 2\\lambda & \\lambda & 0 & \\ldots & 0 \\\\\n",
    "      \\lambda & 1 - 2\\lambda & \\ddots & \\ddots & \\vdots \\\\\n",
    "      0 & \\ddots & \\ddots & \\ddots & 0 \\\\\n",
    "      \\vdots & \\ddots & \\ddots & \\ddots & \\lambda \\\\\n",
    "      0 & \\ldots & 0 & \\lambda & 1 - 2\\lambda\n",
    "    \\end{array}\n",
    "  \\right)\n",
    "\\end{equation}"
   ]
  },
  {
   "cell_type": "markdown",
   "id": "380b759f",
   "metadata": {},
   "source": [
    "#### 3.2.2 Boundary Conditions for Discretization\n",
    "\n",
    "Since $x$ is unlimited, we should choose the boundaries of $x$ artificially: $x \\in [x_{min}, x_{max}]$. The sides of the rectangle should be large enough depending on the precision. Recall that we have $w(\\tau, x_{min}) \\approx y(\\tau, x_{min}) \\approx y(\\tau, x) \\text{ as } x \\rightarrow -\\infty$ and $w(\\tau, x_{max}) \\approx y(\\tau, x_{max}) \\approx y(\\tau, x) \\text{ as } x \\rightarrow \\infty$. In addition, our interval should include $x$ values, which correspond to $S_0$ and $K$:\n",
    "\\begin{equation}\n",
    "  x_{min} < \\min{\\left\\{0, \\ln{\\frac{S_0}{K}} \\right\\}}, \\max{\\left\\{0, \\ln{\\frac{S_0}{K}} \\right\\}} < x_{max}\n",
    "\\end{equation}"
   ]
  },
  {
   "cell_type": "markdown",
   "id": "a963008e",
   "metadata": {},
   "source": [
    "#### 3.2.3 Stability Considerations\n",
    "\n",
    "For a stable behaviour, we require $A^\\nu e^{(0)} \\rightarrow 0$ for $\\nu \\rightarrow \\infty$, where $e^{(0)}$ is intial rounding error. This results into a requirement the spectral radius $\\rho(A) = \\max\\limits_k{|\\mu_k^A|} < 1$ where $\\mu_k^A$ is eigenvalue of $A$.\n",
    "\n",
    "One can show that $\\mu_k^A= 1 - 4\\lambda \\sin^2 \\frac{k \\pi}{2m}$. Stability is obtained when $-1 < 1 - 4\\lambda \\sin^2 \\frac{k \\pi}{2m} < 1$, so for $0 < \\lambda \\le \\frac12$ the explicit method is stable."
   ]
  },
  {
   "cell_type": "code",
   "execution_count": null,
   "id": "ab2f150b",
   "metadata": {},
   "outputs": [],
   "source": [
    "@nb.njit()\n",
    "def get_call_maturity_condition(x_min, x_max, delta_x, k):\n",
    "    x = np.arange(x_min, x_max + delta_x, delta_x)\n",
    "    payoff = np.exp((k + 1) * x / 2) - np.exp((k - 1) * x / 2)\n",
    "    return np.maximum(payoff, 0)"
   ]
  },
  {
   "cell_type": "code",
   "execution_count": null,
   "id": "767b0c42",
   "metadata": {},
   "outputs": [],
   "source": [
    "@nb.njit()\n",
    "def get_explicit_matrix(m, lambda_):\n",
    "    A = np.zeros((m + 1, m + 1))\n",
    "    for i in range(m):\n",
    "        A[i][i] = 1 - 2 * lambda_\n",
    "        A[i][i + 1] = lambda_\n",
    "        A[i + 1][i] = lambda_\n",
    "    A[m][m] = 1 - 2 * lambda_\n",
    "    return A"
   ]
  },
  {
   "cell_type": "code",
   "execution_count": null,
   "id": "09c6d846",
   "metadata": {},
   "outputs": [],
   "source": [
    "@nb.njit()\n",
    "def explicit_call(w, A, k, delta_tau):\n",
    "    new_w = A @ w\n",
    "    # boundary conditions w[0] -> y(x_min), w[-1] -> y(x_max)\n",
    "    new_w[0] = 0\n",
    "    new_w[-1] = w[-1] * np.exp((k + 1) ** 2 * delta_tau / 4)\n",
    "    return new_w"
   ]
  },
  {
   "cell_type": "code",
   "execution_count": null,
   "id": "ec26ef23",
   "metadata": {},
   "outputs": [],
   "source": [
    "k = 0.5\n",
    "x_min = -5\n",
    "x_max = 5\n",
    "delta_x = 0.5\n",
    "delta_tau = 0.1\n",
    "\n",
    "@nb.njit()\n",
    "def compute_explicit_call(k, x_min, x_max, delta_x, delta_tau):\n",
    "    m = int((x_max - x_min) / delta_x)\n",
    "    lambda_ = delta_tau / (delta_x ** 2)\n",
    "    A = get_explicit_matrix(m, lambda_)\n",
    "    w = get_call_maturity_condition(x_min, x_max, delta_x, k)\n",
    "    for _ in range(50):\n",
    "        w = explicit_call(w, A, k, delta_tau)\n",
    "    return np.linspace(x_min, x_max, m+1), w"
   ]
  },
  {
   "cell_type": "code",
   "execution_count": null,
   "id": "c74797d8",
   "metadata": {},
   "outputs": [],
   "source": [
    "x, w = compute_explicit_call(k, x_min, x_max, delta_x, delta_tau)\n",
    "plt.figure(figsize=(13, 7))\n",
    "plt.plot(x, w, 'C3', lw=2)\n",
    "plt.title('Explicit Heat Solution, lambda = 0.4', fontsize=15)\n",
    "plt.xlabel('x', color='white', fontsize=15)\n",
    "plt.grid()\n",
    "plt.show()"
   ]
  },
  {
   "cell_type": "markdown",
   "id": "4cc76c9c",
   "metadata": {},
   "source": [
    "We can see that for $\\lambda = 0.4$ the solution is stable. For $\\lambda = 0.6$ the solution is unstable:"
   ]
  },
  {
   "cell_type": "code",
   "execution_count": null,
   "id": "91d41344",
   "metadata": {},
   "outputs": [],
   "source": [
    "delta_tau = 0.15\n",
    "x, wu = compute_explicit_call(k, x_min, x_max, delta_x, delta_tau)\n",
    "plt.figure(figsize=(13, 7))\n",
    "plt.plot(x, wu, 'C3', lw=2)\n",
    "plt.title('Explicit Heat Solution, lambda = 0.6', fontsize=15)\n",
    "plt.xlabel('x', color='white', fontsize=15)\n",
    "plt.grid()\n",
    "plt.show()"
   ]
  },
  {
   "cell_type": "markdown",
   "id": "3a3541dc",
   "metadata": {},
   "source": [
    "#### 3.2.4 Implicit Method\n",
    "\n",
    "In the PDE, replace\n",
    "\\begin{equation}\n",
    "\\begin{aligned}\n",
    "  &\\frac{\\partial y_{i, \\nu}}{\\partial \\tau} = \\frac{y_{i, \\nu} - y_{i, \\nu - 1}}{\\Delta \\tau} + O(\\Delta \\tau) \\\\\n",
    "  &\\frac{\\partial^2 y_{i, \\nu}}{\\partial x^2} = \\frac{y_{i + 1, \\nu} - 2y_{i, \\nu} + y_{i - 1, \\nu}}{\\Delta x^2} + O(\\Delta x^2)\n",
    "\\end{aligned}\n",
    "\\end{equation}\n",
    "\n",
    "The order of convergence is $O(\\Delta \\tau, \\Delta x^2)$.\n",
    "\n",
    "\\begin{equation}\n",
    "  - \\lambda w_{i + 1, \\nu} + (1 + 2 \\lambda) w_{i, \\nu} - \\lambda w_{i - 1, \\nu} = w_{i, \\nu - 1}\n",
    "\\end{equation}\n",
    "Or\n",
    "\\begin{equation}\n",
    "  Aw^{(\\nu + 1)} = w^{(\\nu)}\n",
    "\\end{equation}\n",
    "where\n",
    "\\begin{equation}\n",
    "  A = \\left(\n",
    "    \\begin{array}{ccccc}\n",
    "      1 + 2\\lambda & -\\lambda & 0 & \\ldots & 0 \\\\\n",
    "      -\\lambda & 1 + 2\\lambda & \\ddots & \\ddots & \\vdots \\\\\n",
    "      0 & \\ddots & \\ddots & \\ddots & 0 \\\\\n",
    "      \\vdots & \\ddots & \\ddots & \\ddots & -\\lambda \\\\\n",
    "      0 & \\ldots & 0 & -\\lambda & 1 + 2\\lambda\n",
    "    \\end{array}\n",
    "  \\right)\n",
    "\\end{equation}\n",
    "\n",
    "One can find eigenvalues of A and show that implicit method is unconditionally stable. In particular for $\\lambda = 0.6$ the solution is stable."
   ]
  },
  {
   "cell_type": "code",
   "execution_count": null,
   "id": "871eea06",
   "metadata": {},
   "outputs": [],
   "source": [
    "@nb.njit()\n",
    "def get_implicit_matrix(m, lambda_):\n",
    "    A = np.zeros((m + 1, m + 1))\n",
    "    for i in range(m):\n",
    "        A[i][i] = 1 + 2 * lambda_\n",
    "        A[i][i + 1] = -lambda_\n",
    "        A[i + 1][i] = -lambda_\n",
    "    A[m][m] = 1 + 2 * lambda_\n",
    "    return A"
   ]
  },
  {
   "cell_type": "code",
   "execution_count": null,
   "id": "aa76c443",
   "metadata": {},
   "outputs": [],
   "source": [
    "k = 0.5\n",
    "x_min = -5\n",
    "x_max = 5\n",
    "delta_x = 0.2\n",
    "delta_tau = 0.05\n",
    "\n",
    "@nb.njit()\n",
    "def compute_implicit_call(k, x_min, x_max, delta_x, delta_tau):\n",
    "    m = int((x_max - x_min) / delta_x)\n",
    "    lambda_ = delta_tau / (delta_x ** 2)\n",
    "    A = get_implicit_matrix(m, lambda_)\n",
    "    inv_A = np.linalg.inv(A)\n",
    "    w = get_call_maturity_condition(x_min, x_max, delta_x, k)\n",
    "    for _ in range(50):\n",
    "      # we can use explicit iteration whith inverse A\n",
    "      w = explicit_call(w, inv_A, k, delta_tau)\n",
    "    return np.linspace(x_min, x_max, m+1), w"
   ]
  },
  {
   "cell_type": "code",
   "execution_count": null,
   "id": "75fba60b",
   "metadata": {},
   "outputs": [],
   "source": [
    "x, w = compute_implicit_call(k, x_min, x_max, delta_x, delta_tau)\n",
    "plt.figure(figsize=(13, 7))\n",
    "plt.plot(x, w, 'C3', lw=2)\n",
    "plt.title('Implicit Heat Solution, lambda = 0.6', fontsize=15)\n",
    "plt.xlabel('x', color='white', fontsize=15)\n",
    "plt.grid()\n",
    "plt.show()"
   ]
  },
  {
   "cell_type": "markdown",
   "id": "979bfd89",
   "metadata": {},
   "source": [
    "#### 3.2.5 Crank-Nicolson Method\n",
    "We use the scheme:\n",
    "\\begin{equation}\n",
    "  w_{i, \\nu + 1} - w_{i, \\nu} = \\frac{\\lambda}{2}(w_{i + 1, \\nu} - 2w_{i, \\nu} + w_{i - 1, \\nu} + w_{i + 1, \\nu + 1} - 2w_{i, \\nu + 1} + w_{i - 1, \\nu + 1})\n",
    "\\end{equation}\n",
    "\n",
    "with the convergence rate $O(\\Delta \\tau^2, \\Delta x^2)$ and unconditional stability.\n",
    "\n",
    "This can be rewritten as $A w^{(\\nu + 1)} = B w^{(\\nu)} $ where:\n",
    "\\begin{equation}\n",
    "   A = \\left(\n",
    "    \\begin{array}{ccccc}\n",
    "      1 + \\lambda & -\\lambda/2 & 0 & \\ldots & 0 \\\\\n",
    "      -\\lambda/2 & 1 + \\lambda & \\ddots & \\ddots & \\vdots \\\\\n",
    "      0 & \\ddots & \\ddots & \\ddots & 0 \\\\\n",
    "      \\vdots & \\ddots & \\ddots & \\ddots & -\\lambda/2 \\\\\n",
    "      0 & \\ldots & 0 & -\\lambda/2 & 1 + \\lambda\n",
    "    \\end{array}\n",
    "  \\right),\n",
    "  B = \\left(\n",
    "    \\begin{array}{ccccc}\n",
    "      1 - \\lambda & \\lambda/2 & 0 & \\ldots & 0 \\\\\n",
    "      \\lambda/2 & 1 - \\lambda & \\ddots & \\ddots & \\vdots \\\\\n",
    "      0 & \\ddots & \\ddots & \\ddots & 0 \\\\\n",
    "      \\vdots & \\ddots & \\ddots & \\ddots & \\lambda/2 \\\\\n",
    "      0 & \\ldots & 0 & \\lambda/2 & 1 - \\lambda\n",
    "    \\end{array}\n",
    "  \\right)\n",
    "\\end{equation}\n",
    "\n",
    "Accordingly, we choose boundary conditions:\n",
    "\\begin{equation}\n",
    "\\begin{aligned}\n",
    "  &w_{0, \\nu} = r_1(\\tau, x) \\\\\n",
    "  &w_{m, \\nu} = r_2(\\tau, x)\n",
    "\\end{aligned}\n",
    "\\end{equation}\n",
    "where $y(\\tau, x) \\rightarrow r_1(\\tau, x)$ for $x \\rightarrow -\\infty$ and $y(\\tau, x) \\rightarrow r_2(\\tau, x)$ for $x \\rightarrow +\\infty$.\n",
    "\n",
    "With those boundary conditions, we have to solve at each step:\n",
    "$$\n",
    "A w^{(\\nu + 1)} = B w^{(\\nu)} + d^{(\\nu)}\n",
    "$$ \n",
    "\n",
    "where\n",
    "\n",
    "\\begin{equation}\n",
    "  d^{(\\nu)} = \\frac{\\lambda}{2} \\left(\n",
    "    \\begin{array}{c}\n",
    "      w_{0, \\nu} + w_{0, \\nu + 1} \\\\\n",
    "      0\\\\\n",
    "      \\vdots \\\\\n",
    "      0 \\\\\n",
    "      w_{m, \\nu} + w_{m, \\nu + 1}\n",
    "    \\end{array}\n",
    "  \\right)\n",
    "\\end{equation}"
   ]
  },
  {
   "cell_type": "code",
   "execution_count": null,
   "id": "862b0141",
   "metadata": {},
   "outputs": [],
   "source": [
    "@nb.njit()\n",
    "def get_crank_A_matrix(m, lambda_):\n",
    "    A = np.zeros((m + 1, m + 1))\n",
    "    for i in range(m):\n",
    "        A[i][i] = 1 + lambda_\n",
    "        A[i][i + 1] = -lambda_ / 2\n",
    "        A[i + 1][i] = -lambda_ / 2\n",
    "    A[m][m] = 1 + lambda_\n",
    "    return A\n",
    "\n",
    "@nb.njit()\n",
    "def get_crank_B_matrix(m, lambda_):\n",
    "    B = np.zeros((m + 1, m + 1))\n",
    "    for i in range(m):\n",
    "        B[i][i] = 1 - lambda_\n",
    "        B[i][i + 1] = lambda_ / 2\n",
    "        B[i + 1][i] = lambda_ / 2\n",
    "    B[m][m] = 1 - lambda_\n",
    "    return B\n",
    "\n",
    "@nb.njit()\n",
    "def crank_call(w, A, B, k, w_m, w_0, nu, lambda_):\n",
    "    d = np.zeros(len(w))\n",
    "    d[0] = lambda_ / 2 * (w_0[nu] + w_0[nu + 1])\n",
    "    d[-1] = lambda_ / 2 * (w_m[nu] + w_m[nu + 1])\n",
    "    return np.linalg.inv(A).dot(B.dot(w) + d)"
   ]
  },
  {
   "cell_type": "code",
   "execution_count": null,
   "id": "e1cad4dd",
   "metadata": {},
   "outputs": [],
   "source": [
    "@nb.njit()\n",
    "def price_european_call(K, T, r, sigma, x_min, x_max, delta_x, delta_tau):\n",
    "    k = 2 * r / sigma ** 2\n",
    "    tau_max = T * (sigma ** 2) / 2\n",
    "    x = np.arange(x_min, x_max + delta_x, delta_x)\n",
    "    m = int((x_max - x_min) / delta_x)\n",
    "    lambda_ = delta_tau / (delta_x ** 2)\n",
    "    tau_array = np.arange(0, tau_max + delta_tau, delta_tau)\n",
    "\n",
    "    A = get_crank_A_matrix(m, lambda_)\n",
    "    B = get_crank_B_matrix(m, lambda_)\n",
    "    w = get_call_maturity_condition(x_min, x_max, delta_x, k)\n",
    "    w_m = np.exp((k + 1) * x_max / 2 + ((k + 1) ** 2) * tau_array / 4)\n",
    "    w_0 = np.zeros(len(w_m))\n",
    "    for nu in range((len(w_m)) - 1):\n",
    "        w = crank_call(w, A, B, k, w_m, w_0, nu, lambda_)\n",
    "\n",
    "    alpha = (1 - k) / 2\n",
    "    beta = - (k + 1) ** 2 / 4\n",
    "    V = K * np.exp(alpha * x + beta * tau_max) * w\n",
    "    S = K * np.exp(x)\n",
    "    return S, V"
   ]
  },
  {
   "cell_type": "code",
   "execution_count": null,
   "id": "f19656cf",
   "metadata": {},
   "outputs": [],
   "source": [
    "r = 0.01\n",
    "sigma = 0.3\n",
    "K = 100\n",
    "T = 1\n",
    "x_min = -5\n",
    "x_max = 5\n",
    "delta_x = 0.01\n",
    "delta_tau = 0.002\n",
    "S, V = price_european_call(K, T, r, sigma, x_min, x_max, delta_x, delta_tau)"
   ]
  },
  {
   "cell_type": "code",
   "execution_count": null,
   "id": "c6083f83",
   "metadata": {},
   "outputs": [],
   "source": [
    "plt.figure(figsize=(13, 7))\n",
    "plt.plot(S[(S < 200) & (S > 10)], V[(S < 200) & (S > 10)], 'C3', lw=2)\n",
    "plt.title('European Call, Strike K=100', fontsize=15)\n",
    "plt.xlabel('Underlying S', color='white', fontsize=15)\n",
    "plt.grid()\n",
    "plt.show()"
   ]
  },
  {
   "cell_type": "markdown",
   "id": "8897aa93",
   "metadata": {},
   "source": [
    "#### 3.2.6.1 Exercise: Convergence\n",
    "Check experimentally that the convergence rates stated above hold for all three different methods. "
   ]
  },
  {
   "cell_type": "markdown",
   "id": "75976d20",
   "metadata": {},
   "source": [
    "#### 3.2.7 American Put Option \n",
    "Finite differences approach (Crank-Nicolson) can be used for valuation of American options.\n",
    "However, it is more difficult because option can be exercised at any time.\n",
    "\n",
    "In this situation, dynamic programming leads to a system of inequalities instead of one equation:\n",
    "$$\n",
    "\\left.\\begin{array}{r}\n",
    "\\left(\\frac{\\partial y}{\\partial \\tau}-\\frac{\\partial^2 y}{\\partial x^2}\\right)(y-g)=0 \\\\\n",
    "\\frac{\\partial y}{\\partial \\tau}-\\frac{\\partial^2 y}{\\partial x^2} \\geq 0 \\\\\n",
    "y-g \\geq 0\n",
    "\\end{array}\\right\\}\n",
    "$$\n",
    "\n",
    "where $g$ corresponds to the put's payoff (in the transformed Black-Scholes equation):\n",
    "$$\n",
    "g(\\tau, x) = \\exp \\left(\\frac{1}{4}(k+1)^{2}\\tau\\right) \\left(e^{(k-1)x/2} - e^{(k+1)x/2} \\right)^{+}\n",
    "$$\n",
    "\n",
    "For this type of problem we should use Brennan-Schwartz algorithm to make implicit steps in Crank-Nicolson method."
   ]
  },
  {
   "cell_type": "markdown",
   "id": "6480b277",
   "metadata": {},
   "source": [
    "#### 3.2.8 Implementing Brennan-Schwartz algorithm\n",
    "\n",
    "The algorithm is based on a Gaussian elimination where the early\n",
    "exercise constraint is handled in a simple manner.\n",
    "At each time step $\\nu$, the problem needs to be solved:\n",
    "$$\n",
    "\\left\\{\\begin{array}{c}\n",
    "Aw^{(\\nu+1)} \\geq b^{(\\nu)} \\\\\n",
    "w^{(\\nu+1)} \\geq g \\\\\n",
    "\\left(Aw^{(\\nu+1)}-b^{(\\nu)}\\right)^T\\left(w^{(\\nu+1)}-g\\right)=0\n",
    "\\end{array}\\right.\n",
    "$$\n",
    "\n",
    "The algorithm is the following: The Gaussian elimination transforms rows of the system of linear equations $Aw=b$ to the form:\n",
    "$$\n",
    "p_i w_i+s_i w_{i+1}=k_i, \\ \\ \\ (*)\n",
    "$$\n",
    "for $i=1, \\ldots, m$, where the coefficients can be chosen to be\n",
    "$$\n",
    "\\begin{gathered}\n",
    "p_1=a_{11}, \\quad s_1=a_{12}, \\quad k_1=b_1 \\\\\n",
    "p_i=a_{i i}-\\frac{a_{i i-1}}{p_{i-1}} a_{i-1 i}, \\quad s_i=a_{i i+1}, \\quad k_i=b_i-\\frac{a_{i i-1}}{p_{i-1}} k_{i-1} \\\\\n",
    "p_m=a_{m m}-\\frac{a_{m m-1}}{p_{m-1}} a_{m-1 m} \\quad \\text { and } \\quad k_m=b_m-\\frac{p_{m-1}}{a_{m m-1}} k_{m-1}\n",
    "\\end{gathered}\n",
    "$$\n",
    "\n",
    "The solution $y$ for the system of inequalities above is obtained by using the equation (*) and the payoff function of the put option.\n",
    "We start with solving from $i = m$, if $w_m$ is less than the payoff value then set $w_m = g_m$. Then solve $w_{m−1}$ and so on..."
   ]
  },
  {
   "cell_type": "markdown",
   "id": "5da5a4ce",
   "metadata": {},
   "source": [
    "Original algorithm can be found in the article: Brennan, M. J., Schwartz, E. S. (1977). The valuation of American put options. The Journal of Finance, 32(2), 449-462.\n",
    "\n",
    "C++ implementation can be found in `src/noa/quant/bsm.hh`."
   ]
  },
  {
   "cell_type": "code",
   "execution_count": null,
   "id": "59b46f4a",
   "metadata": {},
   "outputs": [],
   "source": [
    "from pyquant.bsm import price_american_put_bsm, find_early_exercise"
   ]
  },
  {
   "cell_type": "code",
   "execution_count": null,
   "id": "7bdd01d6",
   "metadata": {},
   "outputs": [],
   "source": [
    "STRIKE = 50\n",
    "T = 1\n",
    "RATE = 0.01\n",
    "SIGMA = 0.3\n",
    "\n",
    "V, S_array, t_array = price_american_put_bsm(\n",
    "    STRIKE, T, RATE, SIGMA, S_min=20, S_max=100, npoints_S=500, npoints_t=500)"
   ]
  },
  {
   "cell_type": "code",
   "execution_count": null,
   "id": "06a4119e",
   "metadata": {},
   "outputs": [],
   "source": [
    "plt.figure(figsize=(14, 8))\n",
    "indexes = np.linspace(0, len(t_array) - 1, 7).astype(int)\n",
    "for i in indexes:\n",
    "    plt.plot(S_array, V[:, i], label=f\"t = {round(t_array[i],2)}\")\n",
    "    stop_line = [(s,v) for v,s in zip(V[:, i], S_array) if v <= max(STRIKE-s, 0)]\n",
    "    plt.vlines(stop_line[-1][0], ymin=0, ymax=stop_line[-1][1], color='violet', label=f'exercise at t={round(t_array[i], 2)}')\n",
    "plt.legend()\n",
    "plt.xlim(20, 100)\n",
    "plt.xlabel('Price (S)', color='white', fontsize=15)\n",
    "plt.ylabel('Value (V)', color='white', fontsize=15)\n",
    "plt.title('American Put Value + Early-exercise curve', fontsize=15)\n",
    "plt.show()"
   ]
  },
  {
   "cell_type": "code",
   "execution_count": null,
   "id": "fa166ca5",
   "metadata": {},
   "outputs": [],
   "source": [
    "stop_line_V, stop_line_S = find_early_exercise(V, S_array, t_array, STRIKE)\n",
    "\n",
    "plt.figure(figsize=(14, 8))\n",
    "plt.plot(stop_line_S, t_array, label='Early exercise', lw=2)\n",
    "plt.axvline(STRIKE, ls='--', label='Strike', lw=1)\n",
    "for i in indexes:\n",
    "    plt.scatter(stop_line_S[i], t_array[i], color='violet', s=50,\n",
    "                label=f'exercise at t={round(t_array[i], 2)}')\n",
    "plt.ylabel('Time (t)', color='white', fontsize=15)\n",
    "plt.xlabel('Price (S)', color='white', fontsize=15)\n",
    "plt.title('Early-exercise curve', fontsize=15)\n",
    "plt.xlim(0, 80)\n",
    "plt.legend()\n",
    "plt.show()"
   ]
  },
  {
   "cell_type": "markdown",
   "id": "85eeaa64",
   "metadata": {},
   "source": [
    "### Exercise\n",
    "Implement BSM for the Americal call when forward/futures yield curve is negative (i.e. negative constant rate assumption, or else American call for stocks that pay dividends)."
   ]
  },
  {
   "cell_type": "markdown",
   "id": "50b3ee0f",
   "metadata": {},
   "source": [
    "## References\n",
    "\n",
    "* Seydel, R.U. Tools for Computational Finance, 6th edition, Springer V., London (2017)\n",
    "* Shreve, S.E. Stochastic Calculus for Finance I & II, Springer, New York (2004)\n",
    "* Brennan, M. J., Schwartz, E. S. (1977). The valuation of American put options. The Journal of Finance, 32(2), 449-462."
   ]
  }
 ],
 "metadata": {
  "kernelspec": {
   "display_name": "Python 3 (ipykernel)",
   "language": "python",
   "name": "python3"
  },
  "language_info": {
   "codemirror_mode": {
    "name": "ipython",
    "version": 3
   },
   "file_extension": ".py",
   "mimetype": "text/x-python",
   "name": "python",
   "nbconvert_exporter": "python",
   "pygments_lexer": "ipython3",
   "version": "3.12.10"
  }
 },
 "nbformat": 4,
 "nbformat_minor": 5
}
