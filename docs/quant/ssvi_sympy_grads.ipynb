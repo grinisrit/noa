{
 "cells": [
  {
   "cell_type": "code",
   "execution_count": 8,
   "id": "8add2888-af98-47cd-bf6d-e6b3adc5c72d",
   "metadata": {},
   "outputs": [
    {
     "data": {
      "text/latex": [
       "$\\displaystyle \\frac{\\theta_{t} \\left(\\eta k \\theta_{t}^{- \\lambda} \\left(\\alpha e^{- \\beta \\theta_{t}} + \\gamma\\right) + \\sqrt{- \\left(\\alpha e^{- \\beta \\theta_{t}} + \\gamma\\right)^{2} + \\left(\\alpha e^{- \\beta \\theta_{t}} + \\eta k \\theta_{t}^{- \\lambda} + \\gamma\\right)^{2} + 1} + 1\\right)}{2}$"
      ],
      "text/plain": [
       "theta_t*(eta*k*(alpha*exp(-beta*theta_t) + gamma)/theta_t**lambda + sqrt(-(alpha*exp(-beta*theta_t) + gamma)**2 + (alpha*exp(-beta*theta_t) + eta*k/theta_t**lambda + gamma)**2 + 1) + 1)/2"
      ]
     },
     "execution_count": 8,
     "metadata": {},
     "output_type": "execute_result"
    }
   ],
   "source": [
    "from sympy import symbols, exp, sqrt, simplify, latex\n",
    "\n",
    "\n",
    "eta, theta_t, lambda_, alpha, beta, gamma, k = symbols('eta theta_t lambda alpha beta gamma k')\n",
    "\n",
    "zeta_t = eta * theta_t**(-lambda_)\n",
    "rho_t = alpha * exp(-beta * theta_t) + gamma\n",
    "\n",
    "w = theta_t/2*(1 + rho_t*k*zeta_t + sqrt(1 - rho_t**2 + (rho_t + zeta_t*k)**2))\n",
    "\n",
    "w"
   ]
  },
  {
   "cell_type": "code",
   "execution_count": 13,
   "id": "038ac525-add7-43d7-8e8a-6c288022e80a",
   "metadata": {},
   "outputs": [
    {
     "data": {
      "text/plain": [
       "'\\\\frac{\\\\theta_{t} \\\\left(k \\\\rho_{t} \\\\theta_{t}^{- \\\\lambda} + \\\\frac{k \\\\theta_{t}^{- \\\\lambda} \\\\left(k \\\\zeta_{t} + \\\\rho_{t}\\\\right)}{\\\\sqrt{- \\\\rho_{t}^{2} + \\\\left(k \\\\zeta_{t} + \\\\rho_{t}\\\\right)^{2} + 1}}\\\\right)}{2}'"
      ]
     },
     "execution_count": 13,
     "metadata": {},
     "output_type": "execute_result"
    }
   ],
   "source": [
    "latex(w.diff(eta).subs(rho_t, \"rho_t\").subs(zeta_t, \"zeta_t\"))"
   ]
  },
  {
   "cell_type": "code",
   "execution_count": 18,
   "id": "63a63f50-83cf-40cc-9d9d-af808146248a",
   "metadata": {},
   "outputs": [
    {
     "data": {
      "text/plain": [
       "'\\\\frac{\\\\theta_{t} \\\\left(- k \\\\rho_{t} \\\\zeta_{t} \\\\log{\\\\left(\\\\theta_{t} \\\\right)} - \\\\frac{k \\\\zeta_{t} \\\\left(k \\\\zeta_{t} + \\\\rho_{t}\\\\right) \\\\log{\\\\left(\\\\theta_{t} \\\\right)}}{\\\\sqrt{- \\\\rho_{t}^{2} + \\\\left(k \\\\zeta_{t} + \\\\rho_{t}\\\\right)^{2} + 1}}\\\\right)}{2}'"
      ]
     },
     "execution_count": 18,
     "metadata": {},
     "output_type": "execute_result"
    }
   ],
   "source": [
    "latex(w.diff(lambda_).subs(rho_t, \"rho_t\").subs(zeta_t, \"zeta_t\"))"
   ]
  },
  {
   "cell_type": "code",
   "execution_count": 19,
   "id": "49877e36-7cb1-4858-9c11-12bfa0849a17",
   "metadata": {},
   "outputs": [
    {
     "data": {
      "text/plain": [
       "'\\\\frac{\\\\theta_{t} \\\\left(k \\\\zeta_{t} e^{- \\\\beta \\\\theta_{t}} + \\\\frac{- \\\\rho_{t} e^{- \\\\beta \\\\theta_{t}} + \\\\left(k \\\\zeta_{t} + \\\\rho_{t}\\\\right) e^{- \\\\beta \\\\theta_{t}}}{\\\\sqrt{- \\\\rho_{t}^{2} + \\\\left(k \\\\zeta_{t} + \\\\rho_{t}\\\\right)^{2} + 1}}\\\\right)}{2}'"
      ]
     },
     "execution_count": 19,
     "metadata": {},
     "output_type": "execute_result"
    }
   ],
   "source": [
    "latex(w.diff(alpha).subs(rho_t, \"rho_t\").subs(zeta_t, \"zeta_t\"))"
   ]
  },
  {
   "cell_type": "code",
   "execution_count": 20,
   "id": "f0065176-5e1b-48d6-945f-c7d5ccb48f3d",
   "metadata": {},
   "outputs": [
    {
     "data": {
      "text/plain": [
       "'\\\\frac{\\\\theta_{t} \\\\left(- \\\\alpha k \\\\theta_{t} \\\\zeta_{t} e^{- \\\\beta \\\\theta_{t}} + \\\\frac{\\\\alpha \\\\rho_{t} \\\\theta_{t} e^{- \\\\beta \\\\theta_{t}} - \\\\alpha \\\\theta_{t} \\\\left(k \\\\zeta_{t} + \\\\rho_{t}\\\\right) e^{- \\\\beta \\\\theta_{t}}}{\\\\sqrt{- \\\\rho_{t}^{2} + \\\\left(k \\\\zeta_{t} + \\\\rho_{t}\\\\right)^{2} + 1}}\\\\right)}{2}'"
      ]
     },
     "execution_count": 20,
     "metadata": {},
     "output_type": "execute_result"
    }
   ],
   "source": [
    "latex(w.diff(beta).subs(rho_t, \"rho_t\").subs(zeta_t, \"zeta_t\"))"
   ]
  },
  {
   "cell_type": "code",
   "execution_count": 21,
   "id": "608ef148-0359-4958-a23f-dc83cc3c8140",
   "metadata": {},
   "outputs": [
    {
     "data": {
      "text/plain": [
       "'\\\\frac{\\\\theta_{t} \\\\left(k \\\\zeta_{t} + \\\\frac{k \\\\zeta_{t}}{\\\\sqrt{- \\\\rho_{t}^{2} + \\\\left(k \\\\zeta_{t} + \\\\rho_{t}\\\\right)^{2} + 1}}\\\\right)}{2}'"
      ]
     },
     "execution_count": 21,
     "metadata": {},
     "output_type": "execute_result"
    }
   ],
   "source": [
    "latex(w.diff(gamma).subs(rho_t, \"rho_t\").subs(zeta_t, \"zeta_t\"))"
   ]
  },
  {
   "cell_type": "code",
   "execution_count": null,
   "id": "781f1cf0-cb00-47f6-bac8-5f38983f054c",
   "metadata": {},
   "outputs": [],
   "source": []
  }
 ],
 "metadata": {
  "kernelspec": {
   "display_name": "Python 3 (ipykernel)",
   "language": "python",
   "name": "python3"
  },
  "language_info": {
   "codemirror_mode": {
    "name": "ipython",
    "version": 3
   },
   "file_extension": ".py",
   "mimetype": "text/x-python",
   "name": "python",
   "nbconvert_exporter": "python",
   "pygments_lexer": "ipython3",
   "version": "3.11.0"
  }
 },
 "nbformat": 4,
 "nbformat_minor": 5
}
