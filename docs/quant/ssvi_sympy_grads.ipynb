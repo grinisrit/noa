{
 "cells": [
  {
   "cell_type": "code",
   "execution_count": 1,
   "id": "8add2888-af98-47cd-bf6d-e6b3adc5c72d",
   "metadata": {},
   "outputs": [
    {
     "data": {
      "text/latex": [
       "$\\displaystyle \\frac{\\theta_{t} \\left(\\eta k \\theta_{t}^{- \\lambda} \\left(\\alpha e^{- \\beta \\theta_{t}} + \\gamma\\right) + \\sqrt{- \\left(\\alpha e^{- \\beta \\theta_{t}} + \\gamma\\right)^{2} + \\left(\\alpha e^{- \\beta \\theta_{t}} + \\eta k \\theta_{t}^{- \\lambda} + \\gamma\\right)^{2} + 1} + 1\\right)}{2}$"
      ],
      "text/plain": [
       "theta_t*(eta*k*(alpha*exp(-beta*theta_t) + gamma)/theta_t**lambda + sqrt(-(alpha*exp(-beta*theta_t) + gamma)**2 + (alpha*exp(-beta*theta_t) + eta*k/theta_t**lambda + gamma)**2 + 1) + 1)/2"
      ]
     },
     "execution_count": 1,
     "metadata": {},
     "output_type": "execute_result"
    }
   ],
   "source": [
    "from sympy import symbols, exp, sqrt, simplify\n",
    "\n",
    "eta, theta_t, lambda_, alpha, beta, gamma, k = symbols('eta theta_t lambda alpha beta gamma k')\n",
    "\n",
    "zeta_t = eta * theta_t**(-lambda_)\n",
    "rho_t = alpha * exp(-beta * theta_t) + gamma\n",
    "\n",
    "w = theta_t/2*(1 + rho_t*k*zeta_t + sqrt(1 - rho_t**2 + (rho_t + zeta_t*k)**2))\n",
    "\n",
    "w"
   ]
  },
  {
   "cell_type": "code",
   "execution_count": 2,
   "id": "038ac525-add7-43d7-8e8a-6c288022e80a",
   "metadata": {},
   "outputs": [
    {
     "name": "stdout",
     "output_type": "stream",
     "text": [
      "theta_t*(k*rho_t/theta_t**lambda + k*(k*zeta_t + rho_t)/(theta_t**lambda*sqrt(-rho_t**2 + (k*zeta_t + rho_t)**2 + 1)))/2\n"
     ]
    }
   ],
   "source": [
    "print(w.diff(eta).subs(rho_t, \"rho_t\").subs(zeta_t, \"zeta_t\"))"
   ]
  },
  {
   "cell_type": "code",
   "execution_count": 3,
   "id": "0197adbd-6626-4193-badc-cd675cc0122a",
   "metadata": {},
   "outputs": [
    {
     "data": {
      "text/latex": [
       "$\\displaystyle \\frac{\\theta_{t} \\left(k \\rho_{t} \\theta_{t}^{- \\lambda} + \\frac{k \\theta_{t}^{- \\lambda} \\left(k \\zeta_{t} + \\rho_{t}\\right)}{\\sqrt{- \\rho_{t}^{2} + \\left(k \\zeta_{t} + \\rho_{t}\\right)^{2} + 1}}\\right)}{2}$"
      ],
      "text/plain": [
       "theta_t*(k*rho_t/theta_t**lambda + k*(k*zeta_t + rho_t)/(theta_t**lambda*sqrt(-rho_t**2 + (k*zeta_t + rho_t)**2 + 1)))/2"
      ]
     },
     "execution_count": 3,
     "metadata": {},
     "output_type": "execute_result"
    }
   ],
   "source": [
    "w.diff(eta).subs(rho_t, \"rho_t\").subs(zeta_t, \"zeta_t\")"
   ]
  },
  {
   "cell_type": "code",
   "execution_count": 4,
   "id": "87e8f97b-4091-45f2-8594-ec402344b845",
   "metadata": {},
   "outputs": [
    {
     "data": {
      "text/latex": [
       "$\\displaystyle \\frac{\\theta_{t} \\left(k \\theta_{t}^{- \\lambda} \\left(\\alpha e^{- \\beta \\theta_{t}} + \\gamma\\right) + \\frac{k \\theta_{t}^{- \\lambda} \\left(\\alpha e^{- \\beta \\theta_{t}} + \\eta k \\theta_{t}^{- \\lambda} + \\gamma\\right)}{\\sqrt{- \\left(\\alpha e^{- \\beta \\theta_{t}} + \\gamma\\right)^{2} + \\left(\\alpha e^{- \\beta \\theta_{t}} + \\eta k \\theta_{t}^{- \\lambda} + \\gamma\\right)^{2} + 1}}\\right)}{2}$"
      ],
      "text/plain": [
       "theta_t*(k*(alpha*exp(-beta*theta_t) + gamma)/theta_t**lambda + k*(alpha*exp(-beta*theta_t) + eta*k/theta_t**lambda + gamma)/(theta_t**lambda*sqrt(-(alpha*exp(-beta*theta_t) + gamma)**2 + (alpha*exp(-beta*theta_t) + eta*k/theta_t**lambda + gamma)**2 + 1)))/2"
      ]
     },
     "execution_count": 4,
     "metadata": {},
     "output_type": "execute_result"
    }
   ],
   "source": [
    "w.diff(eta)"
   ]
  },
  {
   "cell_type": "code",
   "execution_count": null,
   "id": "03521557-01c3-4053-b738-d1107dbcef18",
   "metadata": {},
   "outputs": [],
   "source": []
  },
  {
   "cell_type": "code",
   "execution_count": 5,
   "id": "63a63f50-83cf-40cc-9d9d-af808146248a",
   "metadata": {},
   "outputs": [
    {
     "name": "stdout",
     "output_type": "stream",
     "text": [
      "theta_t*(-k*rho_t*zeta_t*log(theta_t) - k*zeta_t*(k*zeta_t + rho_t)*log(theta_t)/sqrt(-rho_t**2 + (k*zeta_t + rho_t)**2 + 1))/2\n"
     ]
    }
   ],
   "source": [
    "print(w.diff(lambda_).subs(rho_t, \"rho_t\").subs(zeta_t, \"zeta_t\"))"
   ]
  },
  {
   "cell_type": "code",
   "execution_count": 6,
   "id": "90544934-20f0-44cd-a026-a83011461305",
   "metadata": {},
   "outputs": [
    {
     "data": {
      "text/latex": [
       "$\\displaystyle \\frac{\\theta_{t} \\left(- k \\rho_{t} \\zeta_{t} \\log{\\left(\\theta_{t} \\right)} - \\frac{k \\zeta_{t} \\left(k \\zeta_{t} + \\rho_{t}\\right) \\log{\\left(\\theta_{t} \\right)}}{\\sqrt{- \\rho_{t}^{2} + \\left(k \\zeta_{t} + \\rho_{t}\\right)^{2} + 1}}\\right)}{2}$"
      ],
      "text/plain": [
       "theta_t*(-k*rho_t*zeta_t*log(theta_t) - k*zeta_t*(k*zeta_t + rho_t)*log(theta_t)/sqrt(-rho_t**2 + (k*zeta_t + rho_t)**2 + 1))/2"
      ]
     },
     "execution_count": 6,
     "metadata": {},
     "output_type": "execute_result"
    }
   ],
   "source": [
    "w.diff(lambda_).subs(rho_t, \"rho_t\").subs(zeta_t, \"zeta_t\")"
   ]
  },
  {
   "cell_type": "code",
   "execution_count": 7,
   "id": "c2a45742-6f1a-4efc-b66f-4bd8cfc38851",
   "metadata": {},
   "outputs": [
    {
     "data": {
      "text/latex": [
       "$\\displaystyle \\frac{\\theta_{t} \\left(- \\eta k \\theta_{t}^{- \\lambda} \\left(\\alpha e^{- \\beta \\theta_{t}} + \\gamma\\right) \\log{\\left(\\theta_{t} \\right)} - \\frac{\\eta k \\theta_{t}^{- \\lambda} \\left(\\alpha e^{- \\beta \\theta_{t}} + \\eta k \\theta_{t}^{- \\lambda} + \\gamma\\right) \\log{\\left(\\theta_{t} \\right)}}{\\sqrt{- \\left(\\alpha e^{- \\beta \\theta_{t}} + \\gamma\\right)^{2} + \\left(\\alpha e^{- \\beta \\theta_{t}} + \\eta k \\theta_{t}^{- \\lambda} + \\gamma\\right)^{2} + 1}}\\right)}{2}$"
      ],
      "text/plain": [
       "theta_t*(-eta*k*(alpha*exp(-beta*theta_t) + gamma)*log(theta_t)/theta_t**lambda - eta*k*(alpha*exp(-beta*theta_t) + eta*k/theta_t**lambda + gamma)*log(theta_t)/(theta_t**lambda*sqrt(-(alpha*exp(-beta*theta_t) + gamma)**2 + (alpha*exp(-beta*theta_t) + eta*k/theta_t**lambda + gamma)**2 + 1)))/2"
      ]
     },
     "execution_count": 7,
     "metadata": {},
     "output_type": "execute_result"
    }
   ],
   "source": [
    "w.diff(lambda_)"
   ]
  },
  {
   "cell_type": "code",
   "execution_count": null,
   "id": "800579bb-71e1-45c6-859e-a556d6cb2b14",
   "metadata": {},
   "outputs": [],
   "source": []
  },
  {
   "cell_type": "code",
   "execution_count": 8,
   "id": "49877e36-7cb1-4858-9c11-12bfa0849a17",
   "metadata": {},
   "outputs": [
    {
     "name": "stdout",
     "output_type": "stream",
     "text": [
      "theta_t*(k*zeta_t*exp(-beta*theta_t) + (-rho_t*exp(-beta*theta_t) + (k*zeta_t + rho_t)*exp(-beta*theta_t))/sqrt(-rho_t**2 + (k*zeta_t + rho_t)**2 + 1))/2\n"
     ]
    }
   ],
   "source": [
    "print(w.diff(alpha).subs(rho_t, \"rho_t\").subs(zeta_t, \"zeta_t\"))"
   ]
  },
  {
   "cell_type": "code",
   "execution_count": 9,
   "id": "1409ce3a-3ded-4b3c-b61c-42ff18ffcd75",
   "metadata": {},
   "outputs": [
    {
     "data": {
      "text/latex": [
       "$\\displaystyle \\frac{\\theta_{t} \\left(k \\zeta_{t} e^{- \\beta \\theta_{t}} + \\frac{- \\rho_{t} e^{- \\beta \\theta_{t}} + \\left(k \\zeta_{t} + \\rho_{t}\\right) e^{- \\beta \\theta_{t}}}{\\sqrt{- \\rho_{t}^{2} + \\left(k \\zeta_{t} + \\rho_{t}\\right)^{2} + 1}}\\right)}{2}$"
      ],
      "text/plain": [
       "theta_t*(k*zeta_t*exp(-beta*theta_t) + (-rho_t*exp(-beta*theta_t) + (k*zeta_t + rho_t)*exp(-beta*theta_t))/sqrt(-rho_t**2 + (k*zeta_t + rho_t)**2 + 1))/2"
      ]
     },
     "execution_count": 9,
     "metadata": {},
     "output_type": "execute_result"
    }
   ],
   "source": [
    "w.diff(alpha).subs(rho_t, \"rho_t\").subs(zeta_t, \"zeta_t\")"
   ]
  },
  {
   "cell_type": "code",
   "execution_count": 10,
   "id": "f13666df-ca09-4564-b18e-4c662dbcd9f2",
   "metadata": {},
   "outputs": [
    {
     "data": {
      "text/latex": [
       "$\\displaystyle \\frac{\\theta_{t} \\left(\\eta k \\theta_{t}^{- \\lambda} e^{- \\beta \\theta_{t}} + \\frac{- \\left(\\alpha e^{- \\beta \\theta_{t}} + \\gamma\\right) e^{- \\beta \\theta_{t}} + \\left(\\alpha e^{- \\beta \\theta_{t}} + \\eta k \\theta_{t}^{- \\lambda} + \\gamma\\right) e^{- \\beta \\theta_{t}}}{\\sqrt{- \\left(\\alpha e^{- \\beta \\theta_{t}} + \\gamma\\right)^{2} + \\left(\\alpha e^{- \\beta \\theta_{t}} + \\eta k \\theta_{t}^{- \\lambda} + \\gamma\\right)^{2} + 1}}\\right)}{2}$"
      ],
      "text/plain": [
       "theta_t*(eta*k*exp(-beta*theta_t)/theta_t**lambda + (-(alpha*exp(-beta*theta_t) + gamma)*exp(-beta*theta_t) + (alpha*exp(-beta*theta_t) + eta*k/theta_t**lambda + gamma)*exp(-beta*theta_t))/sqrt(-(alpha*exp(-beta*theta_t) + gamma)**2 + (alpha*exp(-beta*theta_t) + eta*k/theta_t**lambda + gamma)**2 + 1))/2"
      ]
     },
     "execution_count": 10,
     "metadata": {},
     "output_type": "execute_result"
    }
   ],
   "source": [
    "w.diff(alpha)"
   ]
  },
  {
   "cell_type": "code",
   "execution_count": null,
   "id": "29f0072d-2a35-423d-8b62-5957e6470e3d",
   "metadata": {},
   "outputs": [],
   "source": []
  },
  {
   "cell_type": "code",
   "execution_count": 11,
   "id": "f0065176-5e1b-48d6-945f-c7d5ccb48f3d",
   "metadata": {},
   "outputs": [
    {
     "name": "stdout",
     "output_type": "stream",
     "text": [
      "theta_t*(-alpha*k*theta_t*zeta_t*exp(-beta*theta_t) + (alpha*rho_t*theta_t*exp(-beta*theta_t) - alpha*theta_t*(k*zeta_t + rho_t)*exp(-beta*theta_t))/sqrt(-rho_t**2 + (k*zeta_t + rho_t)**2 + 1))/2\n"
     ]
    }
   ],
   "source": [
    "print(w.diff(beta).subs(rho_t, \"rho_t\").subs(zeta_t, \"zeta_t\"))"
   ]
  },
  {
   "cell_type": "code",
   "execution_count": 12,
   "id": "95ebe38e-21ef-41bc-93e8-2f181566b305",
   "metadata": {},
   "outputs": [
    {
     "data": {
      "text/latex": [
       "$\\displaystyle \\frac{\\theta_{t} \\left(- \\alpha k \\theta_{t} \\zeta_{t} e^{- \\beta \\theta_{t}} + \\frac{\\alpha \\rho_{t} \\theta_{t} e^{- \\beta \\theta_{t}} - \\alpha \\theta_{t} \\left(k \\zeta_{t} + \\rho_{t}\\right) e^{- \\beta \\theta_{t}}}{\\sqrt{- \\rho_{t}^{2} + \\left(k \\zeta_{t} + \\rho_{t}\\right)^{2} + 1}}\\right)}{2}$"
      ],
      "text/plain": [
       "theta_t*(-alpha*k*theta_t*zeta_t*exp(-beta*theta_t) + (alpha*rho_t*theta_t*exp(-beta*theta_t) - alpha*theta_t*(k*zeta_t + rho_t)*exp(-beta*theta_t))/sqrt(-rho_t**2 + (k*zeta_t + rho_t)**2 + 1))/2"
      ]
     },
     "execution_count": 12,
     "metadata": {},
     "output_type": "execute_result"
    }
   ],
   "source": [
    "w.diff(beta).subs(rho_t, \"rho_t\").subs(zeta_t, \"zeta_t\")"
   ]
  },
  {
   "cell_type": "code",
   "execution_count": 13,
   "id": "a5506dac-63fb-4aed-835d-68b45eb9d251",
   "metadata": {},
   "outputs": [
    {
     "data": {
      "text/latex": [
       "$\\displaystyle \\frac{\\theta_{t} \\left(- \\alpha \\eta k \\theta_{t} \\theta_{t}^{- \\lambda} e^{- \\beta \\theta_{t}} + \\frac{\\alpha \\theta_{t} \\left(\\alpha e^{- \\beta \\theta_{t}} + \\gamma\\right) e^{- \\beta \\theta_{t}} - \\alpha \\theta_{t} \\left(\\alpha e^{- \\beta \\theta_{t}} + \\eta k \\theta_{t}^{- \\lambda} + \\gamma\\right) e^{- \\beta \\theta_{t}}}{\\sqrt{- \\left(\\alpha e^{- \\beta \\theta_{t}} + \\gamma\\right)^{2} + \\left(\\alpha e^{- \\beta \\theta_{t}} + \\eta k \\theta_{t}^{- \\lambda} + \\gamma\\right)^{2} + 1}}\\right)}{2}$"
      ],
      "text/plain": [
       "theta_t*(-alpha*eta*k*theta_t*exp(-beta*theta_t)/theta_t**lambda + (alpha*theta_t*(alpha*exp(-beta*theta_t) + gamma)*exp(-beta*theta_t) - alpha*theta_t*(alpha*exp(-beta*theta_t) + eta*k/theta_t**lambda + gamma)*exp(-beta*theta_t))/sqrt(-(alpha*exp(-beta*theta_t) + gamma)**2 + (alpha*exp(-beta*theta_t) + eta*k/theta_t**lambda + gamma)**2 + 1))/2"
      ]
     },
     "execution_count": 13,
     "metadata": {},
     "output_type": "execute_result"
    }
   ],
   "source": [
    "w.diff(beta)"
   ]
  },
  {
   "cell_type": "code",
   "execution_count": null,
   "id": "3b6403c6-7eaa-479b-9be9-ff5fcdc8a24a",
   "metadata": {},
   "outputs": [],
   "source": []
  },
  {
   "cell_type": "code",
   "execution_count": 14,
   "id": "608ef148-0359-4958-a23f-dc83cc3c8140",
   "metadata": {},
   "outputs": [
    {
     "name": "stdout",
     "output_type": "stream",
     "text": [
      "theta_t*(k*zeta_t + k*zeta_t/sqrt(-rho_t**2 + (k*zeta_t + rho_t)**2 + 1))/2\n"
     ]
    }
   ],
   "source": [
    "print(w.diff(gamma).subs(rho_t, \"rho_t\").subs(zeta_t, \"zeta_t\"))"
   ]
  },
  {
   "cell_type": "code",
   "execution_count": 15,
   "id": "233cb020-24d8-40e6-8738-223058242270",
   "metadata": {},
   "outputs": [
    {
     "data": {
      "text/latex": [
       "$\\displaystyle \\frac{\\theta_{t} \\left(k \\zeta_{t} + \\frac{k \\zeta_{t}}{\\sqrt{- \\rho_{t}^{2} + \\left(k \\zeta_{t} + \\rho_{t}\\right)^{2} + 1}}\\right)}{2}$"
      ],
      "text/plain": [
       "theta_t*(k*zeta_t + k*zeta_t/sqrt(-rho_t**2 + (k*zeta_t + rho_t)**2 + 1))/2"
      ]
     },
     "execution_count": 15,
     "metadata": {},
     "output_type": "execute_result"
    }
   ],
   "source": [
    "w.diff(gamma).subs(rho_t, \"rho_t\").subs(zeta_t, \"zeta_t\")"
   ]
  },
  {
   "cell_type": "code",
   "execution_count": 16,
   "id": "7ed50ee7-5997-4e90-ba2f-d3a4c1a7f7c5",
   "metadata": {},
   "outputs": [
    {
     "data": {
      "text/latex": [
       "$\\displaystyle \\frac{\\theta_{t} \\left(\\eta k \\theta_{t}^{- \\lambda} + \\frac{\\eta k \\theta_{t}^{- \\lambda}}{\\sqrt{- \\left(\\alpha e^{- \\beta \\theta_{t}} + \\gamma\\right)^{2} + \\left(\\alpha e^{- \\beta \\theta_{t}} + \\eta k \\theta_{t}^{- \\lambda} + \\gamma\\right)^{2} + 1}}\\right)}{2}$"
      ],
      "text/plain": [
       "theta_t*(eta*k/theta_t**lambda + eta*k/(theta_t**lambda*sqrt(-(alpha*exp(-beta*theta_t) + gamma)**2 + (alpha*exp(-beta*theta_t) + eta*k/theta_t**lambda + gamma)**2 + 1)))/2"
      ]
     },
     "execution_count": 16,
     "metadata": {},
     "output_type": "execute_result"
    }
   ],
   "source": [
    "w.diff(gamma)"
   ]
  },
  {
   "cell_type": "code",
   "execution_count": null,
   "id": "5cc9b616-d439-4b1e-b7ad-2ea3965e91a4",
   "metadata": {},
   "outputs": [],
   "source": []
  },
  {
   "cell_type": "code",
   "execution_count": null,
   "id": "0e4b65e7-17bc-4487-a9e0-d45864cd2443",
   "metadata": {},
   "outputs": [],
   "source": []
  },
  {
   "cell_type": "code",
   "execution_count": null,
   "id": "0fa0869c-331c-426d-9717-821356324d2e",
   "metadata": {},
   "outputs": [],
   "source": []
  }
 ],
 "metadata": {
  "kernelspec": {
   "display_name": "Python 3 (ipykernel)",
   "language": "python",
   "name": "python3"
  },
  "language_info": {
   "codemirror_mode": {
    "name": "ipython",
    "version": 3
   },
   "file_extension": ".py",
   "mimetype": "text/x-python",
   "name": "python",
   "nbconvert_exporter": "python",
   "pygments_lexer": "ipython3",
   "version": "3.11.0"
  }
 },
 "nbformat": 4,
 "nbformat_minor": 5
}
