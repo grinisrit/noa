{
 "cells": [
  {
   "cell_type": "markdown",
   "id": "493c439e",
   "metadata": {},
   "source": [
    "<h1 style=\"text-align: center;\"><b>Heston model</b></h1>\n",
    "\n",
    "### Maksim Sosnin, Roland Grinis, Dmitry Bazanov, Ivan Novikov"
   ]
  },
  {
   "cell_type": "code",
   "execution_count": null,
   "id": "74bdd96d-93b9-42df-8976-bda8e7ef4765",
   "metadata": {},
   "outputs": [],
   "source": [
    "import torch\n",
    "import numpy as np\n",
    "import matplotlib.pyplot as plt\n",
    "import pandas as pd\n",
    "import plotly.graph_objects as go\n",
    "\n",
    "from pyquant.heston_sim import *\n",
    "from pyquant.heston import *\n",
    "from pyquant.common import *\n",
    "from pyquant.barrier import price_barrier_option\n",
    "from pyquant.lsm import price_american_put_lsm\n",
    "from deribit_vol_surface import get_vol_surface\n",
    "\n",
    "from torch.utils.cpp_extension import load"
   ]
  },
  {
   "cell_type": "code",
   "execution_count": null,
   "id": "c61414f6-896f-4086-9a08-7e72b7cd0f58",
   "metadata": {},
   "outputs": [],
   "source": [
    "plt.style.use(\"dark_background\")\n",
    "pd.set_option('display.expand_frame_repr', False)\n",
    "pd.set_option(\"display.precision\", 3)\n",
    "\n",
    "RANDOM_SEED = 111222333\n",
    "np.random.seed(RANDOM_SEED)\n",
    "torch.manual_seed(RANDOM_SEED)\n",
    "\n",
    "torch.set_default_dtype(torch.float64)"
   ]
  },
  {
   "cell_type": "markdown",
   "id": "616dfcb4",
   "metadata": {},
   "source": [
    "Heston model is a stochastic volatility model for the forward dynamics in the risk neutral measure, and CIR dynamics for the variance:\n",
    "$$\n",
    "\\left\\{\n",
    "\\begin{array}{l}\n",
    "    \\text{d}X_t =  \\sqrt{V_t} X_t \\text{d}W_t^X,  \\\\\n",
    "    \\text{d}V_t =  \\kappa (\\theta - V_t)\\text{d}t + \\varepsilon \\sqrt{V_t} \\text{d} W_t^V,\n",
    "\\end{array}\\right.\n",
    "$$\n",
    "\n",
    "where underlying Brownian motions are correlated:\n",
    "$$ \\text{d} W_t^V = \\rho\\text{d}W_t^X + \\sqrt{1-\\rho^2} \\text{d}W_t,$$\n",
    "$$ -1 < \\rho < 1. $$"
   ]
  },
  {
   "cell_type": "markdown",
   "id": "cdb85630163c1fb5",
   "metadata": {
    "collapsed": false,
    "jupyter": {
     "outputs_hidden": false
    }
   },
   "source": [
    "# Heston calibration\n",
    "\n",
    "The forward price of a call option is given by:\n",
    "$$\n",
    "\\text{FV}_C(t_0, T, K) = X_{t_0} H(\\sqrt{-1}) - K \\cdot H(0)\n",
    "$$\n",
    "where\n",
    "$$\n",
    "H(z) = \\frac{1}{2} + \\frac{1}{\\pi} \\int^{\\infty}_0 \\mathbf{Re} \\left[ \\frac{e^{u\\sqrt{-1} \\log \\frac{X_{t_0}}{K}}}{u\\sqrt{-1}} \\phi(u-z,T) \\right]\\text{d}u\n",
    "$$\n",
    "with \n",
    "$$\n",
    "\\phi(u,T) = \\exp \\left( - \\frac{\\kappa\\theta\\rho T u\\sqrt{-1} }{\\varepsilon} - A + \\frac{2 \\kappa \\theta }{\\varepsilon^2}D\\right).\n",
    "$$\n",
    "Here $A = A_1 / A_2$:\n",
    "$$\n",
    "A_1 = (u^2 + u\\sqrt{-1}) \\sinh \\frac{q T}{2}, \\quad q = \\sqrt{ \\xi^2 + \\varepsilon^2 (u^2 + u\\sqrt{-1})}, \\quad \\xi = \\kappa - \\varepsilon\\rho u\\sqrt{-1},\n",
    "$$\n",
    "$$\n",
    "\\log A_2 = \\frac{q T}{2} + \\log \\left( \\frac{q +\\xi}{2 V_{t_0}} + \\frac{q  - \\xi}{2V_{t_0}}e^{-q T}\\right),\n",
    "$$\n",
    "\n",
    "and\n",
    "$$\n",
    "D = \\log \\frac{q}{V_{t_0}} + \\frac{\\kappa T}{2} - \\log A_2.\n",
    "$$\n",
    "\n",
    "The integral above can be truncated to $(0,200)$ and evaluated via Gaussian quadrature at 64 nodes for $10^{-10}$ accuracy.\n",
    "\n",
    "For semi-analytical gradient formulae w.r.t. to all model parameters see Cui et al. (2016)\n",
    "\n",
    "Heston surfaces is free of any *static arbitrage*. "
   ]
  },
  {
   "cell_type": "markdown",
   "id": "a78df73fcc566c7b",
   "metadata": {
    "collapsed": false,
    "jupyter": {
     "outputs_hidden": false
    }
   },
   "source": [
    "#### Delta computation\n",
    "See that:\n",
    "\n",
    "$$\\text{FV}_C(\\lambda X_{t_0}, T, \\lambda K) = \\lambda \\text{FV}_C(X_{t_0}, T, K).$$\n",
    "\n",
    "So, formula is homogeneous of order one. Differentiating both sides with respect to $\\lambda$:\n",
    "\n",
    "$$X_{t_0} \\frac{\\partial \\text{FV}_C}{\\partial X_{t_0}} + K \\frac{\\partial \\text{FV}_C}{\\partial K} = \\text{FV}_C.$$\n",
    "\n",
    "Comparing with equation for call-option:\n",
    "\n",
    "$$\\Delta = \\frac{\\partial \\text{FV}_C}{\\partial X_{t_0}} = H(i).$$"
   ]
  },
  {
   "cell_type": "code",
   "execution_count": null,
   "id": "1af52af7-37c5-41e1-8668-35b6af2c3c8c",
   "metadata": {},
   "outputs": [],
   "source": [
    "volsurface_chain = get_vol_surface('./deribit_vol_surface.csv')"
   ]
  },
  {
   "cell_type": "code",
   "execution_count": null,
   "id": "d0e2a0a6-e153-461a-9536-c78e218e81d7",
   "metadata": {},
   "outputs": [],
   "source": [
    "flat_yield = FlatForwardYield(\n",
    "    volsurface_chain.forward_curve().forward_yields(TimesToMaturity(np.unique(volsurface_chain.Ts))).data.mean())\n",
    "flat_yield.r"
   ]
  },
  {
   "cell_type": "code",
   "execution_count": null,
   "id": "8bacd0f3-74d1-405a-bbca-e11051b701e7",
   "metadata": {},
   "outputs": [],
   "source": [
    "calibration_weights = CalibrationWeights(np.ones_like(volsurface_chain.Ks))"
   ]
  },
  {
   "cell_type": "code",
   "execution_count": null,
   "id": "230d00d6-cc8e-4b80-8004-62723e35dc07",
   "metadata": {},
   "outputs": [],
   "source": [
    "heston_calc = HestonCalc()"
   ]
  },
  {
   "cell_type": "code",
   "execution_count": null,
   "id": "9a7c65bb-c514-4bd3-b758-b99b05c345de",
   "metadata": {},
   "outputs": [],
   "source": [
    "start_params = HestonParams(\n",
    "    Variance(0.65),\n",
    "    VarReversion(1.),\n",
    "    AverageVar(1.3),\n",
    "    VolOfVar(1.0),\n",
    "    Correlation(-0.4),\n",
    "    flat_yield\n",
    ")\n",
    "heston_calc.update_cached_params(start_params)\n",
    "heston_calc.cached_params"
   ]
  },
  {
   "cell_type": "code",
   "execution_count": null,
   "id": "62475765-c28c-4ec3-b0d0-4462c7c76126",
   "metadata": {},
   "outputs": [],
   "source": [
    "heston_params, err = heston_calc.calibrate(volsurface_chain, flat_yield, calibration_weights)\n",
    "print(err.v)"
   ]
  },
  {
   "cell_type": "code",
   "execution_count": null,
   "id": "a0c8d94e-523e-4328-8f3a-49a2bf96009c",
   "metadata": {},
   "outputs": [],
   "source": [
    "heston_params.array()"
   ]
  },
  {
   "cell_type": "code",
   "execution_count": null,
   "id": "56bde19f-924b-4f45-bffa-5ef39371f8cd",
   "metadata": {},
   "outputs": [],
   "source": [
    "full_grid, _ = volsurface_chain.strikes_maturities_grid()"
   ]
  },
  {
   "cell_type": "code",
   "execution_count": null,
   "id": "24271767-6b8f-4855-9340-3e470eeb06f3",
   "metadata": {},
   "outputs": [],
   "source": [
    "test_heston_ivs = heston_calc.surface_grid_ivs(heston_params, full_grid)"
   ]
  },
  {
   "cell_type": "code",
   "execution_count": null,
   "id": "2be085a5-4a03-460f-8f3e-923e21af685b",
   "metadata": {},
   "outputs": [],
   "source": [
    "fig = go.Figure(data=[\n",
    "    go.Scatter3d(z=volsurface_chain.sigmas, x=volsurface_chain.Ks, y=volsurface_chain.Ts, mode='markers', name='Market'),\n",
    "    go.Scatter3d(z=test_heston_ivs.data, x=volsurface_chain.Ks, y=volsurface_chain.Ts, mode='markers', name='Heston analyt.')\n",
    "])\n",
    "\n",
    "fig.update_layout(title='Volatility Surface', template=\"plotly_dark\", width=1000, height=1000)\n",
    "fig.update_scenes(xaxis_title_text='strike',\n",
    "                  yaxis_title_text='time to maturity',\n",
    "                  zaxis_title_text='implied vol')\n",
    "\n",
    "fig.show()  # use fig.show() without parameters to have interactive plot"
   ]
  },
  {
   "cell_type": "markdown",
   "id": "b305f9e5-3a5a-4b73-a8d4-87e05af45033",
   "metadata": {},
   "source": [
    "The implied volatilities obtained with the calibrated Heston model are close to the market data."
   ]
  },
  {
   "cell_type": "markdown",
   "id": "af69264a-3ada-4a95-99af-fdc3b947730a",
   "metadata": {},
   "source": [
    "Now let's compute the continuous volatility surface using the calibrated model. We will also show how the volatility surface changes with the change of Heston model parameters."
   ]
  },
  {
   "cell_type": "code",
   "execution_count": null,
   "id": "f2d9124f-ad33-41cc-94ac-41568198f935",
   "metadata": {},
   "outputs": [],
   "source": [
    "K_arr = np.linspace(800, 5000, num=100)\n",
    "T_arr = np.linspace(0.1, 1., num=100)\n",
    "K_grid, T_grid = np.meshgrid(K_arr, T_arr)\n",
    "full_grid = StrikesMaturitiesGrid(\n",
    "    volsurface_chain.forward_curve().spot(),\n",
    "    TimesToMaturity(T_grid.flatten()),\n",
    "    Strikes(K_grid.flatten())\n",
    ")"
   ]
  },
  {
   "cell_type": "code",
   "execution_count": null,
   "id": "69e94f32-6173-48d6-b92e-2444adb936d1",
   "metadata": {},
   "outputs": [],
   "source": [
    "calibrated_heston_ivs = heston_calc.surface_grid_ivs(heston_params, full_grid).data.reshape(100, 100)"
   ]
  },
  {
   "cell_type": "code",
   "execution_count": null,
   "id": "1f8e380d-1186-4068-88b4-1517f9910cc9",
   "metadata": {},
   "outputs": [],
   "source": [
    "heston_params.v0 *= 2\n",
    "calibrated_heston_ivs_v0 = heston_calc.surface_grid_ivs(heston_params, full_grid).data.reshape(100, 100)\n",
    "heston_params.v0 /= 2"
   ]
  },
  {
   "cell_type": "code",
   "execution_count": null,
   "id": "dd1bf90d-27a2-4770-ac65-ca1f66aa0fd8",
   "metadata": {},
   "outputs": [],
   "source": [
    "heston_params.kappa *= 3\n",
    "calibrated_heston_ivs_kappa = heston_calc.surface_grid_ivs(heston_params, full_grid).data.reshape(100, 100)\n",
    "heston_params.kappa /= 3"
   ]
  },
  {
   "cell_type": "code",
   "execution_count": null,
   "id": "9ba269e2-b6b0-43ad-8daf-632bdce6260e",
   "metadata": {},
   "outputs": [],
   "source": [
    "heston_params.rho *= 2\n",
    "calibrated_heston_ivs_rho = heston_calc.surface_grid_ivs(heston_params, full_grid).data.reshape(100, 100)\n",
    "heston_params.rho /= 2"
   ]
  },
  {
   "cell_type": "code",
   "execution_count": null,
   "id": "fea94a2d-eca6-4c6b-92ae-4bfed20d5528",
   "metadata": {},
   "outputs": [],
   "source": [
    "heston_params.theta *= 2\n",
    "calibrated_heston_ivs_theta = heston_calc.surface_grid_ivs(heston_params, full_grid).data.reshape(100, 100)\n",
    "heston_params.theta /= 2"
   ]
  },
  {
   "cell_type": "code",
   "execution_count": null,
   "id": "7bd41c81-61c5-420d-a3df-f6b68bb941f3",
   "metadata": {},
   "outputs": [],
   "source": [
    "heston_params.eps *= 2\n",
    "calibrated_heston_ivs_eps = heston_calc.surface_grid_ivs(heston_params, full_grid).data.reshape(100, 100)\n",
    "heston_params.eps /= 2"
   ]
  },
  {
   "cell_type": "code",
   "execution_count": null,
   "id": "7854eff9-2b45-4871-971e-ac4db1cfe3bb",
   "metadata": {},
   "outputs": [],
   "source": [
    "fig = go.Figure(data=[\n",
    "    go.Surface(z=calibrated_heston_ivs, x=K_grid, y=T_grid, colorscale='Tealgrn_r', name='base'),\n",
    "    # go.Surface(z=calibrated_heston_ivs_v0, x=K_grid, y=T_grid, colorscale='Delta', name='+v0'),\n",
    "    go.Surface(z=calibrated_heston_ivs_kappa, x=K_grid, y=T_grid, colorscale='gray', name='+kappa'),\n",
    "    # go.Surface(z=calibrated_heston_ivs_rho, x=K_grid, y=T_grid, colorscale='spectral', name='-rho'),\n",
    "    # go.Surface(z=calibrated_heston_ivs_theta, x=K_grid, y=T_grid, colorscale='turbo', name='theta'),\n",
    "    go.Surface(z=calibrated_heston_ivs_eps, x=K_grid, y=T_grid, colorscale='electric', name='+eps'),\n",
    "])\n",
    "fig.update_layout(title='Volatility Surface', template=\"plotly_dark\", width=1000, height=1000)\n",
    "fig.update_scenes(xaxis_title_text='strike',\n",
    "                  yaxis_title_text='time to maturity',\n",
    "                  zaxis_title_text='implied vol')\n",
    "fig.update_traces(showlegend=True, showscale=False)\n",
    "\n",
    "fig.show()  # use fig.show() without parameters to have interactive plot"
   ]
  },
  {
   "cell_type": "markdown",
   "id": "adb8496f-65cd-428b-ad08-4432a087a569",
   "metadata": {},
   "source": [
    "# Heston simulation\n",
    "\n",
    "$$d \\ln X(t) = -\\frac{1}{2} V(t) dt + \\sqrt{V(t)} d W_X(t),$$\n",
    "\n",
    "$$d V(t) = \\kappa(\\theta-V(t)) dt + \\varepsilon \\sqrt{V(t)} d W_V(t),$$\n",
    "\n",
    "$$d W_X(t) d W_V(t) = \\rho dt.$$\n",
    "\n",
    "We can impose the Feller condition:\n",
    "\n",
    "$$2\\kappa\\theta > \\varepsilon^2$$\n",
    "\n",
    "to ensure that the variance $V_t$ stays strictly positive. For real markets, Feller condition is hardly satisfied. For continious time, this is not an issue, because at the moment the variance reaches 0, it will instantly go away from 0. For discretization is requires special consideration for different schemes."
   ]
  },
  {
   "cell_type": "markdown",
   "id": "93cb949e",
   "metadata": {},
   "source": [
    "### Euler Discretization Scheme\n",
    "\n",
    "$$\n",
    "\\begin{aligned}\n",
    "\\ln \\hat{X}(t+\\Delta) & =\\ln \\hat{X}(t)-\\frac{1}{2} \\hat{V}(t) \\Delta+\\sqrt{\\hat{V}(t)} Z_X \\sqrt{\\Delta}, \\\\\n",
    "\\hat{V}(t+\\Delta) & =V(t)+\\kappa(\\theta-\\hat{V}(t)) \\Delta+\\varepsilon \\sqrt{\\hat{V}(t)} Z_V \\sqrt{\\Delta},\n",
    "\\end{aligned}\n",
    "$$\n",
    "\n",
    "where $Z_X$ and $Z_V$ are standardized Gaussian variables with correlation $\\rho$. So they can be computed as follows:\n",
    "\n",
    "$$\n",
    "\\begin{array}{l}\n",
    "    Z_V = \\Phi^{-1}\\left(U_1\\right), \\\\\n",
    "    Z_X = \\rho Z_V+\\sqrt{1-\\rho^2} \\Phi^{-1}\\left(U_2\\right),\n",
    "\\end{array}\n",
    "$$\n",
    "\n",
    "where $U_1$ and $U_2$ are independent uniform samples, and $Φ^{−1}$ is the inverse cumulative Gaussian distribution function.\n",
    "\n",
    "However, the discrete process for $V$ can become negative with non-zero probability, which in turn would make computation of $\\sqrt{\\hat{V}}$ impossible and cause the time-stepping scheme to fail. The scheme that appears to produce the smallest discretization bias can be written on the form:\n",
    "\n",
    "$$\n",
    "\\begin{aligned}\n",
    "\\ln \\hat{X}(t+\\Delta) & =\\ln \\hat{X}(t)-\\frac{1}{2} \\hat{V}(t)^{+} \\Delta+\\sqrt{\\hat{V}(t)^{+}} Z_X \\sqrt{\\Delta} \\\\\n",
    "\\hat{V}(t+\\Delta) & =\\hat{V}(t)+\\kappa\\left(\\theta-\\hat{V}(t)^{+}\\right) \\Delta+\\varepsilon \\sqrt{\\hat{V}(t)^{+}} Z_V \\sqrt{\\Delta},\n",
    "\\end{aligned}\n",
    "$$\n",
    "where we use the notation $x^{+}=\\max (x, 0)$."
   ]
  },
  {
   "cell_type": "markdown",
   "id": "dea0534e",
   "metadata": {},
   "source": [
    "### Bias free Scheme\n",
    "\n",
    "To obtain a bias-free scheme for sampling the asset price process, first integrate the SDE for $V(t)$, to yield\n",
    "$$\n",
    "V(t+\\Delta)=V(t)+\\int_t^{t+\\Delta} \\kappa(\\theta-V(u)) d u+\\varepsilon \\int_t^{t+\\Delta} \\sqrt{V(u)} d W_V(u)\n",
    "$$\n",
    "or, equivalently,\n",
    "$$\n",
    "\\int_t^{t+\\Delta} \\sqrt{V(u)} d W_V(u)=\\varepsilon^{-1}\\left(V(t+\\Delta)-V(t)-\\kappa \\theta \\Delta+\\kappa \\int_t^{t+\\Delta} V(u) d u\\right)\n",
    "$$\n",
    "A Cholesky decomposition shows that\n",
    "$$\n",
    "d \\ln X(t)=-\\frac{1}{2} V(t) d t+\\rho \\sqrt{V(t)} d W_V(t)+\\sqrt{1-\\rho^2} \\sqrt{V(t)} d W(t)\n",
    "$$\n",
    "where $W$ is a Brownian motion independent of $W_V$. In integral form,\n",
    "$$\n",
    "\\begin{aligned}\n",
    "\\ln X(t+\\Delta)=\\ln X(t)+\\frac{\\rho}{\\varepsilon} & (V(t+\\Delta)-V(t)-\\kappa \\theta \\Delta) \\\\\n",
    "& +\\left(\\frac{\\kappa \\rho}{\\varepsilon}-\\frac{1}{2}\\right) \\int_t^{t+\\Delta} V(u) d u+\\sqrt{1-\\rho^2} \\int_t^{t+\\Delta} \\sqrt{V(u)} d W(u)\n",
    "\\end{aligned}\n",
    "$$\n",
    "\n",
    "As $W$ is independent of $V$, conditional on $V(t)$ and $\\int_t^{t+\\Delta} V(u) d u$, the Ito integral $\\int_t^{t+\\Delta} \\sqrt{V(u)} d W(u)$ is Gaussian with mean zero and variance $\\int_t^{t+\\Delta} V(u) d u$."
   ]
  },
  {
   "cell_type": "markdown",
   "id": "662ebf2c",
   "metadata": {},
   "source": [
    "### Process for $V$ (CIR)\n",
    "\n",
    "Non-central chi-squared distribution:\n",
    "$$\n",
    "\\mathbb{P}\\left(V_{t + \\Delta}<V \\mid V_{t}\\right) \\quad = \\quad F_{\\chi'^{2}}\\left(\\frac{4 \\kappa V}{\\varepsilon^{2}\\left(1-e^{-\\kappa \\Delta}\\right)} ; \\frac{4 \\kappa \\theta}{\\varepsilon^{2}}, \\frac{4 V_{t} \\kappa e^{-\\kappa \\Delta}}{\\varepsilon^{2}\\left(1-e^{-\\kappa \\Delta}\\right)}\\right) \\quad\n",
    "$$\n",
    "\n",
    "\n",
    "$$\n",
    "\\begin{aligned}\n",
    "m = \\mathbb{E}\\left( V_{t+\\Delta} \\mid V_t \\right) \\quad & = \\quad \\theta+(\\hat{V}(t)-\\theta) e^{-\\kappa \\Delta} \\\\\n",
    "s^2 = Var\\left( V_{t+\\Delta} \\mid V_t \\right) \\quad & = \\quad \\frac{\\hat{V}(t) \\varepsilon^2 e^{-\\kappa \\Delta}}{\\kappa}\\left(1-e^{-\\kappa \\Delta}\\right)+\\frac{\\theta \\varepsilon^2}{2 \\kappa}\\left(1-e^{-\\kappa \\Delta}\\right)^2\n",
    "\\end{aligned}\n",
    "$$\n"
   ]
  },
  {
   "cell_type": "markdown",
   "id": "f40ec8e9",
   "metadata": {},
   "source": [
    "### Quadratic exponential (QE) approximation\n",
    "\n",
    "Switching rule:\n",
    "- $ V_t \\gg 1: \\quad V_{t+\\Delta} \\approx a \\left( b + Z_V \\right)^2,\\quad \\text{where } Z_V \\sim \\mathcal{N}(0,1).$\n",
    "- $V_t \\ll 1: \\quad f_{V_{t+\\Delta}}(v) \\approx p \\delta(v) + \\beta(1-\\rho) e^{-\\beta v}.$\n",
    "\n",
    "Fast sampling for PDF $f_{V_{t+\\Delta}}(v)$:\n",
    "$$\n",
    "\\begin{aligned}\n",
    "F_{V_{t+\\Delta}}^{-1}(u) & \\approx\\left\\{\n",
    "    \\begin{array}{l}\n",
    "        0,\\ \\ 0 \\leq u \\leq p, \\\\\n",
    "        \\beta^{-1} \\ln \\left(\\frac{1-p}{1-u}\\right),\\ \\ p \\leq u \\leq 1,\n",
    "    \\end{array}\\right. \\\\\n",
    "\\end{aligned}\n",
    "$$\n",
    "where $u \\sim \\mathcal{U}[0,1]$ – uniform."
   ]
  },
  {
   "cell_type": "markdown",
   "id": "7d6ad886",
   "metadata": {},
   "source": [
    "### Generating random numbers\n",
    "\n",
    "Pseudo-random integers:\n",
    "$$\n",
    "0 \\leq N_k \\leq N, \\quad \\quad N_{k+1} = f(N_k) \\equiv N\n",
    "$$\n",
    "\n",
    "$$\n",
    "u \\sim \\mathcal{U}[0,1], \\quad \\quad u_k = \\frac{N_k}{N}.\n",
    "$$\n",
    "\n",
    "Box-Muller method:\n",
    "$$ u_1 u_2 \\sim \\mathcal{U}[0,1] \\quad \\theta = 2\\pi u_2 \\quad p = \\sqrt{-2 \\ln{u_1}} $$\n",
    "\n",
    "$$ Z_1 = p\\cos{\\theta} $$\n",
    "$$ Z_2 = p\\sin{\\theta} $$\n",
    "Then $Z_1$ and $Z_2$ are independent random variables with a standard normal distribution $\\mathcal{N}(0,1).$\n"
   ]
  },
  {
   "cell_type": "markdown",
   "id": "9132605d",
   "metadata": {},
   "source": [
    "### Computing parameters $(a,\\ b,\\ p,\\ \\beta)$\n",
    "\n",
    "$\\psi \\equiv \\frac{s^{2}}{m^{2}} \\quad \\text { if } \\psi \\leqslant 2$:\n",
    "$$\n",
    "\\begin{array}{l}\n",
    "b^{2}=2 \\psi^{-1}-1+\\sqrt{2 \\psi^{-1}} \\sqrt{2 \\psi^{-1}-1} \\geq 0 \\\\\n",
    "a=\\frac{m}{1+b^{2}} \\\\\n",
    "\\implies \\text {moment matching at order 2.}\n",
    "\\end{array}\n",
    "$$\n",
    "\n",
    "if $\\psi \\geqslant 1$:\n",
    "$$\n",
    "\\begin{array}{l}\n",
    "p=\\frac{\\psi-1}{\\psi+2} \\in[0,1) \\\\\n",
    "\\beta=\\frac{1-p}{m}=\\frac{2}{m(1+\\psi)} \\\\\n",
    "\\implies \\text {moment matching at order 2.}\n",
    "\\end{array}\n",
    "$$\n",
    "\n",
    "Switching rule: $\\psi_{c} \\in [1,2]$, e.g. $\\psi = 1.5$."
   ]
  },
  {
   "cell_type": "markdown",
   "id": "8aeba1ca",
   "metadata": {},
   "source": [
    "### Moment matching technique\n",
    "\n",
    "$$\n",
    "\\begin{array}{l}\n",
    "Y_{t_{j+1}}^{k}=\\hat{V}_{t_{j+1}}^{k}-\\hat{V}_{t_{j}}^{k}, \\quad \\Delta_{j}=t_{j+1}-t_{j}, \\quad \\hat{V}_{t_{N}}^{k}=\\sum_{j=1}^{N} \\hat{Y}_{t_{j}}^{k} \\\\\n",
    "\\Delta=t_{N}-t_{0} ; \\quad k=1, \\ldots, M \\\\\n",
    "\\hat{m}_{T}=\\frac{1}{M} \\sum_{k} \\hat{V}_{t_{N}}^{k} \\\\\n",
    "\\hat{S}_{T}^{2}=\\frac{1}{M-1} \\sum_{k}\\left(\\hat{V}_{t_{N}}^{k}-\\hat{m}\\right)^{2}\n",
    "\\end{array}\n",
    "$$\n",
    "\n",
    "$$\n",
    "\\begin{array}{l}\n",
    "\\hat{m}_{T} = M_T \\quad \\quad m_T = \\mathbb{E}[V_T \\mid V_{t_0}] \\\\\n",
    "\\hat{S}^{2}_T = S^{2}_T \\quad \\quad S^{2}_T = Var[V_T \\mid V_{t_0}] \\\\\n",
    "\\implies V^{k}_T = m_T + \\frac{S_T}{\\hat{S}_T} (\\hat{V}^{k}_T - \\hat{m}_T) = \\sum_{j=1}^{N} \\left(\\frac{m_T}{N} + \\frac{S_T}{\\hat{S}_T} \\left(\\hat{Y}^{k}_{t_j} - \\frac{m_T}{N}\\right)\\right).\n",
    "\\end{array}\n",
    "$$\n"
   ]
  },
  {
   "cell_type": "markdown",
   "id": "bc230253",
   "metadata": {},
   "source": [
    "### Simulating $\\ln{X_{t+\\Delta}}$\n",
    "\n",
    "Euler Scheme for $\\ln{X_{t+\\Delta}}$ with QE sampling for $V_{t+\\Delta}$ leads to **correlation leaks**.\n",
    "\n",
    "We use approximation\n",
    "$$\n",
    "\\begin{array}{l}\n",
    " \\int_{t}^{t+\\Delta} V_{u} d u \\approx \\Delta \\left[\\gamma_{1}V_{t} + \\gamma_{2}V_{t+\\Delta}\\right],\n",
    "\\end{array}\n",
    "$$\n",
    "where\n",
    "\n",
    "$$\n",
    "\\begin{array}{l}\n",
    "    \\gamma_{1} + \\gamma_{2} = 1 \\\\\n",
    "    \\gamma_{1}, \\gamma_{2} \\geq 0,\n",
    "\\end{array}\n",
    "$$\n",
    "\n",
    "satisfying the regularity condition:\n",
    "$$\n",
    "\\mathbb{E}\\left(X_{t + \\Delta} \\mid X_{t}\\right)<\\infty \\Longrightarrow \\frac{\\rho}{\\varepsilon}\\left(1+\\kappa \\gamma_{2} \\Delta\\right)-\\frac{1}{2} \\gamma_{2} \\Delta \\rho^{2}<\\frac{2 \\kappa}{\\varepsilon^{2} (1-e^{-\\kappa \\Delta})}.\n",
    "$$\n",
    "\n",
    "We use discretization scheme\n",
    "$$\n",
    "\\begin{aligned}\n",
    "\\ln \\hat{X}(t+\\Delta)= & \\ln \\hat{X}(t) + \\frac{\\rho}{\\varepsilon} \\left( \\hat{V}(t+\\Delta) - \\hat{V}(t)-\\kappa \\theta \\Delta \\right)+\\Delta\\left(\\frac{\\kappa \\rho}{\\varepsilon}-\\frac{1}{2}\\right)\\left(\\gamma_1 \\hat{V}(t)+\\gamma_2 \\hat{V}(t+\\Delta)\\right) \\\\\n",
    "& +\\sqrt{\\Delta} \\sqrt{1-\\rho^2} \\sqrt{\\gamma_1 \\hat{V}(t)+\\gamma_2 \\hat{V}(t+\\Delta)} \\cdot Z \\\\\n",
    "= & \\ln \\hat{X}(t)+K_0+K_1 \\hat{V}(t)+K_2 \\hat{V}(t+\\Delta)+\\sqrt{K_3 \\hat{V}(t)+K_4 \\hat{V}(t+\\Delta)} \\cdot Z,\n",
    "\\end{aligned}\n",
    "$$\n",
    "where $Z$ is a standard Gaussian random variable, independent of $\\hat{V}$, and $K_0, \\ldots, K_4$ are given by\n",
    "$$\n",
    "\\begin{aligned}\n",
    "& K_0=-\\frac{\\rho \\kappa \\theta}{\\varepsilon} \\Delta, \\quad K_1=\\gamma_1 \\Delta\\left(\\frac{\\kappa \\rho}{\\varepsilon}-\\frac{1}{2}\\right)-\\frac{\\rho}{\\varepsilon}, \\\\\n",
    "& K_2=\\gamma_2 \\Delta\\left(\\frac{\\kappa \\rho}{\\varepsilon}-\\frac{1}{2}\\right)+\\frac{\\rho}{\\varepsilon}, \\quad K_3=\\gamma_1 \\Delta\\left(1-\\rho^2\\right), \\quad K_4=\\gamma_2 \\Delta\\left(1-\\rho^2\\right) .\n",
    "\\end{aligned}\n",
    "$$\n"
   ]
  },
  {
   "cell_type": "markdown",
   "id": "d92486a5",
   "metadata": {},
   "source": [
    "### Enforcing Martingale property $\\mathbb{E}\\left(X_{t+\\Delta} \\mid X_{t}\\right)=X_{t} $\n",
    "Instead of $K_0$, use\n",
    "\n",
    "$$\n",
    "\\begin{array}{l}\n",
    "K_{0}^{*} = \\left\\{\n",
    "    \\begin{array}{l}\n",
    "        -\\frac{A b^{2} a}{1-2 A a}+\\frac{1}{2} \\ln (1-2 A a)-\\left(K_{1}+\\frac{1}{2} \\Delta \\gamma_1\\right), \\quad \\psi \\leq \\psi_{c} \\\\\n",
    "        -\\ln \\left(\\frac{\\beta(1-\\rho)}{\\beta-A}\\right)-\\left(K_{1}+\\frac{1}{2} \\Delta \\gamma_{1}\\right), \\quad \\psi > \\psi_{c}, \\\\\n",
    "    \\end{array}\\right.\n",
    "\\end{array}\n",
    "$$\n",
    "\n",
    "where\n",
    "\n",
    "$$\n",
    "A=\\frac{\\rho}{\\varepsilon^{2}}\\left(1+\\kappa \\gamma_{2} \\Delta\\right)-\\frac{1}{2} \\gamma_{2} \\Delta\\rho^{2}.\n",
    "$$"
   ]
  },
  {
   "cell_type": "markdown",
   "id": "542c1aa6",
   "metadata": {},
   "source": [
    "### Variance reduction: antithetic variates\n",
    "\n",
    "$$\n",
    "\\begin{array}{l}\n",
    "u \\sim \\mathcal{U}(0,1) \\longrightarrow 1-u \\sim \\mathcal{U}(0,1) \\longrightarrow \\hat{V}=\\mathbb{E}\\left[P\\left(V_{T}\\right)\\right] \\\\\n",
    "Z \\sim \\mathcal{N}(0,1) \\longrightarrow-Z \\sim \\mathcal{N}(0,1) \\longrightarrow V^{-} \\\\\n",
    "V_{A V}=\\frac{1}{2}\\left(\\hat{V}+V^{-}\\right) \\\\\n",
    "\\operatorname{Var}\\left[V_{A V}\\right]=\\frac{1}{4} \\operatorname{Var}\\left[\\hat{V}+V^{-}\\right]=\\frac{1}{4} \\operatorname{Var} \\hat{V}+\\frac{1}{4} \\operatorname{Var} V^{-}+\\frac{1}{2} \\operatorname{Cov}\\left(\\hat{V}, V^{-}\\right) \\\\\n",
    "\\left|\\operatorname{cov}\\left(\\hat{V}, V^{-}\\right)\\right| \\leqslant \\frac{1}{2} \\operatorname{Var} \\hat{V}+\\frac{1}{2} \\operatorname{Var} V^{-} \\Rightarrow \\\\\n",
    " \\Rightarrow \\operatorname{Var V}_{A V} \\leqslant \\operatorname{Var} \\hat{V} \\text{ - negative correlation effect for antithetics}\n",
    "\\end{array}\n",
    "$$\n",
    "\n",
    "### Variance reduction: control variates\n",
    "$$\n",
    "\\begin{array}{l}\n",
    "\\hat{V} = \\mathbb{E}[P(V_T)] \\\\\n",
    "\\text{C – analytic formula (like a vanilla call)} \\\\\n",
    "\\hat{C} = \\mathbb{E}[P_C(V_T)] \\\\\n",
    "V = \\hat{V} + \\alpha (C - \\hat{C}) \\\\\n",
    "\\end{array}\n",
    "$$\n"
   ]
  },
  {
   "cell_type": "markdown",
   "id": "fb3c5830",
   "metadata": {},
   "source": [
    "---"
   ]
  },
  {
   "cell_type": "markdown",
   "id": "e8a2ef726605507f",
   "metadata": {
    "collapsed": false,
    "jupyter": {
     "outputs_hidden": false
    }
   },
   "source": [
    "By the principle of risk-neutral valuation, the present value of a derivative contract with possibly path-dependent payoff $\\mathcal{P}$ is given by discounted expectation of the payoff:\n",
    "\n",
    "$$\n",
    "V(S_0, 0) = e^{-rT} \\cdot \\mathbb{E}_Q[\\mathcal{P}\\, |\\, S_t\\ \\text{starting from}\\ S_0],\n",
    "$$\n",
    "\n",
    "where $S_t$ is the price of the underlying asset at time $t$, $V(S_t, t)$ is the value of a contract, $\\mathbb{E}_Q$ is the expectation under a risk-neutral measure (see notebook `introduction.ipynb`, section \"Risk Neutral Valuation\").\n",
    "\n",
    "The idea of Monte-Carlo pricing is to simulate a big number of paths of the underlying asset and estimate $\\mathbb{E}_Q$ as the mean of the payoffs.\n",
    "\n",
    "We use PyTorch for all mathematical operations in simulation algorithm, so we can in fact apply autograd to the calculated price in order to compute the Greeks for arbitrary derivatives. We will demonstrate this later on in this notebook.\n",
    "\n",
    "We provide two identical implementations of simulation algorithm in Python and C++. Throughout this notebook we will use the Python implementation. The C++ source code is located in `src/noa/quant/heston_sim.hh` and can be loaded as a PyTorch extension."
   ]
  },
  {
   "cell_type": "code",
   "execution_count": null,
   "id": "8a4751df5918920f",
   "metadata": {
    "ExecuteTime": {
     "end_time": "2024-03-08T10:39:15.414037Z",
     "start_time": "2024-03-08T10:39:13.985306Z"
    },
    "collapsed": false,
    "jupyter": {
     "outputs_hidden": false
    }
   },
   "outputs": [],
   "source": [
    "N_PATHS = 10000\n",
    "DT = 1 / 365\n",
    "N_STEPS = round(volsurface_chain.Ts[-1] / DT)\n",
    "\n",
    "S0 = torch.tensor([volsurface_chain.S])\n",
    "V0 = torch.tensor([heston_params.v0])"
   ]
  },
  {
   "cell_type": "code",
   "execution_count": null,
   "id": "fd425700",
   "metadata": {},
   "outputs": [],
   "source": [
    "import pyquant.heston_sim as py_heston_sim"
   ]
  },
  {
   "cell_type": "code",
   "execution_count": null,
   "id": "752f17c1",
   "metadata": {},
   "outputs": [],
   "source": [
    "heston_paths, var_paths = py_heston_sim.generate_heston(\n",
    "    N_PATHS,\n",
    "    N_STEPS,\n",
    "    DT,\n",
    "    S0,\n",
    "    V0,\n",
    "    torch.tensor([heston_params.kappa]),\n",
    "    torch.tensor([heston_params.theta]),\n",
    "    torch.tensor([heston_params.eps]),\n",
    "    torch.tensor([heston_params.rho]),\n",
    "    torch.tensor([heston_params.r]),\n",
    "    0.0 # min_var\n",
    ")"
   ]
  },
  {
   "cell_type": "code",
   "execution_count": null,
   "id": "3fc6af695ab441e5",
   "metadata": {
    "ExecuteTime": {
     "end_time": "2024-03-08T10:37:07.920051Z",
     "start_time": "2024-03-08T10:37:07.892746Z"
    },
    "collapsed": false,
    "jupyter": {
     "outputs_hidden": false
    }
   },
   "outputs": [],
   "source": [
    "time_arr = np.linspace(0, N_STEPS * DT, N_STEPS + 1)"
   ]
  },
  {
   "cell_type": "code",
   "execution_count": null,
   "id": "3e00447700719e9e",
   "metadata": {
    "ExecuteTime": {
     "end_time": "2024-03-08T10:37:07.949260Z",
     "start_time": "2024-03-08T10:37:07.921180Z"
    },
    "collapsed": false,
    "jupyter": {
     "outputs_hidden": false
    }
   },
   "outputs": [],
   "source": [
    "def plot_heston_path(i):\n",
    "    plt.figure(figsize=(11, 6))\n",
    "    plt.plot(time_arr, heston_paths[i].detach().numpy())\n",
    "    plt.ylabel('S')\n",
    "    plt.xlabel('Time')\n",
    "    plt.grid()\n",
    "    plt.show()\n",
    "\n",
    "    plt.figure(figsize=(11, 6))\n",
    "    plt.plot(time_arr, var_paths[i].detach().numpy())\n",
    "    plt.axhline(heston_params.theta, ls='--', label='θ', lw=1, c='orange')\n",
    "    plt.ylabel('Variance (CIR process)')\n",
    "    plt.xlabel('Time')\n",
    "    plt.legend()\n",
    "    plt.grid()\n",
    "    plt.show()"
   ]
  },
  {
   "cell_type": "code",
   "execution_count": null,
   "id": "4cdd5f73c102ccd4",
   "metadata": {
    "ExecuteTime": {
     "end_time": "2024-03-08T10:37:08.198504Z",
     "start_time": "2024-03-08T10:37:07.950192Z"
    },
    "collapsed": false,
    "jupyter": {
     "outputs_hidden": false
    }
   },
   "outputs": [],
   "source": [
    "plot_heston_path(3)"
   ]
  },
  {
   "cell_type": "markdown",
   "id": "e5f067693b187a4",
   "metadata": {
    "collapsed": false,
    "jupyter": {
     "outputs_hidden": false
    }
   },
   "source": [
    "## Vanilla Call Option"
   ]
  },
  {
   "cell_type": "code",
   "execution_count": null,
   "id": "b91c790b",
   "metadata": {
    "ExecuteTime": {
     "end_time": "2024-03-08T11:08:07.048277Z",
     "start_time": "2024-03-08T11:08:07.020957Z"
    }
   },
   "outputs": [],
   "source": [
    "def call_payoff(S, K):\n",
    "    return torch.maximum(S - K, torch.zeros_like(S))\n",
    "\n",
    "def put_payoff(S, K):\n",
    "    return torch.maximum(K - S, torch.zeros_like(S))\n",
    "\n",
    "def get_premium(payoffs, r, T):\n",
    "    return torch.exp(-r * T) * torch.mean(payoffs)"
   ]
  },
  {
   "cell_type": "code",
   "execution_count": null,
   "id": "fd516c61",
   "metadata": {
    "ExecuteTime": {
     "end_time": "2024-03-08T10:37:08.276594Z",
     "start_time": "2024-03-08T10:37:08.223636Z"
    }
   },
   "outputs": [],
   "source": [
    "euro_prices_mc = []\n",
    "Fs = volsurface_chain.S * np.exp(heston_params.r * volsurface_chain.Ts)\n",
    "is_call = Fs <= volsurface_chain.Ks\n",
    "\n",
    "for i in range(len(volsurface_chain.Ks)):\n",
    "    expiry_idx = np.argmin(np.abs(time_arr - volsurface_chain.Ts[i]))\n",
    "    if is_call[i]:\n",
    "        payoffs = call_payoff(heston_paths[:, expiry_idx], volsurface_chain.Ks[i])\n",
    "    else:\n",
    "        payoffs = put_payoff(heston_paths[:, expiry_idx], volsurface_chain.Ks[i])\n",
    "        \n",
    "    price = get_premium(\n",
    "        payoffs = payoffs,\n",
    "        r = torch.tensor([heston_params.r]),\n",
    "        T = DT * expiry_idx\n",
    "    )\n",
    "    euro_prices_mc.append(price.item())"
   ]
  },
  {
   "cell_type": "code",
   "execution_count": null,
   "id": "1383a0d244abebcf",
   "metadata": {
    "ExecuteTime": {
     "end_time": "2024-03-08T10:37:08.304767Z",
     "start_time": "2024-03-08T10:37:08.277519Z"
    },
    "collapsed": false,
    "jupyter": {
     "outputs_hidden": false
    }
   },
   "outputs": [],
   "source": [
    "def get_ivs(pvs: np.ndarray, grid: StrikesMaturitiesGrid, r: float):\n",
    "    ivs = np.zeros_like(pvs)\n",
    "    r_f = ForwardYield(r)\n",
    "    r_d = DiscountYield(r)\n",
    "    S = grid.spot()\n",
    "    bs_calc = BSCalc()\n",
    "\n",
    "    for i in range(len(pvs)):\n",
    "        T = TimeToMaturity(grid.Ts[i])\n",
    "        F = Forward(S, r_f, r_d, T)\n",
    "        ivs[i] = bs_calc.implied_vol(F, Strike(grid.Ks[i]), Premium(pvs[i])).sigma\n",
    "\n",
    "    return ImpliedVols(ivs)"
   ]
  },
  {
   "cell_type": "code",
   "execution_count": null,
   "id": "2cf8b449d97544b8",
   "metadata": {
    "ExecuteTime": {
     "end_time": "2024-03-08T10:37:08.955317Z",
     "start_time": "2024-03-08T10:37:08.306492Z"
    },
    "collapsed": false,
    "jupyter": {
     "outputs_hidden": false
    }
   },
   "outputs": [],
   "source": [
    "test_heston_ivs_montecarlo = get_ivs(\n",
    "    np.array(euro_prices_mc),\n",
    "    volsurface_chain.strikes_maturities_grid()[0],\n",
    "    heston_params.r\n",
    ")"
   ]
  },
  {
   "cell_type": "code",
   "execution_count": null,
   "id": "bec8fc3362d5d34d",
   "metadata": {
    "ExecuteTime": {
     "end_time": "2024-03-08T10:37:10.416057Z",
     "start_time": "2024-03-08T10:37:08.956452Z"
    },
    "collapsed": false,
    "jupyter": {
     "outputs_hidden": false
    }
   },
   "outputs": [],
   "source": [
    "fig = go.Figure(data=[\n",
    "    go.Scatter3d(z=volsurface_chain.sigmas, x=volsurface_chain.Ks, y=volsurface_chain.Ts,\n",
    "                 mode='markers', name='Market'),\n",
    "    go.Scatter3d(z=test_heston_ivs.data, x=volsurface_chain.Ks, y=volsurface_chain.Ts,\n",
    "                 mode='markers', name='Heston analyt.'),\n",
    "    go.Scatter3d(z=test_heston_ivs_montecarlo.data, x=volsurface_chain.Ks, y=volsurface_chain.Ts,\n",
    "                 mode='markers', name='Heston MC')\n",
    "])\n",
    "\n",
    "fig.update_layout(title='Volatility Surface', template=\"plotly_dark\", width=1000, height=1000)\n",
    "fig.update_scenes(xaxis_title_text='strike',\n",
    "                  yaxis_title_text='time to maturity',\n",
    "                  zaxis_title_text='implied vol')\n",
    "\n",
    "fig.show()  # use fig.show() without parameters to have interactive plot"
   ]
  },
  {
   "cell_type": "markdown",
   "id": "3891a094",
   "metadata": {},
   "source": [
    "The values obtained by Monte-Carlo method are generally very close to the analytical values. The precision can be further improved by increasing the number of simulated paths."
   ]
  },
  {
   "cell_type": "markdown",
   "id": "8c8e168a",
   "metadata": {},
   "source": [
    "## Barrier Options\n",
    "\n",
    "Barrier options have the following payoffs:\n",
    "$$\\text{UpIn Call}_T = \\max[S_T - K,\\ 0] \\cdot 1_{\\left\\{ \\max_{t\\in[0, T]}[S(t)]\\ \\geq\\ B \\right\\}},$$\n",
    "\n",
    "$$\\text{UpIn Put}_T = \\max[K - S_T,\\ 0] \\cdot 1_{\\left\\{ \\max_{t\\in[0, T]}[S(t)]\\ \\geq\\ B \\right\\}},$$\n",
    "\n",
    "$$\\text{UpOut Call}_T = \\max[S_T - K,\\ 0] \\cdot 1_{\\left\\{ \\max_{t\\in[0, T]}[S(t)]\\ <\\ B \\right\\}},$$\n",
    "\n",
    "$$\\text{UpOut Put}_T = \\max[K - S_T,\\ 0] \\cdot 1_{\\left\\{ \\max_{t\\in[0, T]}[S(t)]\\ <\\ B \\right\\}},$$\n",
    "\n",
    "$$\\text{DownIn Call}_T = \\max[S_T - K,\\ 0] \\cdot 1_{\\left\\{ \\min_{t\\in[0, T]}[S(t)]\\ \\leq\\ B \\right\\}},$$\n",
    "\n",
    "$$\\text{DownIn Put}_T = \\max[K - S_T,\\ 0] \\cdot 1_{\\left\\{ \\min_{t\\in[0, T]}[S(t)]\\ \\leq\\ B \\right\\}},$$\n",
    "\n",
    "$$\\text{DownOut Call}_T = \\max[S_T - K,\\ 0] \\cdot 1_{\\left\\{ \\min_{t\\in[0, T]}[S(t)]\\ >\\ B \\right\\}},$$\n",
    "\n",
    "$$\\text{DownOut Put}_T = \\max[K - S_T,\\ 0] \\cdot 1_{\\left\\{ \\min_{t\\in[0, T]}[S(t)]\\ >\\ B \\right\\}},$$\n",
    "\n",
    "where $S$ – price of the underlying, $T$ – maturity, $K$ – strike, $B$ – barrier. See [review of barrier options](https://bookdown.org/maxime_debellefroid/MyBook/barrier-options.html).\n"
   ]
  },
  {
   "cell_type": "markdown",
   "id": "c3041cf29f0e739f",
   "metadata": {
    "collapsed": false,
    "jupyter": {
     "outputs_hidden": false
    }
   },
   "source": [
    "Now we want to calculate the premiums and Greeks for several example barrier options using Monte-Carlo method and autograd. Here we consider only one expiration date, so we can generate new Heston paths with corresponding time horizon to speed up the computation.\n",
    "\n",
    "Note that now we need to clamp the value of the variance process to the range `[minimum_var, +∞)` on each step of the simulation, to prevent it from being too close to zero. This is necessary to compute the vega Greek (derivative w.r.t. initial variance) using autograd. We do so by setting `minimum_var` parameter of the `generate_heston()` function. Without such clamping, the result of the computation will be `nan`.\n",
    "\n",
    "For the computation of vega Greek, the `minimum_var` parameter and time step for simulation are actually interdependent. If we increase the time step, this will speed up the computation, but we may also need to increase the `minimum_var` in order for vega computation to yield a non-`nan` value. The latter will increase the approximation error of computed premiums and Greeks."
   ]
  },
  {
   "cell_type": "code",
   "execution_count": null,
   "id": "2fd001d4eb26b40e",
   "metadata": {
    "ExecuteTime": {
     "end_time": "2024-03-08T12:30:40.554923Z",
     "start_time": "2024-03-08T12:30:40.528244Z"
    },
    "collapsed": false,
    "jupyter": {
     "outputs_hidden": false
    }
   },
   "outputs": [],
   "source": [
    "# Here strike and barriers are in relative values w.r.t spot\n",
    "BARRIER_K = 1.07\n",
    "BARRIER_T = 60 / 365\n",
    "\n",
    "BARRIER_UP_IN    = 1.30\n",
    "BARRIER_UP_OUT   = 1.30\n",
    "BARRIER_DOWN_IN  = 0.95\n",
    "BARRIER_DOWN_OUT = 0.95"
   ]
  },
  {
   "cell_type": "code",
   "execution_count": null,
   "id": "35b590e15647ab04",
   "metadata": {
    "ExecuteTime": {
     "end_time": "2024-03-08T12:30:41.444051Z",
     "start_time": "2024-03-08T12:30:41.165360Z"
    },
    "collapsed": false,
    "jupyter": {
     "outputs_hidden": false
    }
   },
   "outputs": [],
   "source": [
    "N_PATHS_B = 10000\n",
    "DT_B = 0.5 / 365\n",
    "N_STEPS_B = round(BARRIER_T / DT_B)\n",
    "\n",
    "S0_B = torch.tensor([volsurface_chain.S], requires_grad=True)\n",
    "V0_B = torch.tensor([heston_params.v0], requires_grad=True)\n",
    "\n",
    "heston_paths_B, _ = py_heston_sim.generate_heston(\n",
    "    N_PATHS_B,\n",
    "    N_STEPS_B,\n",
    "    DT_B,\n",
    "    S0_B,\n",
    "    V0_B,\n",
    "    torch.tensor([heston_params.kappa]),\n",
    "    torch.tensor([heston_params.theta]),\n",
    "    torch.tensor([heston_params.eps]),\n",
    "    torch.tensor([heston_params.rho]),\n",
    "    torch.tensor([heston_params.r]),\n",
    "    minimum_var=0.005\n",
    ")"
   ]
  },
  {
   "cell_type": "code",
   "execution_count": null,
   "id": "ffa9c7106ce1807e",
   "metadata": {
    "ExecuteTime": {
     "end_time": "2024-03-08T12:30:52.460962Z",
     "start_time": "2024-03-08T12:30:44.172466Z"
    },
    "collapsed": false,
    "jupyter": {
     "outputs_hidden": false
    }
   },
   "outputs": [],
   "source": [
    "names, barriers, prices, deltas, vegas = [], [], [], [], []\n",
    "\n",
    "\n",
    "names.append('Vanilla Call')\n",
    "barriers.append(np.nan)\n",
    "prices.append(get_premium(\n",
    "    payoffs = call_payoff(heston_paths_B[:, -1], BARRIER_K * volsurface_chain.S),\n",
    "    r = torch.tensor([heston_params.r]),\n",
    "    T = BARRIER_T\n",
    "))\n",
    "\n",
    "names.append(f'Up-In Call')\n",
    "barriers.append(BARRIER_UP_IN)\n",
    "prices.append(price_barrier_option(\n",
    "    paths        = heston_paths_B,\n",
    "    strike       = torch.tensor(BARRIER_K * volsurface_chain.S),\n",
    "    maturity     = torch.tensor(BARRIER_T),\n",
    "    rate         = torch.tensor(heston_params.r),\n",
    "    barrier      = torch.tensor(BARRIER_UP_IN * volsurface_chain.S),\n",
    "    barrier_type = 'up-in',\n",
    "    call         = True\n",
    "))\n",
    "\n",
    "names.append(f'Up-Out Call')\n",
    "barriers.append(BARRIER_UP_OUT)\n",
    "prices.append(price_barrier_option(\n",
    "    paths        = heston_paths_B,\n",
    "    strike       = torch.tensor(BARRIER_K * volsurface_chain.S),\n",
    "    maturity     = torch.tensor(BARRIER_T),\n",
    "    rate         = torch.tensor(heston_params.r),\n",
    "    barrier      = torch.tensor(BARRIER_UP_OUT * volsurface_chain.S),\n",
    "    barrier_type = 'up-out',\n",
    "    call         = True\n",
    "))\n",
    "\n",
    "names.append(f'Down-In Call')\n",
    "barriers.append(BARRIER_DOWN_IN)\n",
    "prices.append(price_barrier_option(\n",
    "    paths        = heston_paths_B,\n",
    "    strike       = torch.tensor(BARRIER_K * volsurface_chain.S),\n",
    "    maturity     = torch.tensor(BARRIER_T),\n",
    "    rate         = torch.tensor(heston_params.r),\n",
    "    barrier      = torch.tensor(BARRIER_DOWN_IN * volsurface_chain.S),\n",
    "    barrier_type = 'down-in',\n",
    "    call         = True\n",
    "))\n",
    "\n",
    "\n",
    "names.append(f'Down-out Call')\n",
    "barriers.append(BARRIER_DOWN_OUT)\n",
    "prices.append(price_barrier_option(\n",
    "    paths        = heston_paths_B,\n",
    "    strike       = torch.tensor(BARRIER_K * volsurface_chain.S),\n",
    "    maturity     = torch.tensor(BARRIER_T),\n",
    "    rate         = torch.tensor(heston_params.r),\n",
    "    barrier      = torch.tensor(BARRIER_DOWN_OUT * volsurface_chain.S),\n",
    "    barrier_type = 'down-out',\n",
    "    call         = True\n",
    "))\n",
    "\n",
    "for i in range(len(prices)):\n",
    "    _delta, _vega = torch.autograd.grad(prices[i], [S0_B, V0_B], retain_graph=True)\n",
    "    deltas.append(_delta.item())\n",
    "    vegas.append(_vega.item())\n",
    "\n",
    "prices = [x.item() for x in prices]"
   ]
  },
  {
   "cell_type": "code",
   "execution_count": null,
   "id": "9aeffe11b047e605",
   "metadata": {
    "ExecuteTime": {
     "end_time": "2024-03-08T12:30:52.493676Z",
     "start_time": "2024-03-08T12:30:52.462272Z"
    },
    "collapsed": false,
    "jupyter": {
     "outputs_hidden": false
    }
   },
   "outputs": [],
   "source": [
    "print(f'κ = {heston_params.kappa:.3f}, θ = {heston_params.theta:.3f}, '\n",
    "      f'ε = {heston_params.eps:.3f}, ρ = {heston_params.rho:.3f}, rate = {heston_params.r:.3f}')\n",
    "print(f'Spot = {volsurface_chain.S:.2f}')\n",
    "print(f'Strike/Spot = {BARRIER_K:.2f}')\n",
    "print(f'Expiration = {BARRIER_T:.3f}')\n",
    "print()\n",
    "\n",
    "pd.DataFrame({\n",
    "    'Option': names,\n",
    "    'Barrier/Spot': barriers,\n",
    "    'Price': prices,\n",
    "    'Delta': deltas,\n",
    "    'Vega': vegas\n",
    "})"
   ]
  },
  {
   "cell_type": "markdown",
   "id": "3a0b3814",
   "metadata": {},
   "source": [
    "We can see that barrier options have lower prices than vanilla option with the same strike and expiration time. That's because they carry an additional risk to expire worthless."
   ]
  },
  {
   "cell_type": "markdown",
   "id": "e7118dd31ab65e91",
   "metadata": {
    "collapsed": false,
    "jupyter": {
     "outputs_hidden": false
    }
   },
   "source": [
    "## American options\n",
    "\n",
    "We can calculate the price of American option using LSM algorithm (see notebook `lsm.ipynb`). Similarly to the previous section, we can apply autograd to calculate delta and vega Greeks."
   ]
  },
  {
   "cell_type": "code",
   "execution_count": null,
   "id": "a0c3b927",
   "metadata": {},
   "outputs": [],
   "source": [
    "N_PATHS_I = 5000\n",
    "N_PATHS_II = 10000\n",
    "DT = 0.5 / 365\n",
    "T = 60 / 365\n",
    "N_STEPS = round(T / DT)\n",
    "\n",
    "S0 = torch.tensor([volsurface_chain.S], requires_grad=True)\n",
    "V0 = torch.tensor([heston_params.v0], requires_grad=True)\n",
    "\n",
    "STRIKE = S0.detach().clone() * 0.95"
   ]
  },
  {
   "cell_type": "code",
   "execution_count": null,
   "id": "62922c1c04fdbda8",
   "metadata": {},
   "outputs": [],
   "source": [
    "with torch.no_grad():\n",
    "    heston_paths_I, _ = py_heston_sim.generate_heston(\n",
    "        N_PATHS_I,\n",
    "        N_STEPS,\n",
    "        DT,\n",
    "        S0,\n",
    "        V0,\n",
    "        torch.tensor([heston_params.kappa]),\n",
    "        torch.tensor([heston_params.theta]),\n",
    "        torch.tensor([heston_params.eps]),\n",
    "        torch.tensor([heston_params.rho]),\n",
    "        torch.tensor([heston_params.r]),\n",
    "        minimum_var=None\n",
    "    )\n",
    "\n",
    "heston_paths_II, _ = py_heston_sim.generate_heston(\n",
    "    N_PATHS_II,\n",
    "    N_STEPS,\n",
    "    DT,\n",
    "    S0,\n",
    "    V0,\n",
    "    torch.tensor([heston_params.kappa]),\n",
    "    torch.tensor([heston_params.theta]),\n",
    "    torch.tensor([heston_params.eps]),\n",
    "    torch.tensor([heston_params.rho]),\n",
    "    torch.tensor([heston_params.r]),\n",
    "    minimum_var=0.005\n",
    ")\n",
    "\n",
    "lsm_res = price_american_put_lsm(\n",
    "    heston_paths_I,\n",
    "    heston_paths_II,\n",
    "    DT,\n",
    "    STRIKE,\n",
    "    torch.tensor([heston_params.r]),\n",
    "    reg_poly_degree=3\n",
    ")"
   ]
  },
  {
   "cell_type": "code",
   "execution_count": null,
   "id": "081893a0",
   "metadata": {},
   "outputs": [],
   "source": [
    "amer_delta, amer_vega = torch.autograd.grad(lsm_res.option_price, [S0, V0])"
   ]
  },
  {
   "cell_type": "code",
   "execution_count": null,
   "id": "44e959e0",
   "metadata": {},
   "outputs": [],
   "source": [
    "print(f'Price of American put: {lsm_res.option_price.item():.3f}')\n",
    "print(f'Delta Greek: {amer_delta.item():.5f}')\n",
    "print(f'Vega Greek: {amer_vega.item():.3f}')"
   ]
  },
  {
   "cell_type": "markdown",
   "id": "af4b4065-4ad4-4763-8e2e-8e439cf163f8",
   "metadata": {},
   "source": [
    "You can use C++ as well:"
   ]
  },
  {
   "cell_type": "code",
   "execution_count": null,
   "id": "21773eaa-3b78-47d9-bc66-8a3ca4a3b374",
   "metadata": {},
   "outputs": [],
   "source": [
    "!mkdir -p build\n",
    "NOA_LOCATION = '../..'\n",
    "cpp_heston_sim = load(\n",
    "    name='cpp_heston_sim',\n",
    "    build_directory='./build',\n",
    "    sources=[f'{NOA_LOCATION}/src/noa/quant/pytorch_extensions/heston_sim.cc'],\n",
    "    extra_include_paths=[f'{NOA_LOCATION}/src'],\n",
    "    extra_cflags=['-Wall -Wextra -Wpedantic -O3 -std=c++17'],\n",
    "    verbose=False\n",
    ")"
   ]
  },
  {
   "cell_type": "code",
   "execution_count": null,
   "id": "5a5598cb-fc1a-4fec-a561-5bf7a0942f61",
   "metadata": {},
   "outputs": [],
   "source": [
    "cpp_heston_sim.generate_heston"
   ]
  },
  {
   "cell_type": "markdown",
   "id": "78f4cc9c",
   "metadata": {},
   "source": [
    "# References\n",
    "\n",
    "* [Giles, M., 2006. *Smoking adjoints: fast Monte Carlo Greeks* (Risk.net)](https://www.risk.net/landmarks-in-xva/5540761/smoking-adjoints-fast-evaluation-of-monte-carlo-greeks)\n",
    "* [Andersen, L.B., 2007. *Efficient simulation of the Heston stochastic volatility model*. (SSRN)](https://papers.ssrn.com/sol3/papers.cfm?abstract_id=946405)\n",
    "* [Cui, Y. et al. 2017. *Full and fast calibration of the Heston stochastic volatility model.* European Journal of Operational Research 263.2](https://www.sciencedirect.com/science/article/pii/S0377221717304460)\n",
    "* [Savine, A. et al. 2017. *LSM Reloaded - Differentiate xVA on your iPad Mini*. (SSRN)](https://papers.ssrn.com/sol3/papers.cfm?abstract_id=2966155)"
   ]
  }
 ],
 "metadata": {
  "kernelspec": {
   "display_name": "Python 3 (ipykernel)",
   "language": "python",
   "name": "python3"
  },
  "language_info": {
   "codemirror_mode": {
    "name": "ipython",
    "version": 3
   },
   "file_extension": ".py",
   "mimetype": "text/x-python",
   "name": "python",
   "nbconvert_exporter": "python",
   "pygments_lexer": "ipython3",
   "version": "3.12.10"
  },
  "vscode": {
   "interpreter": {
    "hash": "a2eb1cc65c1cd3482bb506e74265dd8500e20c6cb1477154dcf5a78d31810c3d"
   }
  }
 },
 "nbformat": 4,
 "nbformat_minor": 5
}
