{
 "cells": [
  {
   "cell_type": "markdown",
   "metadata": {},
   "source": [
    "<h1 style=\"text-align: center;\"><b>Longstaff-Schwarz/Least-Squares Method</b></h1>\n",
    "\n",
    "#### Maksim Sosnin, Roland Grinis\n"
   ]
  },
  {
   "cell_type": "markdown",
   "metadata": {},
   "source": [
    "See [Seydel2017, section 3.6.3] and the original article [LongstaffSchwartz2001] for an intro.\n",
    "\n",
    "Let $S$ be the price of the underlying, $V_t(S)$ – option value, $\\Psi(S)$ – payoff, $T$ – maturity, $r$ – risk-free rate.\n",
    "\n",
    "We can approximate American option with a Bermudan option, which can be exercised at specified discrete dates:\n",
    "$$\\Delta t := \\frac{T}{M},\\quad t_j := j \\Delta t\\ (j = 0, ..., M),$$\n",
    "where $T$ is maturity, $M$ – number of time steps.\n",
    "\n",
    "### Dynamic programming\n",
    "$V_{t_M}(S) = \\Psi(S)\\ $ – payoff.\n",
    "\n",
    "$C_{t_n}(S) := e^{-r \\Delta t}\\ \\mathbb{E}[V_{t_{n+1}}(S_{t_{n+1}}) | S_{t_n} = S]\\ $ – continuation or holding value. Needs to be approximated, e.g. by regression.\n",
    "\n",
    "$V_{t_n}(S) = \\max[C_{t_n}(S), \\Psi(S)].$\n",
    "\n",
    "### LSM algorithm (Monte-Carlo + Regression)\n",
    "1. Simulate $N$ paths $S_1(t), ... , S_N(t)$ with $M$ time steps:\n",
    "    $$S_{j,k} := S_k(t_j),\\quad j = 1, ..., M,\\ k = 1, ..., N.$$\n",
    "2. For $k = 1, ..., N$ set\n",
    "    - $g_k := \\Psi(S_{M,k})$ – cashflow vector,\n",
    "    - $\\tau_k = M$ – integer stopping time vector.\n",
    "3. For $j = M - 1, ..., 1$:\n",
    "    For the subset of in-the-money points $(x_k, y_k) := (S_{j,k}, e^{-r(\\tau_k-j)\\Delta t} g_k)$:\n",
    "    - Approximate $C_j(x)$ using suitable basis functions $\\phi_0, ..., \\phi_L$ (for example, monomials) by least squares over the ITM points:\n",
    "        $$C_j(x) \\approx \\sum_{l=0}^L a_l \\phi_l(x) =: \\hat C_j(x).$$\n",
    "    - For those $k$ with $\\Psi(S_{j,k}) \\geq \\hat C_j(S_{j,k})$ update\n",
    "        $$g_k := \\Psi(S_{j,k}),\\quad \\tau_k := j.$$\n",
    "4. Finally, one can set:\n",
    "    $$\\hat C_0 := \\frac{1}{N} \\sum_{k=1}^{N} e^{-r\\tau_k \\Delta t} g_k, \\quad V_0 := \\max\\{\\Psi(S_0), \\hat C_0\\}.$$\n",
    "\n",
    "but this value would contain bias, especially since OTM trajectories were discraded.\n"
   ]
  },
  {
   "cell_type": "markdown",
   "metadata": {},
   "source": [
    "### LSM algorithm without bias\n",
    "\n",
    "We should divide the LSM algorithm into two steps:\n",
    "1. *Regression.* Apply the algorithm described in the previous section to find the approximation $\\hat C_{t_n}(S)$ of continuation value at each time step.\n",
    "2. *Pricing.* Simulate a new set of paths with the same parameters. Use the time and price dependent continuation value from step 1 as a sort of barrier:  when the payoff for a given path crosses $\\hat C_{t_n}(S)$, exercise the option on this path.\n",
    "\n",
    "This approach solves several problems. Firstly, we can easily apply automatic differentiation to find the Greeks, because we can disable it on the first step and enable it only on the second step, using the continuation value as a precomputed barrier. By doing this, we avoid differentiating the least-squares regression, which can be computationally expensive. Secondly, we reduce the bias by using a larger set of paths on the second step simulated until reaching optimal execution, which makes the computed option price more accurate."
   ]
  },
  {
   "cell_type": "markdown",
   "metadata": {},
   "source": [
    "# Implementation of LSM algorithm"
   ]
  },
  {
   "cell_type": "code",
   "execution_count": null,
   "metadata": {
    "ExecuteTime": {
     "end_time": "2024-03-30T15:41:15.020745Z",
     "start_time": "2024-03-30T15:41:11.274931Z"
    },
    "collapsed": false,
    "jupyter": {
     "outputs_hidden": false
    }
   },
   "outputs": [],
   "source": [
    "import torch\n",
    "import numpy as np\n",
    "import matplotlib.pyplot as plt\n",
    "import plotly.graph_objects as go\n",
    "plt.style.use(\"dark_background\")\n",
    "\n",
    "from torch.utils.cpp_extension import load\n",
    "\n",
    "from pyquant.lsm import price_american_put_lsm, LSMResult\n",
    "from pyquant.bsm import price_american_put_bsm, find_early_exercise\n",
    "\n",
    "torch.set_default_dtype(torch.float64)"
   ]
  },
  {
   "cell_type": "code",
   "execution_count": null,
   "metadata": {},
   "outputs": [],
   "source": [
    "def generate_gbm(n_paths, n_steps, dt, S0, sigma, drift):\n",
    "    paths_gbm = S0 * torch.cumprod(\n",
    "        1 + drift*dt + sigma * (dt**0.5) * torch.randn((n_paths, n_steps)), dim=1)\n",
    "    paths_gbm = torch.hstack((S0 * torch.ones((n_paths, 1)), paths_gbm))\n",
    "    return paths_gbm"
   ]
  },
  {
   "cell_type": "code",
   "execution_count": null,
   "metadata": {},
   "outputs": [],
   "source": [
    "def plot_paths(dt, n_steps, paths, strike, title=''):\n",
    "    time_arr = np.linspace(0, n_steps * dt, n_steps + 1)\n",
    "    for i in range(len(paths)):\n",
    "        plt.plot(time_arr, paths.detach().numpy()[i])\n",
    "    plt.axhline(strike, ls='--', label='Strike', c='darkred')\n",
    "    plt.xlabel('Time')\n",
    "    plt.ylabel('Price')\n",
    "    plt.title(title)\n",
    "    plt.grid()\n",
    "    plt.legend()\n",
    "    plt.show()"
   ]
  },
  {
   "cell_type": "code",
   "execution_count": null,
   "metadata": {
    "ExecuteTime": {
     "end_time": "2024-03-30T15:41:15.061490Z",
     "start_time": "2024-03-30T15:41:15.023039Z"
    },
    "collapsed": false,
    "jupyter": {
     "outputs_hidden": false
    }
   },
   "outputs": [],
   "source": [
    "POLY_DEGREE = 3\n",
    "\n",
    "N_PATHS = 20000\n",
    "T_DAYS = 60\n",
    "DT = 0.5 / 365\n",
    "N_STEPS = round(T_DAYS / (DT * 365))\n",
    "\n",
    "S0 = torch.tensor(100.0, requires_grad=True)\n",
    "SIGMA = torch.tensor(0.3, requires_grad=True)\n",
    "STRIKE = torch.tensor(S0.item() * 0.95)\n",
    "RATE = torch.tensor(0.03)\n",
    "\n",
    "print(f'N_STEPS: {N_STEPS}')"
   ]
  },
  {
   "cell_type": "code",
   "execution_count": null,
   "metadata": {
    "ExecuteTime": {
     "end_time": "2024-03-30T15:41:33.481406Z",
     "start_time": "2024-03-30T15:41:19.609851Z"
    },
    "collapsed": false,
    "jupyter": {
     "outputs_hidden": false
    }
   },
   "outputs": [],
   "source": [
    "with torch.no_grad():\n",
    "    paths1 = generate_gbm(N_PATHS, N_STEPS, DT, S0, SIGMA, RATE)\n",
    "paths2 = generate_gbm(100*N_PATHS, N_STEPS, DT, S0, SIGMA, RATE)"
   ]
  },
  {
   "cell_type": "code",
   "execution_count": null,
   "metadata": {
    "collapsed": false,
    "jupyter": {
     "outputs_hidden": false
    }
   },
   "outputs": [],
   "source": [
    "plot_paths(DT, N_STEPS, paths1[:20], STRIKE, title='GBM price paths')"
   ]
  },
  {
   "cell_type": "code",
   "execution_count": null,
   "metadata": {
    "ExecuteTime": {
     "end_time": "2024-03-30T17:26:01.282953Z",
     "start_time": "2024-03-30T17:25:55.834413Z"
    },
    "collapsed": false,
    "jupyter": {
     "outputs_hidden": false
    }
   },
   "outputs": [],
   "source": [
    "lsm_res = price_american_put_lsm(\n",
    "    paths1,\n",
    "    paths2,     \n",
    "    DT,\n",
    "    STRIKE,\n",
    "    RATE,\n",
    "    reg_poly_degree=POLY_DEGREE,\n",
    "    return_extra=True\n",
    ")"
   ]
  },
  {
   "cell_type": "code",
   "execution_count": null,
   "metadata": {},
   "outputs": [],
   "source": [
    "delta, vega = torch.autograd.grad(lsm_res.option_price, [S0, SIGMA])"
   ]
  },
  {
   "cell_type": "code",
   "execution_count": null,
   "metadata": {
    "ExecuteTime": {
     "end_time": "2024-03-30T17:22:32.704604Z",
     "start_time": "2024-03-30T17:22:32.678070Z"
    },
    "collapsed": false,
    "jupyter": {
     "outputs_hidden": false
    }
   },
   "outputs": [],
   "source": [
    "print(f'Price of American put: {lsm_res.option_price:.5f}')\n",
    "print(f'Delta: {delta.item():.5f}')\n",
    "print(f'Vega: {vega.item():.5f}')"
   ]
  },
  {
   "cell_type": "code",
   "execution_count": null,
   "metadata": {},
   "outputs": [],
   "source": [
    "!mkdir -p build\n",
    "NOA_LOCATION = '../..'"
   ]
  },
  {
   "cell_type": "code",
   "execution_count": null,
   "metadata": {},
   "outputs": [],
   "source": [
    "lsm = load(\n",
    "    name='lsm',\n",
    "    build_directory='./build',\n",
    "    sources=[f'{NOA_LOCATION}/src/noa/quant/pytorch_extensions/lsm.cc'],\n",
    "    extra_include_paths=[f'{NOA_LOCATION}/src'],\n",
    "    extra_cflags=['-Wall -Wextra -Wpedantic -O3 -std=c++17'],\n",
    "    verbose=False\n",
    ")"
   ]
  },
  {
   "cell_type": "code",
   "execution_count": null,
   "metadata": {},
   "outputs": [],
   "source": [
    "S0 = torch.tensor(100.0, requires_grad=True)\n",
    "SIGMA = torch.tensor(0.3, requires_grad=True)\n",
    "option_price, reg_poly_coefs, initial_cont_value = lsm.price_american_put_lsm(\n",
    "    generate_gbm(N_PATHS, N_STEPS, DT, S0, SIGMA, RATE),\n",
    "    generate_gbm(N_PATHS, N_STEPS, DT, S0, SIGMA, RATE),\n",
    "    DT,\n",
    "    STRIKE,\n",
    "    RATE,\n",
    "    POLY_DEGREE,\n",
    "    True\n",
    ")"
   ]
  },
  {
   "cell_type": "code",
   "execution_count": null,
   "metadata": {},
   "outputs": [],
   "source": [
    "delta, vega = torch.autograd.grad(option_price, [S0, SIGMA])"
   ]
  },
  {
   "cell_type": "code",
   "execution_count": null,
   "metadata": {},
   "outputs": [],
   "source": [
    "print(f'Price of American put: {option_price:.5f}')\n",
    "print(f'Delta: {delta.item():.5f}')\n",
    "print(f'Vega: {vega.item():.5f}')"
   ]
  },
  {
   "cell_type": "markdown",
   "metadata": {},
   "source": [
    "## Visualization of LSM algorithm\n",
    "\n",
    "Let's look at the computed approximations of continuation value curves $\\hat C_j (x)$ and in-the-money points $(x_k, y_k) := (S_{j,k}, e^{-r(\\tau_k-j)\\Delta t} g_k)$ – the data for regression, at different time steps $j$."
   ]
  },
  {
   "cell_type": "code",
   "execution_count": null,
   "metadata": {
    "ExecuteTime": {
     "end_time": "2024-03-30T16:36:35.810441Z",
     "start_time": "2024-03-30T16:36:35.783467Z"
    },
    "collapsed": false,
    "jupyter": {
     "outputs_hidden": false
    }
   },
   "outputs": [],
   "source": [
    "def visualize_lsm(\n",
    "    idx: int,\n",
    "    paths: torch.Tensor,\n",
    "    lsm_res: LSMResult,\n",
    "    reg_poly_degree: int\n",
    "):\n",
    "    vander = torch.vander(lsm_res.reg_x_vals[idx], N=reg_poly_degree + 1)\n",
    "    C_hat = torch.matmul(vander, lsm_res.reg_poly_coefs[idx])  # continuation value\n",
    "\n",
    "    S_space = torch.linspace(min(paths[:, idx]).item() - 7, max(paths[:, idx]).item() + 7, 1000)\n",
    "    payoff = np.maximum(STRIKE - S_space, 0)\n",
    "    \n",
    "    fig = go.Figure(data=[\n",
    "        go.Scatter(x=lsm_res.reg_x_vals[idx], y=lsm_res.reg_y_vals[idx], marker_size=1.3,\n",
    "                   mode='markers', marker_color='blue', name='ITM points $(x_k, y_k)$'),\n",
    "        go.Scatter(x=S_space, y=payoff, line_color='black', name='Payoff $\\Psi(S)$'),\n",
    "        go.Scatter(x=lsm_res.reg_x_vals[idx], y=C_hat, marker_size=3, marker_color='orange',\n",
    "                   mode='markers', name='Continuation value $\\hat C_j(x)$')\n",
    "    ])\n",
    "\n",
    "    fig.add_vline(x=STRIKE, line_dash='dash', annotation_text='Strike', line_color='darkred')\n",
    "    fig.update_layout(title=f't = {idx * DT:.3f}, (j = {idx}, n_steps = {N_STEPS})',\n",
    "                      xaxis_title='S', width=900, height=700,\n",
    "                      xaxis_range=[min(S_space), 100],\n",
    "                      legend={'itemsizing': 'constant'})\n",
    "    return fig"
   ]
  },
  {
   "cell_type": "code",
   "execution_count": null,
   "metadata": {
    "ExecuteTime": {
     "end_time": "2024-03-30T16:36:43.539878Z",
     "start_time": "2024-03-30T16:36:36.764447Z"
    },
    "collapsed": false,
    "jupyter": {
     "outputs_hidden": false
    }
   },
   "outputs": [],
   "source": [
    "# # Use show() without arguments to have interactive plots\n",
    "visualize_lsm(N_STEPS - 1, paths1, lsm_res, POLY_DEGREE).show(renderer='png')\n",
    "visualize_lsm(round(N_STEPS * 0.8), paths1, lsm_res, POLY_DEGREE).show(renderer='png')\n",
    "visualize_lsm(round(N_STEPS * 0.5), paths1, lsm_res, POLY_DEGREE).show(renderer='png')\n",
    "visualize_lsm(round(N_STEPS * 0.3), paths1, lsm_res, POLY_DEGREE).show(renderer='png')\n",
    "visualize_lsm(round(N_STEPS * 0.1), paths1, lsm_res, POLY_DEGREE).show(renderer='png')"
   ]
  },
  {
   "cell_type": "code",
   "execution_count": null,
   "metadata": {},
   "outputs": [],
   "source": [
    "visualize_lsm(round(N_STEPS * 0.5), paths1, lsm_res, POLY_DEGREE).show(renderer='png')"
   ]
  },
  {
   "cell_type": "markdown",
   "metadata": {},
   "source": [
    "## Comparison with Brennan-Schwartz algorithm\n",
    "\n",
    "For Black-Scholes model, we can compare the prices obtained via LSM and Brennan-Schwartz (see [bsm.ipynb](bsm.ipynb)) algorithms."
   ]
  },
  {
   "cell_type": "code",
   "execution_count": null,
   "metadata": {
    "ExecuteTime": {
     "end_time": "2024-03-27T20:28:16.037505Z",
     "start_time": "2024-03-27T20:27:58.169682Z"
    },
    "collapsed": false,
    "jupyter": {
     "outputs_hidden": false
    }
   },
   "outputs": [],
   "source": [
    "T = N_STEPS * DT\n",
    "S_min = 30\n",
    "S_max = 200\n",
    "npoints_S = 3000\n",
    "npoints_t = 3000\n",
    "TOL = 1e-5\n",
    "\n",
    "V_bsm, S_arr, t_arr = price_american_put_bsm(\n",
    "    STRIKE.item(),\n",
    "    T,\n",
    "    RATE.item(),\n",
    "    SIGMA.item(),\n",
    "    S_min,\n",
    "    S_max,\n",
    "    npoints_S,\n",
    "    npoints_t\n",
    ")\n",
    "\n",
    "_, stop_S_bsm = find_early_exercise(V_bsm, S_arr, t_arr, STRIKE.item(), TOL)"
   ]
  },
  {
   "cell_type": "code",
   "execution_count": null,
   "metadata": {
    "ExecuteTime": {
     "end_time": "2024-03-27T20:28:16.079707Z",
     "start_time": "2024-03-27T20:28:16.051422Z"
    },
    "collapsed": false,
    "jupyter": {
     "outputs_hidden": false
    }
   },
   "outputs": [],
   "source": [
    "price_bsm = V_bsm[np.argmin(np.abs(S_arr - S0.item())), -1]\n",
    "rel_diff = (lsm_res.option_price.item() - price_bsm) / price_bsm"
   ]
  },
  {
   "cell_type": "code",
   "execution_count": null,
   "metadata": {
    "ExecuteTime": {
     "end_time": "2024-03-27T20:28:16.107424Z",
     "start_time": "2024-03-27T20:28:16.081563Z"
    },
    "collapsed": false,
    "jupyter": {
     "outputs_hidden": false
    }
   },
   "outputs": [],
   "source": [
    "print(f'LSM price: {lsm_res.option_price}')\n",
    "print(f'Brennan-Schwartz price: {price_bsm}')\n",
    "print(f'Relative difference: {rel_diff * 100}%')"
   ]
  },
  {
   "cell_type": "markdown",
   "metadata": {},
   "source": [
    "We can see that LSM algorithm produces results which are close to the Brennan-Schwartz algorithm."
   ]
  },
  {
   "cell_type": "markdown",
   "metadata": {},
   "source": [
    "# References\n",
    "\n",
    "- [LongstaffSchwartz2001] [Longstaff, F. A., & Schwartz, E. S. (2001). Valuing American options by simulation: a simple least-squares approach. The review of financial studies, 14(1), 113-147.](http://deriscope.com/docs/Longstaff_Schwarz_2001.pdf)\n",
    "- [Seydel2017] [Seydel, Rüdiger. Tools for computational finance. Sixth edition. Springer, 2017.](https://link.springer.com/book/10.1007/978-1-4471-7338-0) Section 3.6.3.\n",
    "- [Huge2017] [Huge, B. N., & Savine, A. (2017). LSM Reloaded-Differentiate xVA on your iPad Mini. Available at SSRN 2966155.](https://papers.ssrn.com/sol3/papers.cfm?abstract_id=2966155)\n",
    "- [Jonen2011] [Jonen, C. (2011). Efficient pricing of high-dimensional American-style derivatives: A robust regression Monte Carlo method (Doctoral dissertation, Universität zu Köln).](https://kups.ub.uni-koeln.de/4442/1/Diss_Jonen.pdf)"
   ]
  }
 ],
 "metadata": {
  "kernelspec": {
   "display_name": "Python 3 (ipykernel)",
   "language": "python",
   "name": "python3"
  },
  "language_info": {
   "codemirror_mode": {
    "name": "ipython",
    "version": 3
   },
   "file_extension": ".py",
   "mimetype": "text/x-python",
   "name": "python",
   "nbconvert_exporter": "python",
   "pygments_lexer": "ipython3",
   "version": "3.12.10"
  }
 },
 "nbformat": 4,
 "nbformat_minor": 4
}
