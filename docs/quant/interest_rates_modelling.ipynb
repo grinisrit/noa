{
 "cells": [
  {
   "cell_type": "markdown",
   "id": "bae33984-c63f-4623-a302-bef7b6f8ab43",
   "metadata": {},
   "source": [
    "<h1 style=\"text-align: center;\"><b>Modern Topics in Interest Rates Modelling</b></h1>\n",
    "\n",
    "### Roland Grinis\n"
   ]
  },
  {
   "cell_type": "code",
   "execution_count": null,
   "id": "7e0235aa-6108-4c8f-bc0d-4bb7fd7a9c7d",
   "metadata": {},
   "outputs": [],
   "source": [
    "import torch\n",
    "import pandas as pd\n",
    "import numpy as np\n",
    "import matplotlib.pyplot as plt\n",
    "plt.style.use(\"dark_background\")\n",
    "%matplotlib inline"
   ]
  },
  {
   "cell_type": "code",
   "execution_count": null,
   "id": "c94b6fb8-53ae-4f4a-b47a-461c08021894",
   "metadata": {},
   "outputs": [],
   "source": [
    "from pyquant.torch_spline import CubicSpline1D"
   ]
  },
  {
   "cell_type": "code",
   "execution_count": null,
   "id": "63eb7108-c926-4a4a-97ee-2a5d9b067fde",
   "metadata": {},
   "outputs": [],
   "source": [
    "#data\n",
    "fwd_ois = pd.read_csv('data/forward_ois.csv')\n",
    "fwd_key_rate = pd.read_csv('data/forward_key_rate.csv')\n",
    "vol_key_rate = pd.read_csv('data/volatility_key_rate.csv')"
   ]
  },
  {
   "cell_type": "markdown",
   "id": "5145e8bc-c3ac-4741-85bf-f5a8e024daf6",
   "metadata": {},
   "source": [
    "## 1. Risk Free Rates (RFRs)\n",
    "\n",
    "### 1.1 Extended $T$-forward measure\n",
    "\n",
    "Short (risk-free, OIS) rate $r_t$ gives rise to bank account numeraire:\n",
    "\n",
    "$$\n",
    "dB_t = r_t B_t dt, \\quad B_t = \\exp \\left( \\int_0^t r_u du \\right)\n",
    "$$\n",
    "\n",
    "The associcated risk neutral measure $Q$ is called the money-savings measure\n",
    "Investing in the bank account after maturity, we obtain the extended zero-coupon: \n",
    "$$\n",
    "P_{t,T} = \n",
    "\\begin{cases}\n",
    "  \\mathbb{E}^Q_t \\left[ \\exp \\left(- \\int_{t}^T r_u du \\right) \\right] , & t\\leq T\\\\\n",
    "  \\exp \\left(- \\int_{t}^T r_u du \\right) = \\frac{B_t}{B_T},            & t > T\n",
    "\\end{cases}\n",
    "$$\n",
    "\n",
    "The associated risk-neutral measure, denoted $Q^T$, corresponds to the $T$-forward measure for $t \\leq T$\n",
    "and the money-savings measure $Q$ after maturity.   "
   ]
  },
  {
   "cell_type": "markdown",
   "id": "d2a193d0-5053-43e7-9b4b-1b144b86a452",
   "metadata": {},
   "source": [
    "### 1.2 Backward-looking forward rates\n",
    "\n",
    "Forward Rate Agreement (FRA) contract has present value:\n",
    "\n",
    "$$\n",
    "PV_t = B_t \\cdot \\mathbb{E}^Q_{t} \\left[ \\tau \\frac{\\mathcal{P}_{T-\\tau, T} - K}{B_T}  \\right]\n",
    "$$\n",
    "\n",
    "with forward looking payoff:\n",
    "\n",
    "$$\n",
    "\\mathcal{P}_{T-\\tau, T} \\equiv \\mathcal{P}_{T-\\tau, T} \\left[ T' \\rightarrow P_{T-\\tau, T'} \\right]\n",
    "$$\n",
    "\n",
    "or backward looking payoff:\n",
    "$$\n",
    "\\mathcal{P}_{T-\\tau, T} \\equiv \\mathcal{P}_{T-\\tau, T} \\left[ r_d \\in \\mathcal{B}(T - \\tau, T) \\right]\n",
    "$$\n",
    "where $\\mathcal{B}(T - \\tau, T)$ runs over business days in $\\left[ T - \\tau, T \\right)$.\n",
    "\n",
    "For example, the simple daily-compounded setting-in-arrears rates read:\n",
    "$$\n",
    "R_T \\coloneqq R(T-\\tau, T) = \\mathcal{P}_{T-\\tau, T} = \\frac{1}{\\tau} \\left( \\prod_{t \\leq t_n < t+\\tau} \\left(1 + \\tau_n r_{t_n} \\right) - 1 \\right)\n",
    "$$\n",
    "\n",
    "Or the daily arithmetic average setting-in-arrears rates read:\n",
    "\n",
    "$$\n",
    "A(T - \\tau, T) = \\mathcal{P}_{T-\\tau, T} = \\frac{1}{\\tau} \\sum_{t \\leq t_n < t+\\tau} \\tau_n r_{t_n} \n",
    "$$\n",
    "\n",
    "Passing to continous modelling:\n",
    "$$\n",
    "\\frac{1}{\\tau} \\left[ \\exp \\left( \\int_{T - \\tau}^T r_u du \\right)  - 1\\right], \\quad A(T - \\tau, T)\\approx \\frac{1}{\\tau} \\int_{T - \\tau}^T r_u du \n",
    "$$\n",
    "\n",
    "and we get the relation:\n",
    "$$\n",
    "A(T - \\tau, T) \\approx \\frac{1}{\\tau} \\log \\left(1 + \\tau R(T - \\tau, T)\\right)\n",
    "$$\n",
    "\n",
    "\n",
    "\n",
    "Passing to the extended $T$-forward measure, we obtain the compound forward rate as:\n",
    "$$\n",
    "R_{t,T} \\coloneqq R_t(T - \\tau, T) = \\mathbb{E}^{Q^T}_{t} \\left[  R(T - \\tau, T) \\right]\n",
    "$$\n",
    "\n",
    "which make $PV_t = 0$. We can evaluate the expectation:\n",
    "\n",
    "\n",
    "* for $t \\leq T-\\tau$, $ R_{t,T} = \\frac{1}{\\tau} \\left( \\frac{P_{t, T - \\tau}}{P_{t,T}} - 1\\right)$ is analogous to IBOR forward rates.\n",
    "* for $ T-\\tau < t \\leq T$, $ R_{t,T} = \\frac{1}{\\tau} \\left( \\frac{B_t}{B_{T - \\tau} P_{t,T}} - 1\\right)$ is daily compounding.\n",
    "* post maturity $ R_{t,T} \\equiv \\frac{1}{\\tau} \\left( \\frac{B_{T}}{B_{T - \\tau}}  - 1\\right)$ is known and fixed.\n",
    "\n",
    "  \n",
    "The yield curve $T \\rightarrow P_{t,T}$ can be boostrapped from $T \\rightarrow  R_{t,T}$ quotes.\n",
    "\n",
    "The arithmetic average forward rate can be expressed as:\n",
    "$$\n",
    "A_{t,T} \\coloneqq  A_t(T - \\tau, T) = \\mathbb{E}^{Q^T}_{t} \\left[ \\frac{1}{\\tau} \\log \\left(1 + \\tau R(T - \\tau, T)\\right) \\right]\n",
    "$$\n",
    "and since the payoff is non-linear, $A_{t,T}$ is model dependent. A convexity correction can appear compared to market quotes:\n",
    "$$\n",
    "A_{t,T} = \\frac{1}{\\tau} \\log \\left(1 + \\tau R_{t,T}\\right) + \\text{Convexity Correction}\n",
    "$$\n",
    "\n",
    "#### 1.2.1 Interest Rate Swap\n",
    "Interest Rate Swap (IRS) based on simple daily-compounding backward rates values:\n",
    "$$\n",
    "PV_t = \\sum_{i=1}^n \\tau_i P_{t,T_i}R_t(T_{i-1}, T_i) - K \\cdot  \\sum_{j=1}^m \\tau'_i P_{t, T'_j}\n",
    "$$\n",
    "with floating leg tenors $T_0, \\dots, T_n$ and fixed leg $T'_0, \\dots, T'_m$ tenors. \n",
    "\n",
    "For $t < T_0$ forward swap rate with associated present value of a basis point evaluates:\n",
    "$$\n",
    "S_t(T_0, T_n) = \\frac{P_{t,T_0} - P_{t,T_n}}{\\text{PVBP}(t)} , \\quad \\text{PVBP}(t) = \\sum_{j=1}^m \\tau'_j P_{t, T'_j}\n",
    "$$"
   ]
  },
  {
   "cell_type": "markdown",
   "id": "8c171219-d012-4c5d-8cc6-ac0c7c3108ee",
   "metadata": {},
   "source": [
    "Consider the OIS FRA quotes:"
   ]
  },
  {
   "cell_type": "code",
   "execution_count": null,
   "id": "53f84560-e7c6-4d39-adde-72236d0a4616",
   "metadata": {},
   "outputs": [],
   "source": [
    "fwd_ois.set_index('tenor').sort_index().forward_rate.plot(title='Forward OIS Rate', grid=True, figsize=(20,10));"
   ]
  },
  {
   "cell_type": "markdown",
   "id": "538550e6-4b00-463c-8cc8-771129cc9b0d",
   "metadata": {},
   "source": [
    "Compute the yield curve $T \\rightarrow P_{t,T}$  using the above quotes."
   ]
  },
  {
   "cell_type": "code",
   "execution_count": null,
   "id": "b27bc6d7-ab61-47cc-90d1-12e29cbac3c4",
   "metadata": {},
   "outputs": [],
   "source": [
    "def build_ois_yield_curve_from_now_starting(forwards, tenors):\n",
    "    zcbs = 1 / (1 + tenors * forwards)\n",
    "    return CubicSpline1D(tenors, zcbs)\n",
    "\n",
    "ois_yield_curve = build_ois_yield_curve_from_now_starting(\n",
    "    torch.tensor(fwd_ois.forward_rate.values),\n",
    "    torch.tensor(fwd_ois.tenor.values)\n",
    ")"
   ]
  },
  {
   "cell_type": "markdown",
   "id": "8619d8d6-6209-444d-9de6-b486adcf350b",
   "metadata": {},
   "source": [
    "Let's compute IRS swap rates with tenors ranging from 1M to 10Y starting overnight, to bootstrap the yield curve $P_{t,T}$ back. In fact, the swap rate formula leads to a linear equation:\n",
    "$$\n",
    "P_{t,T_m} + \\tau S_t(T_{1,\\dots,m}) \\sum_{j=1}^m P_{t, T_j} = 1\n",
    "$$\n",
    "where the coupons $P_{t,T_i}$ are variables and different swap quotes $S_t(  T_{m, \\dots, n})$ lead to a system of linear equations that can be solved using the SVD method for $P_{t,T_i}$. One can then fit a polynomial model to smooth out the yield curve."
   ]
  },
  {
   "cell_type": "code",
   "execution_count": null,
   "id": "873d2ecd-b9ec-4036-a25e-cd0b1ed359ec",
   "metadata": {},
   "outputs": [],
   "source": [
    "tau = 1/12\n",
    "n_coupons = 120\n",
    "maturities = tau * torch.ones(n_coupons).cumsum(0)\n",
    "num_months = 1 + torch.arange(0, 120, step=1)\n",
    "n_tenors = num_months.numel()\n",
    "A = torch.zeros((n_tenors,120))\n",
    "for i in range(n_tenors):\n",
    "    n_months = num_months[i].item()\n",
    "    payment_dates = (1 + torch.arange(n_months)) / 12\n",
    "    zcb_last = ois_yield_curve.evaluate(payment_dates[-1]).sum()\n",
    "    tau_swap_rate = (1 - zcb_last) / ois_yield_curve.evaluate(payment_dates).sum()\n",
    "    for j in range(n_months):\n",
    "        A[i][j] = tau_swap_rate.item()\n",
    "    A[i][n_months-1] += 1\n",
    "U, S, Vh = torch.linalg.svd(A)"
   ]
  },
  {
   "cell_type": "code",
   "execution_count": null,
   "id": "332ccdda-4578-451a-a38b-4338a0cfe4bc",
   "metadata": {},
   "outputs": [],
   "source": [
    "bootstrap_zcb = torch.mv(Vh[:n_tenors].t(), torch.mv(U.t(), torch.ones(n_tenors)) / S)"
   ]
  },
  {
   "cell_type": "code",
   "execution_count": null,
   "id": "30a77112-c7c1-44bb-a26a-359a3114e1a2",
   "metadata": {},
   "outputs": [],
   "source": [
    "pd.DataFrame({\n",
    "    'maturities' : maturities.numpy(),\n",
    "    'zcbs': ois_yield_curve.evaluate(maturities).flatten().numpy(),\n",
    "    'bootstrap': bootstrap_zcb.numpy()}).set_index('maturities').plot(legend=True, grid=True, figsize=(20,10));"
   ]
  },
  {
   "cell_type": "markdown",
   "id": "0ecd5382-684e-4fd7-8c13-d87be1178b68",
   "metadata": {},
   "source": [
    "### 1.3 Forward Market Model (FMM)\n",
    "As we approach maturity $T$, backward-looking rates settle to constant, and we need to choose a cutoff function to dampen volatility. \n",
    "  \n",
    "A typical example is the linear cutoff $g_{t,T} = (T-t)^+ / \\tau $ for $t \\in (T-\\tau, T)$ with $g_{t,T} \\equiv 1$ for $t \\leq T-\\tau$ and $g_{t,T} \\equiv 0$, $t \\geq T$.  \n",
    "  \n",
    "In extended $T$-forward measure:\n",
    "$$\n",
    "dR_{t,T} = g_{t,T} \\sigma_{t,T} (R_{t,T}) dW_t^{Q^T} \\quad \\text{martingale,}\n",
    "$$\n",
    "\n",
    "where $\\sigma_{t,T} \\equiv \\sigma^T$ (Bachelier), or $\\sigma_{t,T} \\equiv \\sigma^T R_{t,T}$ (Black), or  $\\sigma_{t,T} \\equiv \\sigma^T (R_{t,T})^{\\beta}$ (CEV), or Dupire local vol, or stochastic vol etc. with (multi-dimensional) Brownian motion $W_{t,T}$\n",
    "\n",
    "In money-savings numeraire $B_t$, we get the drift:\n",
    "$$\n",
    "dR_{t,T} = g_{t,T} \\sigma_{t,T}(R_{t,T}) \\left[\n",
    "\\sum_{T' < T}\\rho_{T',T} \\frac{\\tau' g_{t,T'} \\sigma_{t,T'}(R_{t,T'})}{1 + \\tau' R_{t,T'} } dt + dW_t^Q\n",
    "\\right]\n",
    "$$\n",
    "where the sum runs over shorter tenors and $\\rho$ holds the correlation structure of the curve."
   ]
  },
  {
   "cell_type": "markdown",
   "id": "de17cba3-ee26-4b0a-a509-8dff418eaf20",
   "metadata": {},
   "source": [
    "#### 1.3.1 Caplet Pricing\n",
    "\n",
    "Using $P_{t,T}$ as numeraire, for simply-compound rates:\n",
    "\n",
    "$$\n",
    "V^{\\text{Caplet}}_t \\left[ R_{t,T}, K \\right] = P_{t,T} \\mathbb{E}_{t}^{Q^T} \\left[ \\tau \\left( R(T-\\tau, T) - K \\right)^+ \\right] \n",
    "$$\n",
    "\n",
    "For arithmetic average compound rates, the choice of cutoff $g_{t,T}$ influence directly the convexity correction. \n",
    "One should attempt to choose it such that we have:\n",
    "$$\n",
    "V^{\\text{Caplet}}_t \\left[ A_{t,T}, K \\right] = P_{t,T} \\mathbb{E}_{t}^{Q^T} \\left[ \\tau \\left( A(T-\\tau, T) - K \\right)^+ \\right] =  P_{t,T} \\mathbb{E}_{t}^{Q^T} \\left[  \\left( \\log \\left(1 + \\tau R(T - \\tau, T)\\right)  - \\tau K \\right)^+ \\right] \n",
    "$$ \n",
    "\n",
    "As reference, using the linear cutoff:\n",
    "$$\n",
    "\\hat{g}_{t,T}^2 \\coloneqq \\int_{t,T} g_{t,T}^2(s)ds = \n",
    "\\begin{cases}\n",
    "  T - t - \\frac{2}{3}\\tau,  & t\\leq T-\\tau \\\\\n",
    "  \\frac{(T-t)^3}{3\\tau^2},  & t > T - \\tau\n",
    "\\end{cases}\n",
    "$$"
   ]
  },
  {
   "cell_type": "markdown",
   "id": "710af4c5-630e-4787-8209-bd1e9e3e345a",
   "metadata": {},
   "source": [
    "Bachelier model:\n",
    "$$\n",
    "dR_{t,T} = g_{t,T} \\sigma dW_t^{Q^T}, \\quad R(T-\\tau, T) \\sim \\mathcal{N}\\left(R_{t,T}, (\\sigma\\hat{g}_{t,T})^2 \\right) \n",
    "$$ \n"
   ]
  },
  {
   "cell_type": "markdown",
   "id": "bb1430d1-762c-4717-b87a-f7a4b50b040d",
   "metadata": {},
   "source": [
    "Black model:\n",
    "$$\n",
    "dR_{t,T} = g_{t,T} R_{t,T} \\sigma dW_t^{Q^T}, \\quad R(T-\\tau, T) = R_{t,T} \\exp \\left( - \\frac{(\\sigma\\hat{g}_{t,T})^2 }{2} + \\mathcal{N}\\left(0, (\\sigma\\hat{g}_{t,T})^2 \\right)  \\right)\n",
    "$$"
   ]
  },
  {
   "cell_type": "markdown",
   "id": "57273879-0a14-4ff6-b3db-6f05e11b863f",
   "metadata": {},
   "source": [
    "Market makers formula convention for arithmetic-average compound rates:\n",
    "$$\n",
    "V^{\\text{Caplet}}_t \\left[ A'_{t,T}, K \\right] = \\tau P_{t,T}\\left[ \\left( A'_{t,T} - K\\right) \\Phi\\left(\\frac{A'_{t,T} - K}{\\sigma \\hat{g}_{t,T} }\\right) + \\sigma \\hat{g}_{t,T} \\phi\\left(\\frac{A'_{t,T} - K}{\\sigma \\hat{g}_{t,T} }\\right)\\right]\n",
    "$$\n",
    "which is the Bachelier model (normal volatility, $\\Phi$ and $\\phi$ are normal distribution CDF and PDF respectively), or:\n",
    "$$\n",
    "V^{\\text{Caplet}}_t \\left[ A'_{t,T}, K \\right] = \\tau P_{t,T}\\left[ A'_{t,T} \\Phi\\left(d_{+}\\right) - K \\Phi \\left(d_{-} \\right) \\right], \\quad d_{\\pm} = \\frac{\\log (A'_{t,T} / K) \\pm (\\sigma \\hat{g}_{t,T})^2 / 2 }{\\sigma\\hat{g}_{t,T}}\n",
    "$$\n",
    "with the Black model (log-normal volatility). No convexity correction is taken into account. However, the discounting $P_{t,T}$ is done with respect to the OIS curve, even if  $A'_{t,T}$ correspond to a different RFR rate (e.g. a Key Rate). "
   ]
  },
  {
   "cell_type": "code",
   "execution_count": null,
   "id": "23b9e1da-0a14-4912-95ee-cbbc177d12d8",
   "metadata": {},
   "outputs": [],
   "source": [
    "fwd_key_rate.set_index('tenor').sort_index().forward_rate.plot(title='Forward Key Rate', grid=True, figsize=(20,10));"
   ]
  },
  {
   "cell_type": "code",
   "execution_count": null,
   "id": "4cb1a0f3-6df5-4bf0-8ae0-483813b29649",
   "metadata": {},
   "outputs": [],
   "source": [
    "for k,v in vol_key_rate.groupby('time_to_maturity'):\n",
    "    v.set_index('strike').sort_index().implied_normal_vol.rename(f'tenor {round(k,2)}').plot(legend=True, grid=True, figsize=(20,10));"
   ]
  },
  {
   "cell_type": "code",
   "execution_count": null,
   "id": "6cf5fbf7-6f2e-413c-a29a-f325fbe2a1b6",
   "metadata": {},
   "outputs": [],
   "source": [
    "def key_rate_fwd_curve_from_now_starting(forwards, time_to_maturity):\n",
    "    return CubicSpline1D(time_to_maturity, forwards)\n",
    "\n",
    "def caplet_premium_from_now_starting(vol_surface, key_rate_fwd, ois_yield_curve):\n",
    "    time_to_maturity = torch.tensor(vol_surface.time_to_maturity.values)\n",
    "    tenor = torch.tensor(vol_surface.tenor.values)\n",
    "    g_hat = torch.sqrt(time_to_maturity - (2/3) * tenor)\n",
    "\n",
    "    strike = torch.tensor(vol_surface.strike.values)\n",
    "    fwd = key_rate_fwd.evaluate(time_to_maturity).flatten()\n",
    "    discount = ois_yield_curve.evaluate(time_to_maturity).flatten()\n",
    "    iv = torch.tensor(vol_surface.implied_normal_vol.values)\n",
    "\n",
    "    sigma_moneyness = (fwd - strike) / (iv * g_hat)\n",
    "\n",
    "    normal = torch.distributions.Normal(0,1)\n",
    "    Phi = normal.cdf\n",
    "    log_phi = normal.log_prob\n",
    "\n",
    "    pv = tenor * discount * ( (fwd - strike) * Phi(sigma_moneyness) + iv * g_hat * torch.exp(log_phi(sigma_moneyness)) )\n",
    "    return torch.maximum(pv,torch.tensor(0.))"
   ]
  },
  {
   "cell_type": "code",
   "execution_count": null,
   "id": "6849808a-a202-478c-9515-5722c26bac17",
   "metadata": {},
   "outputs": [],
   "source": [
    "key_rate_fwd_curve = key_rate_fwd_curve_from_now_starting(\n",
    "    torch.tensor(fwd_key_rate.forward_rate.values),\n",
    "    torch.tensor(fwd_key_rate.time_to_maturity.values)\n",
    ")"
   ]
  },
  {
   "cell_type": "code",
   "execution_count": null,
   "id": "4a7197cd-15d1-4cec-b996-a0a5e56e430c",
   "metadata": {},
   "outputs": [],
   "source": [
    "vol_key_rate['pv'] = caplet_premium_from_now_starting(vol_key_rate, key_rate_fwd_curve, ois_yield_curve).numpy()"
   ]
  },
  {
   "cell_type": "code",
   "execution_count": null,
   "id": "3ed71319-daab-4022-86d0-53649bcaa2a4",
   "metadata": {},
   "outputs": [],
   "source": [
    "for k,v in vol_key_rate.groupby('time_to_maturity'):\n",
    "    v.set_index('strike').sort_index().pv.rename(f'tenor {round(k,2)}').plot(legend=True, grid=True, figsize=(20,10));"
   ]
  },
  {
   "cell_type": "markdown",
   "id": "2d2b6652-d4b0-47bb-a37a-fbd6c793c0c3",
   "metadata": {},
   "source": [
    "### 1.4 Short Rate Models: Hull-White\n",
    "\n",
    "Dynamics in money-savings risk-neutral measure $Q$ are given by:\n",
    "$$\n",
    "dr_t = \\left( \\theta_t - \\lambda r_t \\right) dt + \\sigma dW_t\n",
    "$$\n",
    "\n",
    "with $\\theta_t$ fixed by the HJM no-arbitrage condition. This can be rewritten as affine process:\n",
    "\n",
    "$$\n",
    "r_t = \\alpha_t + x_t \n",
    "$$\n",
    "\n",
    "where the deterministic part follows the HJM condition:\n",
    "$$\n",
    "\\alpha_T = - \\frac{\\partial}{ \\partial T}\\log P_{t,T} + \\frac{\\sigma^2}{2 \\lambda^2} \\left( 1- e^{\\lambda (T-t)} \\right)\n",
    "$$\n",
    "and the stochastic part:\n",
    "$$\n",
    "dx_t = - \\lambda x_t dt + \\sigma dW_t\n",
    "$$\n",
    "which is simply a Gaussian:\n",
    "$$\n",
    "x_T \\sim \\mathcal{N} \\left( x_t e^{-\\lambda(T-t)}, \\quad \\frac{\\sigma^2}{2 \\lambda} \\left( 1- e^{-2\\lambda (T-t)} \\right) \\right)\n",
    "$$\n",
    "\n",
    "Changing to the $T$-forward measure $Q^T$: \n",
    "$$\n",
    "dx_t = - \\left( \\frac{\\sigma^2}{\\lambda} \\left(1 - e^{-\\lambda(T-t)} \\right) + \\lambda x_t \\right) dt + \\sigma dW^T_t\n",
    "$$\n",
    "\n",
    "which is also a gaussian with mean:\n",
    "$$\n",
    "\\mathbb{E}^{Q^T}_{t} \\left[ x_{t+\\Delta} \\right] = x_t e^{-\\lambda \\Delta} - \\frac{\\sigma^2}{\\lambda^2} \\left(1 - e^{-\\lambda \\Delta} \\right) - \\frac{\\sigma^2}{2\\lambda^2} \\left(e^{-\\lambda(T-t-\\Delta)} - e^{-\\lambda(T-t+\\Delta)} \\right) \n",
    "$$\n",
    "and variance $\\frac{\\sigma^2}{2 \\lambda} \\left( 1- e^{-2\\lambda \\Delta} \\right)$ as in measure $Q$."
   ]
  },
  {
   "cell_type": "code",
   "execution_count": null,
   "id": "b9808730-db4a-49dd-9e70-7d60cc4f42bc",
   "metadata": {},
   "outputs": [],
   "source": [
    "timeline = torch.linspace(0, 10., 3651)[1:] # 10 years Actual/365 day"
   ]
  },
  {
   "cell_type": "code",
   "execution_count": null,
   "id": "d66f1e62-8302-4cd3-80dc-0cae70988d68",
   "metadata": {},
   "outputs": [],
   "source": [
    "def generate_hull_white(\n",
    "        n_paths: int,\n",
    "        n_steps: int,\n",
    "        dt: torch.Tensor,\n",
    "        init_state: torch.Tensor,\n",
    "        lam: torch.Tensor,\n",
    "        sigma: torch.Tensor\n",
    ") -> torch.Tensor:\n",
    "    \n",
    "    paths = torch.empty((n_paths, n_steps + 1), dtype=init_state.dtype)\n",
    "    paths[:, 0] = init_state\n",
    "    for i in range(0, n_steps):\n",
    "        x = paths[:, i].clone()\n",
    "        Z = torch.randn_like(x)\n",
    "        x_next = x * torch.exp(- dt * lam) + Z * torch.sqrt( sigma * sigma * (1 - torch.exp(- 2 * dt * lam)) / (2 * lam) ) \n",
    "        paths[:, i+1] = x_next\n",
    "    return paths"
   ]
  },
  {
   "cell_type": "code",
   "execution_count": null,
   "id": "45013f33-88e2-4686-b1b1-8df284064ddd",
   "metadata": {},
   "outputs": [],
   "source": [
    "x0 = torch.tensor(0., requires_grad = True)\n",
    "lam = torch.tensor(1., requires_grad = True)\n",
    "sigma = torch.tensor(0.3, requires_grad = True) "
   ]
  },
  {
   "cell_type": "code",
   "execution_count": null,
   "id": "649b68ba-b6a9-4cff-b8ca-cfd12c7655c5",
   "metadata": {},
   "outputs": [],
   "source": [
    "hw_paths = generate_hull_white(1000, timeline.shape[0], timeline[0], x0, lam, sigma)"
   ]
  },
  {
   "cell_type": "code",
   "execution_count": null,
   "id": "7f7ca3ca-854b-4c2b-820d-a8ff564d0bad",
   "metadata": {},
   "outputs": [],
   "source": [
    "pv = torch.maximum(hw_paths[:,-1] - 0. , torch.tensor(0.)).mean()"
   ]
  },
  {
   "cell_type": "code",
   "execution_count": null,
   "id": "9faa45e7-2869-4405-bdc2-0e8ae72d8e59",
   "metadata": {},
   "outputs": [],
   "source": [
    "grad = torch.autograd.grad(pv, [x0, lam, sigma])\n",
    "grad"
   ]
  },
  {
   "cell_type": "markdown",
   "id": "a84c3712-f527-492c-8ad0-d697ff5d0258",
   "metadata": {},
   "source": [
    "#### 1.4.1 The Hull-White-Heston model\n",
    "\n",
    "To price the volatility smile we rely on stochastic volatility models such as the Heston Model, which combined with Hull-White looks like:\n",
    "\n",
    "$$\n",
    "\\left\\{\n",
    "\\begin{array}{l}\n",
    "    dx_t = - \\lambda x_t dt + \\sqrt{v_t} \\text{d}W_t^x,  \\\\\n",
    "    dv_t =  \\kappa (\\theta - v_t)\\text{d}t + \\varepsilon \\sqrt{v_t} \\text{d} W_t^v,\n",
    "\\end{array}\\right.\n",
    "$$\n",
    "with no correlation between the Brownian motions $dW_t^x \\cdot dW_t^v = 0$, as this breaks the affinity of the process when changing from measure $Q$ to the $T$-forward $Q^T$: \n",
    "$$\n",
    "\\left\\{\n",
    "\\begin{array}{l}\n",
    "    dx_t =  - \\left( \\frac{v}{\\lambda} \\left(1 - e^{-\\lambda(T-t)} \\right) + \\lambda x_t \\right) dt + \\sqrt{v_t} \\text{d}W_t^x,  \\\\\n",
    "    dv_t =  \\kappa (\\theta - v_t)\\text{d}t + \\varepsilon \\sqrt{v_t} \\text{d} W_t^v,\n",
    "\\end{array}\\right.\n",
    "$$\n",
    "\n",
    "The short rate itself:\n",
    "$$ \n",
    "r_t = \\alpha_t + x_t \n",
    "$$ \n",
    "where the HJM condition on $\\alpha_t$ is described in the multiple-curve framework below.\n",
    "\n",
    "Stochastic variance is an CIR process with non-central chi-squared distribution:\n",
    "$$\n",
    "\\mathbb{P}\\left(v_{t + \\Delta}<v \\mid v_{t}\\right) \\quad = \\quad F_{\\chi'^{2}}\\left(\\frac{4 \\kappa v}{\\varepsilon^{2}\\left(1-e^{-\\kappa \\Delta}\\right)} ; \\frac{4 \\kappa \\theta}{\\varepsilon^{2}}, \\frac{4 v_{t} \\kappa e^{-\\kappa \\Delta}}{\\varepsilon^{2}\\left(1-e^{-\\kappa \\Delta}\\right)}\\right) \\quad\n",
    "$$\n",
    "over a time step $\\Delta$, and admits an almost exact QE simulation scheme.  \n",
    "\n",
    "Since no correlation leaks can occur, the Euler scheme is sufficient to evolve $x_t$ and $v_t$:\n",
    "$$\n",
    "x_{t+\\Delta} \\sim \\mathcal{N} \\left( x_t e^{-\\lambda \\Delta}, \\quad \\frac{v_t}{2 \\lambda} \\left( 1- e^{-2\\lambda \\Delta} \\right) \\right)\n",
    "$$\n",
    "and similarly in $T$-forward measure.\n"
   ]
  },
  {
   "cell_type": "code",
   "execution_count": null,
   "id": "bfdba655-3bd4-4c7e-960e-030ef0d29bf6",
   "metadata": {},
   "outputs": [],
   "source": [
    "from pyquant.heston_sim import generate_cir"
   ]
  },
  {
   "cell_type": "code",
   "execution_count": null,
   "id": "4e436972-2619-4169-9150-dccf7b9669b3",
   "metadata": {},
   "outputs": [],
   "source": [
    "v0 = torch.tensor(0.65, requires_grad = True)\n",
    "theta = torch.tensor(1., requires_grad = True)\n",
    "kappa = torch.tensor(1.3, requires_grad = True) \n",
    "epsilon = torch.tensor(1., requires_grad = True) "
   ]
  },
  {
   "cell_type": "code",
   "execution_count": null,
   "id": "7137ab33-6393-4fae-8f32-668ebde6253c",
   "metadata": {},
   "outputs": [],
   "source": [
    "cir_paths = generate_cir(1000, timeline.shape[0], timeline[0], v0, kappa, theta, epsilon, 1e-6)"
   ]
  },
  {
   "cell_type": "code",
   "execution_count": null,
   "id": "500ef10f-a9b2-42f6-93f8-6caad5083cb5",
   "metadata": {},
   "outputs": [],
   "source": [
    "def generate_hull_white_heston(\n",
    "        n_paths: int,\n",
    "        n_steps: int,\n",
    "        dt: torch.Tensor,\n",
    "        init_state: torch.Tensor,\n",
    "        lam: torch.Tensor,\n",
    "        var: torch.Tensor\n",
    ") -> torch.Tensor:\n",
    "    assert(var.shape == (n_paths, n_steps + 1))\n",
    "    paths = torch.empty((n_paths, n_steps + 1), dtype=init_state.dtype)\n",
    "    paths[:, 0] = init_state\n",
    "    for i in range(0, n_steps):\n",
    "        x = paths[:, i].clone()\n",
    "        Z = torch.randn_like(x)\n",
    "        sigma_2 = var[:, i]\n",
    "        x_next = x * torch.exp(- dt * lam) + Z * torch.sqrt( sigma_2 * (1 - torch.exp(- 2 * dt * lam)) / (2 * lam) ) \n",
    "        paths[:, i+1] = x_next\n",
    "    return paths"
   ]
  },
  {
   "cell_type": "code",
   "execution_count": null,
   "id": "43b877e0-4261-485f-8b7e-6971a3acf168",
   "metadata": {},
   "outputs": [],
   "source": [
    "x0 = torch.tensor(0., requires_grad = True)\n",
    "lam = torch.tensor(1., requires_grad = True)"
   ]
  },
  {
   "cell_type": "code",
   "execution_count": null,
   "id": "6a5f4660-3d01-46e7-bae3-fc2da40b4b7b",
   "metadata": {},
   "outputs": [],
   "source": [
    "hwh_paths = generate_hull_white_heston(1000, timeline.shape[0], timeline[0], x0, lam, cir_paths)"
   ]
  },
  {
   "cell_type": "code",
   "execution_count": null,
   "id": "1436857f-d582-4b6e-b241-0501a05e34eb",
   "metadata": {},
   "outputs": [],
   "source": [
    "pv = torch.maximum(hwh_paths[:,-1] - 0. , torch.tensor(0.)).mean()"
   ]
  },
  {
   "cell_type": "code",
   "execution_count": null,
   "id": "e952b82f-99af-4035-9b91-2cb95344cbfc",
   "metadata": {},
   "outputs": [],
   "source": [
    "grad = torch.autograd.grad(pv, [x0, lam, v0, kappa, theta, epsilon])\n",
    "grad"
   ]
  },
  {
   "cell_type": "markdown",
   "id": "dc099560-3c1a-48b6-9ae0-8286a3caf309",
   "metadata": {},
   "source": [
    "## 2. Multi-Curve models"
   ]
  },
  {
   "cell_type": "markdown",
   "id": "70cebe14-4a40-4c60-a340-d7d67e416e2e",
   "metadata": {},
   "source": [
    "### 2.1 Affine multi-curve models and IBOR rates\n",
    "\n",
    "The short rate is given by:\n",
    "$$\n",
    "r_t = f(t) + \\lambda^T \\textbf{x}_t\n",
    "$$\n",
    "where $\\textbf{x}_t$ is an affine process and $\\lambda$ is constant. The latter drive also the instantaneous forward spread rates to other curves:\n",
    "$$\n",
    "s_t^{\\delta} = s^{\\delta}(t) + \\gamma_{\\delta}^T \\textbf{x}_t\n",
    "$$\n",
    "enumerated by $\\delta$, with $\\gamma_{\\delta}$ constant. If those spreads corresponds to IBOR rates, then $\\delta$ are the tenors, and we require:\n",
    "$$\n",
    "0 \\leq s_t^{\\delta_i}  \\leq s_t^{\\delta_j}, \\quad  \\delta_i < \\delta_j\n",
    "$$\n",
    "in which case we can calibrate to the available ZCB curves:\n",
    "$$\n",
    "T \\rightarrow P_{t,T} = \\mathbb{E}_t \\left[ e^{- \\int_{t,T} r_u du} \\right], \\quad P^\\delta_{t,T} = \\mathbb{E}_t \\left[ e^{ - \\int_{t,T} \\left(r_u + s^{\\delta}_u \\right)du} \\right]\n",
    "$$\n",
    "\n",
    "where $P_{t,T}$ is the OIS curve, and the other correspond to IBOR forward rates at different tenors:\n",
    "$$\n",
    "L_t(T-\\delta, T)=  \\frac{P_{t,T-\\delta}^\\delta - P_{t,T}^\\delta}{\\delta \\cdot P_{t,T}^\\delta} \n",
    "$$\n",
    "\n",
    "Denoting the forward spreads:\n",
    "$$\n",
    "S^{\\delta}_t(T) = \\frac{1 + \\delta \\cdot L_t(T-\\delta, T)}{1 + \\delta \\cdot L^D_t(T-\\delta,T)} = \\frac{P_{t,T-\\delta}^\\delta}{P_{t,T}^\\delta} \\frac{P_{t,T}}{P_{t,T-\\delta}}\n",
    "$$\n",
    "where $L^D_t(T-\\delta, T) =   \\frac{P_{t,T-\\delta} - P_{t,T}}{\\delta P_{t,T} }$ is the forward looking RFR.\n",
    "\n",
    "We recall that the instantaneous forward is given by:\n",
    "$$\n",
    "f_{t,T} = - \\frac{\\partial}{\\partial T} \\log P_{t,T}\n",
    "$$\n",
    "\n",
    "whereas the instantenous multiplicative spread:\n",
    "$$\n",
    "s^{\\delta}_{t,T} =  \\frac{\\partial}{\\partial T} \\log S^\\delta_t(T)\n",
    "$$\n",
    "\n",
    "note the difference is signs, as heuristically the instantenous forward for the tenor-$\\delta$ curve is  $f_{t,T}^\\delta = f_{t,T} + s^{\\delta}_{t,T}$.\n",
    "\n",
    "The HJM condition in that case reduces to:\n",
    "$$\n",
    "f(t) = f_{t,T} - \\bar{f}_{t,T}, \\quad s^{\\delta}(t) = \\frac{\\partial}{\\partial t} \\log S^\\delta _0(t) - \\frac{\\partial}{\\partial t} \\log \\bar{S}^\\delta _0(t) \n",
    "$$\n",
    "where the base curves $\\bar{P}_{0,t}$ and $\\bar{S}^\\delta _0(t)$ are obtained from a model where $f(t)\\equiv 0$ and $s^{\\delta}(t) \\equiv 0$.\n",
    "\n",
    "\n",
    "#### 2.1.1 Linear Products\n",
    "\n",
    "IBOR quotes typically come from FRAs, whose present value at strike $K$ is given by:\n",
    "$$\n",
    "PV_t\\left[K \\right] = P_{t,T} S^{\\delta}_t(T)- (1 + \\delta K) P_{t, T+\\delta}\n",
    "$$\n",
    "\n",
    "Using IRSs quotes, one solves for forward spreads $S^{\\delta}_t(T)$ directly, as the former evaluates to:\n",
    "$$\n",
    "PV_t \\left[\\delta,  \\delta', K\\right] = \\sum_{i \\geq 1} \\left( P_{t, T_{j-1}}  S^{\\delta}_t(T_{j-1}) -  P_{t, T_{j}} \\right) - \\delta' K \\sum_{j\\geq 1} P_{t, T'_j}\n",
    "$$\n",
    "where $\\delta = T_{i} - T_{i-1}$ is the floating leg tenor and $\\delta' = T'_{j} - T'_{j-1}$ is the fixed leg tenor. \n",
    "\n",
    "#### 2.1.2 Model with CIR processes\n",
    "A typical example can be obtained using self-exciting CIR processes for the forward spreads and Hull White dynamics for the rate:\n",
    "$$\n",
    "s_t^{\\delta_j} = s^{\\delta_j}(t) + \\sum_{i \\leq j} \\gamma_i x_{t}^i, \\quad \\gamma_i \\geq 0, \\quad dx_{t}^i= \\kappa_i (\\theta_i - x_{t}^i) dt + \\epsilon_i \\sqrt{x_{t}^i} dW_t^i\n",
    "$$\n",
    "where tenors $\\delta_{1} < \\delta_{2} < \\dots < \\delta_{n}$ are in increasing order. \n",
    "\n",
    "The short rate  follows the Hull-White-Heston multi-factor model:\n",
    "$$\n",
    "r_t = f(t) + x_t^0, \\quad dx_{t}^0 = - \\lambda_0 x_{t}^0 dt + \\sum_{i=1}^n \\lambda_i \\sqrt{x_{t}^i} dW_t^i\n",
    "$$\n",
    "where $\\lambda_1^2 + \\dots + \\lambda_n^2 =1$, and all Brownian motions $W_t^i$ are independent.\n"
   ]
  },
  {
   "cell_type": "markdown",
   "id": "3e02067a-89f8-476b-bef4-3742b2327b71",
   "metadata": {},
   "source": [
    "### 2.2 Modelling Arithmetic-Average Compounding on a Key Rate\n",
    "\n",
    "We are not confined to model IBOR rates with spreads $s_t^{\\delta}$. In fact, we can choose any other curve, in which case we will need to fit whatever market quotes are available to us. \n",
    "\n",
    "In our case, we have a forward curve for arithmetic-average backward looking $A_{t,T}$ on a Key Rate, which is different from the OIS $r_t$ for which we also have forward curve. And we need to capture the smile of a volatility surface on $A_{t,T}$. \n",
    "\n",
    "We can add to the Hull-White-Heston model a stochastic spread between OIS short rate and the Key Rate:\n",
    "$$\n",
    "r_t = f(t) + x_t, \\quad dx_{t} = - \\lambda x_{t} dt + \\sqrt{v_t} dW_t^x, \\quad dv_t =  \\kappa (\\theta - v_t)dt + \\varepsilon \\sqrt{v_t} dW_t^v\n",
    "$$\n",
    "as above and the spread follows a mean-reversion processess near zero:\n",
    "$$\n",
    "s_t = s^a(t) + k_t, \\quad dk_t =  - \\gamma k_t dt + \\xi dW_t^k\n",
    "$$\n",
    "with all Brownian motions $W_t^x, W_t^v$ and $W_t^k$ independent. \n",
    "\n",
    "Note that the spread $s^a(t)$ does not depend on a tenor $\\tau$ as we are working with RFR rates, and therefore can be computed from any tenor. The most convenient is the one corresponding to time to maturity $\\tau = T-t$, and in fact it is the one which is typically quoted. In that case:\n",
    "$$\n",
    "s^a(t) = \\left( f_{t,T}^a - f_{t,T} \\right) - \\left( \\bar{f}_{t,T}^a - \\bar{f}_{t,T} \\right)\n",
    "$$\n",
    "where the top-bar terms are the ones obtained from the model with $s^a(t) \\equiv 0$ and $f(t) \\equiv 0$ as above."
   ]
  },
  {
   "cell_type": "markdown",
   "id": "bacb28e9-2454-4f7f-88f7-aed5228b6b1b",
   "metadata": {},
   "source": [
    "#### Exercise 2.2.1\n",
    "\n",
    "Obtain the OIS instantaneous rates $f_{t,T}$ from:"
   ]
  },
  {
   "cell_type": "code",
   "execution_count": null,
   "id": "f145de84-f1aa-435c-a842-e8d3bc330d3d",
   "metadata": {},
   "outputs": [],
   "source": [
    "def build_fwd_curve_from_now_starting(forwards, tenors):\n",
    "    zcbs = 1 / (1 + tenors * forwards)\n",
    "    log_zcbs = torch.log(zcbs)\n",
    "    return CubicSpline1D(tenors, - log_zcbs)\n",
    "\n",
    "ois_fwd = build_fwd_curve_from_now_starting(\n",
    "    torch.tensor(fwd_ois.forward_rate.values),\n",
    "    torch.tensor(fwd_ois.tenor.values)\n",
    ")"
   ]
  },
  {
   "cell_type": "markdown",
   "id": "be1dca4c-fb3c-4ec6-86bd-05aca1574496",
   "metadata": {},
   "source": [
    "Ignoring the convexity correction, obtain the Key Rate instantaneous rates $f^a_{t,T}$ from:"
   ]
  },
  {
   "cell_type": "code",
   "execution_count": null,
   "id": "8abb400e-0108-4701-82ae-39b3f3d7aebb",
   "metadata": {},
   "outputs": [],
   "source": [
    "fwd_key_values = torch.tensor(fwd_key_rate.forward_rate.values, requires_grad=True)"
   ]
  },
  {
   "cell_type": "code",
   "execution_count": null,
   "id": "e4e7a100-880f-440a-8da4-b4d4d1f4199a",
   "metadata": {},
   "outputs": [],
   "source": [
    "key_fwd = build_fwd_curve_from_now_starting(\n",
    "    fwd_key_values,\n",
    "    torch.tensor(fwd_key_rate.time_to_maturity.values)\n",
    ")"
   ]
  },
  {
   "cell_type": "markdown",
   "id": "16f9a184-938f-4003-aa80-d70d83cef22a",
   "metadata": {},
   "source": [
    "Obtain the parameters for the factors $x_t$, $v_t$ and $k_t$ as to fit the Caplet prices:\n",
    "$$\n",
    "V^{\\text{Caplet}}_t \\left[ A_{t,T}, K \\right] = B_t \\mathbb{E}_{t}^{Q} \\left[ \\left( \\int_{T - \\tau}^T r_u + s_udu - \\tau K \\right)^+ / B_T\\right] \n",
    "$$\n",
    "from"
   ]
  },
  {
   "cell_type": "markdown",
   "id": "e436e493-1997-4d7d-ab70-9799c439e01f",
   "metadata": {},
   "source": [
    "and the Key Rate forwards using:\n",
    "$$\n",
    "A_{t,T} = \\mathbb{E}^{Q^T}_{t} \\left[ \\frac{1}{\\tau} \\int_{T - \\tau}^T r_u + s_u du \\right] = \\frac{ \\mathbb{E}_{t}^{Q} \\left[ \\frac{1}{\\tau} \\int_{T - \\tau}^T r_u + s_u du / B_T \\right] }{\\mathbb{E}_{t}^{Q} \\left[ 1/B_T \\right]}\n",
    "$$\n",
    "via Monte-Carlo."
   ]
  },
  {
   "cell_type": "code",
   "execution_count": null,
   "id": "be078ae4-2cd5-47bf-924b-a9d34e64ea9b",
   "metadata": {},
   "outputs": [],
   "source": [
    "fwd_key_values"
   ]
  },
  {
   "cell_type": "code",
   "execution_count": null,
   "id": "e1b5267f-2419-4c4b-8505-9c41cb577859",
   "metadata": {},
   "outputs": [],
   "source": [
    "params = torch.tensor(\n",
    "    [\n",
    "        0.65, #v0 - 0\n",
    "        1., #kappa - 1\n",
    "        1., #theta - 2\n",
    "        1., #epsilon - 3\n",
    "        1., #lam - 4\n",
    "        1., #gamma - 5\n",
    "        0.01, #xi - 6 \n",
    "        \n",
    "    ],\n",
    "    requires_grad = True\n",
    ")"
   ]
  },
  {
   "cell_type": "code",
   "execution_count": null,
   "id": "8baf231d-3cdd-4da3-bddf-363695981203",
   "metadata": {},
   "outputs": [],
   "source": [
    "v_paths = generate_cir(1000, timeline.shape[0], timeline[0], params[0], params[1], params[2], params[3], 1e-6)"
   ]
  },
  {
   "cell_type": "code",
   "execution_count": null,
   "id": "621f1583-a62f-4ace-9879-e30dfc278442",
   "metadata": {},
   "outputs": [],
   "source": [
    "x_paths = generate_hull_white_heston(1000, timeline.shape[0], timeline[0], torch.tensor(0.), params[4], cir_paths)"
   ]
  },
  {
   "cell_type": "code",
   "execution_count": null,
   "id": "5a50cbd8-d2a6-4013-88e4-70e0dc10ca56",
   "metadata": {},
   "outputs": [],
   "source": [
    "ks_paths = generate_hull_white(1000, timeline.shape[0], timeline[0], torch.tensor(0.), params[5], params[6])"
   ]
  },
  {
   "cell_type": "code",
   "execution_count": null,
   "id": "4906d9c8-a6f5-46e7-b977-1c4307819614",
   "metadata": {},
   "outputs": [],
   "source": [
    "ids = (torch.tensor(fwd_ois.time_to_maturity.values) * 365).ceil().int() - 1\n",
    "dt = timeline[0]\n",
    "zcb_ttm = timeline[ids]\n",
    "zcbs_r = torch.exp( - dt * x_paths.cumsum(1)[:,ids]).mean(0)\n",
    "r_fwd  = CubicSpline1D(zcb_ttm, - torch.log(zcbs_r))\n",
    "zcbs_a = torch.exp( - dt * (x_paths + ks_paths).cumsum(1)[:,ids]).mean(0)\n",
    "a_fwd =  CubicSpline1D(zcb_ttm, - torch.log(zcbs_a))"
   ]
  },
  {
   "cell_type": "code",
   "execution_count": null,
   "id": "b7bd0fe6-27e0-49a2-822b-6495b933e618",
   "metadata": {},
   "outputs": [],
   "source": [
    "f_curve = ois_fwd.derivative(timeline).T - r_fwd.derivative(timeline).T\n",
    "s_curve = key_fwd.derivative(timeline).T - a_fwd.derivative(timeline).T - f_curve\n",
    "r_paths = f_curve + x_paths[:,1:]\n",
    "s_paths = s_curve + ks_paths[:,1:]"
   ]
  },
  {
   "cell_type": "code",
   "execution_count": null,
   "id": "063ccd02-8ed5-4838-8110-f0f6d6dd5e21",
   "metadata": {},
   "outputs": [],
   "source": [
    "int_r_paths = dt * r_paths.cumsum(1)\n",
    "int_r_s_paths = int_r_paths + dt * s_paths.cumsum(1)"
   ]
  },
  {
   "cell_type": "code",
   "execution_count": null,
   "id": "7513cba1-8e51-4219-9933-d555353940be",
   "metadata": {},
   "outputs": [],
   "source": [
    "vol_ids = (torch.tensor(vol_key_rate.time_to_maturity.values) * 365).ceil().int() - 1\n",
    "tau_strikes = timeline[vol_ids] * torch.tensor(vol_key_rate.strike.values) \n",
    "market_pvs = torch.tensor(vol_key_rate.pv.values)\n",
    "model_pvs = torch.zeros_like(market_pvs)"
   ]
  },
  {
   "cell_type": "code",
   "execution_count": null,
   "id": "73bbadd2-4914-4a34-8d11-a915a058ecb6",
   "metadata": {},
   "outputs": [],
   "source": [
    "for i in range(model_pvs.numel()):\n",
    "    T = vol_ids[i]\n",
    "    tauK = tau_strikes[i]\n",
    "    tau = timeline[T]\n",
    "    B_T = torch.exp(int_r_paths[:, T]) \n",
    "    payoff = torch.maximum(int_r_s_paths[:, T] - tauK, torch.tensor(0.)) \n",
    "    model_pvs[i] = torch.mean(payoff / B_T)"
   ]
  },
  {
   "cell_type": "code",
   "execution_count": null,
   "id": "b1cd4dcc-976a-4534-b055-5f576cf5fc23",
   "metadata": {},
   "outputs": [],
   "source": [
    "key_fwd_ids = (torch.tensor(fwd_key_rate.time_to_maturity.values) * 365).ceil().int() - 1\n",
    "market_key_fwd = torch.tensor(vol_key_rate.pv.values)\n",
    "model_key_fwd = torch.zeros_like(market_key_fwd)"
   ]
  },
  {
   "cell_type": "code",
   "execution_count": null,
   "id": "a4d1e789-158b-4e1c-bfc4-3b1b9821d07d",
   "metadata": {},
   "outputs": [],
   "source": [
    "for i in range(model_key_fwd.numel()):\n",
    "    T = vol_ids[i]\n",
    "    tau = timeline[T]\n",
    "    B_T = torch.exp(int_r_paths[:, T]) \n",
    "    A_T = int_r_s_paths[:, T] / tau\n",
    "    model_key_fwd[i] = torch.mean(A_T / B_T) / torch.mean(1 / B_T)"
   ]
  },
  {
   "cell_type": "code",
   "execution_count": null,
   "id": "7af74fda-e87c-4143-887d-b45dfdc3015c",
   "metadata": {},
   "outputs": [],
   "source": [
    "error = 0.001*((model_pvs - market_pvs) ** 2).sum() + ((market_key_fwd - model_key_fwd) ** 2).sum()"
   ]
  },
  {
   "cell_type": "code",
   "execution_count": null,
   "id": "ba184d33-c4b3-4515-b9e6-19528991fe82",
   "metadata": {},
   "outputs": [],
   "source": [
    "grad_error = torch.autograd.grad(error, [params, fwd_key_values])"
   ]
  },
  {
   "cell_type": "code",
   "execution_count": null,
   "id": "8d6bf540-2dcf-4f69-af2f-fb8862fe4a25",
   "metadata": {},
   "outputs": [],
   "source": [
    "grad_error[0]"
   ]
  },
  {
   "cell_type": "code",
   "execution_count": null,
   "id": "45a106b4-5ba6-42a4-98dd-9eb630716c2e",
   "metadata": {},
   "outputs": [],
   "source": [
    "grad_error[1]"
   ]
  },
  {
   "cell_type": "markdown",
   "id": "a51de91c-d2a8-48f4-a888-49ec86702172",
   "metadata": {},
   "source": [
    "## 3 Product examples"
   ]
  },
  {
   "cell_type": "markdown",
   "id": "0b551259-a4be-45bc-9545-33957df41417",
   "metadata": {},
   "source": [
    "### 3.1 Swaptions\n",
    "\n",
    "A physically-settled payer (+) or receiver (-) swaption at the start $T_0$ of the IRS swap expires with value:\n",
    "$$\n",
    "PV_{T_0} = \\text{PVBP}(T_0) \\left(\\pm \\left( S_{T_0} - K\\right)\\right)^+\n",
    "$$\n",
    "where the present value of basis point $\\text{PVBP}(T_0) =  \\delta' \\sum_{i > 0} P_{T_0, T_i}$ is computed from the risk free OIS curve and the swap rate $S_{T_0}$ comes from the floating rate that might be backward looking or IBOR based.\n",
    "\n",
    "Using $\\text{PVBP}(t)$ as numeraire we can price the swaption:\n",
    "$$\n",
    "PV_t = \\text{PVBP}(t) \\cdot \\mathbb{E}_{t}^{\\text{PVBP}} \\left[(\\pm\\left( S_{T_0} - K)\\right)^+ \\right] \n",
    "$$\n",
    "in which the swap rate $S_t$ is naturally a martingale.\n",
    "\n",
    "For cash-settled swaptions, the payoff is settled at $T_0$ according to the formula:\n",
    "$$\n",
    "PV_{T_0} = \\text{Ann}(S_{T_0}) \\left(\\pm  \\left( S_{T_0} - K\\right) \\right)^+, \\quad \\text{Ann}(s) =\\sum_{i > 0} \\frac{ \\delta' }{(1 + \\delta' s)^i }\n",
    "$$\n",
    "\n",
    "Market makers formula convention simply substitutes cash-annuity Ann for PVBP in the physically-settled case:\n",
    "$$\n",
    "PV_t = P_{t,T_0}  \\text{Ann}(S_t) \\cdot \\mathbb{E}_{t}^{\\text{PVBP}} \\left[(\\pm\\left( S_{T_0} - K)\\right)^+ \\right], \\quad S_t = \\mathbb{E}_{t}^{\\text{PVBP}} [S_{T_0}]\n",
    "$$\n",
    "which leads to a failure of put-call parity, especially when we are in IBOR multi-curve environment.\n",
    "\n",
    "To account for the convexity correction needed, one introduces the cash-settled convexity adjusted PVBP:\n",
    "$$\n",
    "\\text{CSCAP}(t) = B_t \\cdot \\mathbb{E}^Q_{t} \\left[ \\frac{\\text{Ann}(T_0) }{B_{T_0}}  \\right]\n",
    "$$\n",
    "and the cash-settled convexity adjusted forward:\n",
    "$$\n",
    "\\text{CSCAF}(t) = \\frac{B_t}{\\text{CSCAP}(t)} \\cdot \\mathbb{E}^Q_{t} \\left[ S_{T_0}\\frac{\\text{Ann}(T_0) }{B_{T_0}}  \\right]\n",
    "$$\n",
    "\n",
    "In that case, we do obtain the desired put-call parity:\n",
    "$$\n",
    "PV_t\\left[\\text{payer}, K \\right] - PV_t\\left[\\text{receiver}, K \\right] = \\text{CSCAP}(t) \\cdot \\left( \\text{CSCAF}(t) - K \\right)\n",
    "$$\n"
   ]
  },
  {
   "cell_type": "markdown",
   "id": "64e0c669-f188-4c3f-826d-42044d5b2660",
   "metadata": {},
   "source": [
    "#### Exercise 3.1.1\n",
    "Price via Monte-Carlo using the model from 2.2.1 a Physically-Settled ATM payer swaption with maturity 1Y for a 3M3Y IRS swap. Price via Monte-Carlo a Cash-Settled swaption with the same strike together with the convexity corrected forward CSCAP and annuity CSCAF."
   ]
  },
  {
   "cell_type": "markdown",
   "id": "1b160b64-1265-4e22-9782-15d179681bfb",
   "metadata": {},
   "source": [
    "### 3.2 Autocallable Caps and Floors\n",
    "\n",
    "Given a term structure $T_0 < T_1 < \\cdots < T_n$ and autocallable cap (+) or floor (-) pays at each date $T_i$, $i>0$ :\n",
    "$$\n",
    "\\alpha \\cdot \\tau_i  \\cdot \\left( \\pm \\left( \\mathcal{P}_{T_{i-1}, T_i} - K\\right) \\right)^+\n",
    "$$\n",
    "\n",
    "where $\\mathcal{P}_{T_{i-1}, T_i}$ stands for a floating rate with tenor $\\tau_i = T_i - T_{i-1}$ being an RFR rate (for example simple or arithmetic average daily compounding) or an IBOR rate. \n",
    "\n",
    "We also denote $\\alpha$ the coupon rate, and $K$ the cap (resp. floor). \n",
    "\n",
    "The payment is conditional upon not reaching the autocallable barrier $\\mathcal{P}_{T_{i-1}, T_i} < A$ (resp. $\\mathcal{P}_{T_{i-1}, T_i} > A$ ), in which case the full notional is paid. At expiry date $T_n$, the notional is paid even if the barrier is not reached:\n",
    "$$\n",
    "\\alpha \\cdot \\tau_n  \\cdot \\left( \\pm \\left( \\mathcal{P}_{T_{n-1}, T_n} - K\\right) \\right)^+ + 1\n",
    "$$\n",
    "\n",
    "#### Exercise 3.2.1\n",
    "\n",
    "Price via Monte-Carlo using the model from 2.2.1 an autocallable floor on the Key Rate starting now $T_0 = 0$ for 4 years $T_4 = 4$ with payments every year $T_i = i$ with coupon payments every year with strike $K = 0.21$, barrier $ A = 0.17$, and coupon rate $\\alpha = 0.165$.\n"
   ]
  },
  {
   "cell_type": "markdown",
   "id": "724a4b53-0e86-4aa1-b8d0-227ea1fe8baa",
   "metadata": {},
   "source": [
    "### 3.3 Target Redemption Swaps\n",
    "\n",
    "Given a term structure $T_0 < T_1 < \\cdots < T_n$, a payer (+) or receiver (-) Target Redemption Swap exchange cashflows at each date $T_i$, $i>0$:\n",
    "\n",
    "$$\n",
    "C_i = \\pm \\tau_i \\cdot \\left( \\mathcal{P}_{T_{i-1}, T_i} - K  \\right) \n",
    "$$\n",
    "\n",
    "A Target Redemption Note pays:\n",
    "$$\n",
    "C_i = \\tau_i \\cdot \\left( \\pm \\left(\\mathcal{P}_{T_{i-1}, T_i} - K \\right) \\right)^+\n",
    "$$\n",
    "\n",
    "As usual, the floating leg $\\mathcal{P}_{T_{i-1}, T_i}$ stands for an RFR or IBOR rate over $[T_{i-1}, T_i]$. \n",
    "\n",
    "The payments are conditional upon not reaching a cumulative return target:\n",
    "$$\n",
    "\\sum_{j=1}^i C_j < B\n",
    "$$\n",
    "\n",
    "If the barrier is reached payments are stopped and the contract expires.\n",
    "\n",
    "\n",
    "#### Exercise 3.3.1\n",
    "\n",
    "Compute the present value of a receiver IRS swap starting now $T_0$ for 4 years $T_4 = 4$ with payments every year $T_i = i$ and a fixed leg $K = 0.21$ if the floating leg was a Key Rate staying exactly at $0.17$ over all those 4 years (don't forget the arithmetic average daily compounding). \n",
    "\n",
    "Use this value as cumulative return target $B$ to price via Monte-Carlo using the model from 2.2.1 a receiver Target Redemption Swap over the Key Rate with strike $K = 0.21$ and the above term structure $T_{0,\\dots, 4}$. \n"
   ]
  },
  {
   "cell_type": "markdown",
   "id": "ac86f5b0-66ff-4797-afb2-91cc15bbc5bb",
   "metadata": {},
   "source": [
    "### 3.4 Constant Maturity Swap\n",
    "\n",
    "Given a term structure $T_0 < T_1 < \\cdots < T_n$, a payer (+) or receiver (-) Constant Maturity Swap exchange cashflows at each date $T_i$, $i>0$:\n",
    "$$\n",
    "\\pm \\tau_i \\cdot \\left( S_{T_i} \\left[ \\mathcal{T}  \\right] - K  \\right) \n",
    "$$\n",
    "\n",
    "where $\\mathcal{T}$ is a rolling term structure.\n",
    "\n",
    "#### Exercise 3.4.1\n",
    "\n",
    "Price via Monte-Carlo using the model 2.2.1, a receiver constant maturity swap on the Key Rate with term structure $T_i = i$, with $i = 1, \\dots, 4$ with rolling term structure 3M1Y. "
   ]
  },
  {
   "cell_type": "markdown",
   "id": "25450d93-2ddf-4633-b397-b39772940862",
   "metadata": {},
   "source": [
    "### 3.5 Callable Swap\n",
    "\n",
    "A callable swap is an IRS swap with the option to terminate the contract at each time payment time $T_i$, $i>0$. Given a term structure $T_0 < T_1 < \\cdots < T_n$, the payoff at time $T_i$, $i>0$ if executed:\n",
    "$$\n",
    "\\left(  \\left( K - S_{T_i} \\left[ T_i, T_n \\right] \\right)^+  + S_{T_i} \\left[ T_i, T_n \\right] - K  \\right) \\sum_{j=i+1}^n \\tau_j P_{T_i, T_j} = \\left( K \\sum_{j=i+1}^n \\tau_j P_{T_i, T_j} - 1 + P_{T_i,T_n} \\right)^+ + 1 - P_{T_i,T_n} - K \\sum_{j=i+1}^n \\tau_j P_{T_i, T_j} \n",
    "$$\n",
    "\n",
    "The optionality leg:\n",
    "$$\n",
    "\\left( K \\sum_{j=i+1}^n \\tau_j P_{T_i, T_j} - 1 + P_{T_i,T_n} \\right)^+\n",
    "$$\n",
    "\n",
    "is priced using dynamic programming. \n",
    "\n",
    "#### Exercise 3.5.1\n",
    "\n",
    "Using American Monte-Carlo for the optionality leg, price a callable swap on the Key Rate with term structure $T_i = i$, with $i=0,\\dots,4$, option to cancel at $i>0$ and strike $K = 0.21$."
   ]
  }
 ],
 "metadata": {
  "kernelspec": {
   "display_name": "Python 3 (ipykernel)",
   "language": "python",
   "name": "python3"
  },
  "language_info": {
   "codemirror_mode": {
    "name": "ipython",
    "version": 3
   },
   "file_extension": ".py",
   "mimetype": "text/x-python",
   "name": "python",
   "nbconvert_exporter": "python",
   "pygments_lexer": "ipython3",
   "version": "3.12.9"
  }
 },
 "nbformat": 4,
 "nbformat_minor": 5
}
