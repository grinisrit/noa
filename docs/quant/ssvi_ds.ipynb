{
 "cells": [
  {
   "cell_type": "code",
   "execution_count": 1,
   "id": "1d78095f-2c7e-461a-888a-f64434770233",
   "metadata": {},
   "outputs": [
    {
     "name": "stdout",
     "output_type": "stream",
     "text": [
      "Eta, Lambda calibration error 0.07448644684656754\n",
      "Alpha, Beta, Gamma calibration error 0.001332547878875499\n"
     ]
    },
    {
     "data": {
      "text/plain": [
       "(<numba.experimental.jitclass.boxing.Eta at 0x11cf7d5a0>,\n",
       " <numba.experimental.jitclass.boxing.Lambda at 0x14fc84610>,\n",
       " <numba.experimental.jitclass.boxing.Alpha at 0x14d99c190>,\n",
       " <numba.experimental.jitclass.boxing.Beta at 0x14f326a40>,\n",
       " <numba.experimental.jitclass.boxing.Gamma_ at 0x14f325f90>)"
      ]
     },
     "execution_count": 1,
     "metadata": {},
     "output_type": "execute_result"
    }
   ],
   "source": [
    "%load_ext autoreload\n",
    "%autoreload 2\n",
    "\n",
    "import numpy as np\n",
    "from pyquant.black_scholes import *\n",
    "from pyquant.common import *\n",
    "from pyquant.ssvi import SSVICalc\n",
    "from pyquant.svi import SVICalc\n",
    "from pyquant.vol_surface import *\n",
    "\n",
    "strikes = np.array(\n",
    "    [1300.0, 1400.0, 1500.0, 1600.0, 1700.0, 1800.0, 1900.0, 2000.0, 2100.0, 2200.0]\n",
    ")\n",
    "premiums = np.array(\n",
    "    [\n",
    "        1.72375,\n",
    "        1.72375,\n",
    "        3.4475,\n",
    "        6.895,\n",
    "        26.718125,\n",
    "        11.204375,\n",
    "        4.309375,\n",
    "        1.72375,\n",
    "        0.861875,\n",
    "        0.861875,\n",
    "    ]\n",
    ")\n",
    "spot = 1723.75\n",
    "ttms = np.array([0.01, 0.02, 0.03, 0.04, 0.05, 0.06, 0.07, 0.08, 0.09, 0.1])\n",
    "\n",
    "forward_rates = np.array(\n",
    "    [1700.0, 1702.0, 1703.0, 1704.0, 1705.0, 1736.0, 1737.0, 1738.0, 1739.0, 1740.0]\n",
    ")\n",
    "\n",
    "forward_curve: ForwardCurve = forward_curve_from_forward_rates(\n",
    "    Spot(spot), ForwardRates(forward_rates), TimesToMaturity(ttms)\n",
    ")\n",
    "\n",
    "\n",
    "vol_surface_chain_space = VolSurfaceChainSpace(\n",
    "    forward_curve=forward_curve,\n",
    "    times_to_maturity=TimesToMaturity(ttms),\n",
    "    strikes=Strikes(strikes),\n",
    "    option_types=OptionTypes(np.array([True if x > spot else False for x in strikes])),\n",
    "    premiums=Premiums(premiums),\n",
    "    compute_implied_vol=True,\n",
    ")\n",
    "# convert to delta-space\n",
    "vol_surface_delta_space: VolSurfaceDeltaSpace = SVICalc().surface_to_delta_space(\n",
    "    vol_surface_chain_space\n",
    ")\n",
    "\n",
    "ssvi = SSVICalc()\n",
    "ssvi.calibrate(vol_surface_delta_space)\n"
   ]
  },
  {
   "cell_type": "code",
   "execution_count": 3,
   "id": "74eb14bc-f1c8-4452-8871-2f9c2db73520",
   "metadata": {},
   "outputs": [
    {
     "name": "stdout",
     "output_type": "stream",
     "text": [
      "The autoreload extension is already loaded. To reload it, use:\n",
      "  %reload_ext autoreload\n",
      "Eta, Lambda calibration error 0.0033281184110222385\n",
      "Alpha, Beta, Gamma calibration error 5.19540942336327e-05\n"
     ]
    },
    {
     "data": {
      "text/plain": [
       "(<numba.experimental.jitclass.boxing.Eta at 0x14f327af0>,\n",
       " <numba.experimental.jitclass.boxing.Lambda at 0x1051738b0>,\n",
       " <numba.experimental.jitclass.boxing.Alpha at 0x105172e90>,\n",
       " <numba.experimental.jitclass.boxing.Beta at 0x1051729b0>,\n",
       " <numba.experimental.jitclass.boxing.Gamma_ at 0x105172e60>)"
      ]
     },
     "execution_count": 3,
     "metadata": {},
     "output_type": "execute_result"
    }
   ],
   "source": [
    "%load_ext autoreload\n",
    "%autoreload 2\n",
    "\n",
    "ssvi = SSVICalc()\n",
    "ssvi.calibrate(vol_surface_delta_space, 100)"
   ]
  }
 ],
 "metadata": {
  "kernelspec": {
   "display_name": "Python 3 (ipykernel)",
   "language": "python",
   "name": "python3"
  },
  "language_info": {
   "codemirror_mode": {
    "name": "ipython",
    "version": 3
   },
   "file_extension": ".py",
   "mimetype": "text/x-python",
   "name": "python",
   "nbconvert_exporter": "python",
   "pygments_lexer": "ipython3",
   "version": "3.11.0"
  }
 },
 "nbformat": 4,
 "nbformat_minor": 5
}
