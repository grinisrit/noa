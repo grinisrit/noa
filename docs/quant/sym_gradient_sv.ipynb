{
 "cells": [
  {
   "cell_type": "markdown",
   "id": "57e433a1-626d-442d-a9f9-ffa02feba50d",
   "metadata": {},
   "source": [
    "# Symbolic Gradient Calculation for SABR and SVI \n",
    "#### Dmitry Bazanov, Roland Grinis"
   ]
  },
  {
   "cell_type": "code",
   "execution_count": null,
   "id": "63eabd5a-5879-48ad-8ea3-cd23cfc60700",
   "metadata": {},
   "outputs": [],
   "source": [
    "import sympy as sym"
   ]
  },
  {
   "cell_type": "markdown",
   "id": "2b2a5943-e131-4333-9fe6-59bddbfae5a4",
   "metadata": {},
   "source": [
    "## 1. SABR \n",
    "\n",
    "Implied volatility is given by:\n",
    "\n",
    "$$ \\sigma_B(x, T) \\approx I_B^0(x) (1 + I_H^1(x)T), \\quad x = \\ln \\frac{f}{K}$$\n",
    "\n",
    "$$I_H^1(x) = \\frac{\\alpha^{2} \\left(K f\\right)^{\\beta - 1} \\left(1 - \\beta\\right)^{2}}{24} + \\frac{\\alpha \\beta \\rho v \\left(K f\\right)^{\\frac{\\beta}{2} - \\frac{1}{2}}}{4} + \\frac{v^{2} \\cdot \\left(2 - 3 \\rho^{2}\\right)}{24}$$\n",
    "\n",
    "The order zero term is treated below.\n"
   ]
  },
  {
   "cell_type": "code",
   "execution_count": null,
   "id": "9ada44b6-3199-4a51-8256-025a297b9450",
   "metadata": {},
   "outputs": [],
   "source": [
    "alpha, beta, v, rho, f, K, T = sym.symbols('alpha beta v rho f K T')\n",
    "x = sym.log(f/K)\n",
    "I_H_1 = (((1 - beta)**2)*alpha**2/(24*(f*K)**(1 - beta)) + (rho*v*alpha*beta)/(4*(f*K)**((1-beta)/2)) + \n",
    " ((2 - 3*rho**2)*v**2)/24 )"
   ]
  },
  {
   "cell_type": "markdown",
   "id": "6aa18179-c544-46dd-a653-34fefe43ae45",
   "metadata": {},
   "source": [
    "Derivatives of $I_H^1(x)$:"
   ]
  },
  {
   "cell_type": "code",
   "execution_count": null,
   "id": "5f02c20c-c8ea-4ec2-8aad-e09b6463942e",
   "metadata": {},
   "outputs": [],
   "source": [
    "I_H_1.diff(alpha) # vega\n",
    "I_H_1.diff(rho) # rega\n",
    "I_H_1.diff(v) # sega\n",
    "I_H_1.diff(f) # delta\n",
    "I_H_1.diff(f).diff(f) # gamma\n",
    "I_H_1.diff(f).diff(alpha) # gamma, vanna, volga\n",
    "I_H_1.diff(alpha).diff(alpha) # volga\n",
    "I_H_1.diff(K); # map to delta space"
   ]
  },
  {
   "cell_type": "code",
   "execution_count": null,
   "id": "703e3e25-6143-4446-9409-f7353a973e9f",
   "metadata": {},
   "outputs": [],
   "source": [
    "I_H_1.diff(alpha)"
   ]
  },
  {
   "cell_type": "markdown",
   "id": "6eccda59-4229-40db-bf83-03543854136e",
   "metadata": {},
   "source": [
    "Derivatives of $I_H^0(x)$:\n",
    "\n",
    "$\\textbf{Case 1}: x = 0$ "
   ]
  },
  {
   "cell_type": "code",
   "execution_count": null,
   "id": "56c55ea6-3fa3-4087-a080-ce8c1d168b3a",
   "metadata": {},
   "outputs": [],
   "source": [
    "I_B_x = alpha*K**(beta-1)\n",
    "I_B_x"
   ]
  },
  {
   "cell_type": "code",
   "execution_count": null,
   "id": "d9ee65f0-2f0e-499c-b7f9-4a4adca345a5",
   "metadata": {},
   "outputs": [],
   "source": [
    "I_B_x.diff(alpha) # vega\n",
    "I_B_x.diff(rho) # rega\n",
    "I_B_x.diff(v) # sega\n",
    "I_B_x.diff(f) # delta\n",
    "I_B_x.diff(f).diff(f) # gamma\n",
    "I_B_x.diff(f).diff(alpha) # gamma, vanna, volga\n",
    "I_B_x.diff(alpha).diff(alpha) # volga\n",
    "sym.simplify(I_B_x.diff(K)); # map to delta space"
   ]
  },
  {
   "cell_type": "markdown",
   "id": "fe0e9bc3-b91d-49d8-84cd-5ae70d5e03f5",
   "metadata": {},
   "source": [
    "$\\textbf{Case 2}: v = 0$ "
   ]
  },
  {
   "cell_type": "code",
   "execution_count": null,
   "id": "abd4ee9f-1a1c-4b28-b3ee-7765657cf898",
   "metadata": {},
   "outputs": [],
   "source": [
    "I_B_v = x*alpha*(1 - beta)/(f**(1 - beta) - K**(1 - beta))\n",
    "I_B_v"
   ]
  },
  {
   "cell_type": "code",
   "execution_count": null,
   "id": "b3368ce5-0fff-4e9b-afaa-230587266d1f",
   "metadata": {},
   "outputs": [],
   "source": [
    "sym.simplify(I_B_v.diff(f).subs(x, \"x\"))"
   ]
  },
  {
   "cell_type": "code",
   "execution_count": null,
   "id": "c8c2d886-589d-4643-a2f1-0bd02dafba87",
   "metadata": {},
   "outputs": [],
   "source": [
    "I_B_v.diff(alpha).subs(x, \"x\") # vega\n",
    "I_B_v.diff(rho) # rega\n",
    "I_B_v.diff(v) # sega\n",
    "sym.simplify(I_B_v.diff(f).subs(x, \"x\")) # delta\n",
    "sym.simplify(I_B_v.diff(f).diff(f).subs(x, \"x\")) # gamma\n",
    "I_B_v.diff(f).diff(alpha).subs(x, \"x\") # gamma, vanna, volga\n",
    "I_B_v.diff(alpha).diff(alpha) # volga\n",
    "sym.simplify(I_B_v.diff(K).subs(x, \"x\")); # map to delta space"
   ]
  },
  {
   "cell_type": "markdown",
   "id": "134019ba-e092-452c-890d-6b1f57233079",
   "metadata": {},
   "source": [
    "$\\textbf{Case 3}: \\beta = 1$"
   ]
  },
  {
   "cell_type": "code",
   "execution_count": null,
   "id": "d3ad314f-dfa2-49e1-a9d3-592862b047c5",
   "metadata": {},
   "outputs": [],
   "source": [
    "z_b = v*x/alpha\n",
    "xi_b = sym.sqrt(- 2*rho*z_b+z_b**2+1 )\n",
    "I_B_b = v*x/sym.ln((xi_b + z_b - rho)/(1 - rho))\n",
    "I_B_b"
   ]
  },
  {
   "cell_type": "code",
   "execution_count": null,
   "id": "8bd7e14a-f3e2-4004-b9e1-9846f996c62d",
   "metadata": {},
   "outputs": [],
   "source": [
    "# vega\n",
    "sym.simplify(I_B_b.diff(alpha).subs(xi_b, sym.Symbol(r\"\\xi\")).subs(z_b, \"z\").subs(x, \"x\"))\n",
    "# rega\n",
    "sym.simplify(I_B_b.diff(rho).subs(xi_b, sym.Symbol(r\"\\xi\")).subs(z_b, \"z\").subs(x, \"x\"))\n",
    "# sega\n",
    "sym.simplify(I_B_b.diff(v).subs(xi_b, sym.Symbol(r\"\\xi\")).subs(z_b, \"z\").subs(x, \"x\"))\n",
    "# delta\n",
    "sym.simplify(I_B_b.diff(f).subs(xi_b, sym.Symbol(r\"\\xi\")).subs(z_b, \"z\").subs(x, \"x\"))\n",
    "# gamma\n",
    "sym.simplify(I_B_b.diff(f).diff(f).subs(xi_b, sym.Symbol(r\"\\xi\")).subs(z_b, \"z\").subs(x, \"x\"))\n",
    "# gamma, vanna, volga\n",
    "sym.simplify(I_B_b.diff(f).diff(alpha).subs(xi_b, sym.Symbol(r\"\\xi\")).subs(z_b, \"z\").subs(x, \"x\"))\n",
    "# volga\n",
    "sym.simplify(I_B_b.diff(alpha).diff(alpha).subs(xi_b, sym.Symbol(r\"\\xi\")).subs(z_b, \"z\").subs(x, \"x\"))\n",
    "# map to delta space\n",
    "sym.simplify(I_B_b.diff(K).subs(xi_b, sym.Symbol(r\"\\xi\")).subs(z_b, \"z\").subs(x, \"x\"));"
   ]
  },
  {
   "cell_type": "markdown",
   "id": "5b4b1325-81e6-4355-9e6b-be2f8e3b160b",
   "metadata": {},
   "source": [
    "$\\textbf{Case 4}: \\beta < 1$"
   ]
  },
  {
   "cell_type": "code",
   "execution_count": null,
   "id": "6f1f7636-6946-4054-8006-30c85f69bde5",
   "metadata": {},
   "outputs": [],
   "source": [
    "z = v*(f**(1 - beta) - K**(1 - beta))/(alpha * (1 - beta))\n",
    "xi = sym.sqrt(- 2*rho*z+z**2+1 )\n",
    "I_B_0 = v*x/sym.ln((xi + z - rho)/(1 - rho))\n",
    "I_B_0"
   ]
  },
  {
   "cell_type": "code",
   "execution_count": null,
   "id": "dbeeae2c-3d93-4738-a461-54f8e5849e88",
   "metadata": {},
   "outputs": [],
   "source": [
    "# vega\n",
    "sym.simplify(I_B_0.diff(alpha).subs(xi, sym.Symbol(r\"\\xi\")).subs(z, \"z\").subs(x, \"x\"))\n",
    "# rega\n",
    "sym.simplify(I_B_0.diff(rho).subs(xi, sym.Symbol(r\"\\xi\")).subs(z, \"z\").subs(x, \"x\"))\n",
    "# sega\n",
    "sym.simplify(I_B_0.diff(v).subs(xi, sym.Symbol(r\"\\xi\")).subs(z, \"z\").subs(x, \"x\"))\n",
    "# delta\n",
    "sym.simplify(I_B_0.diff(f).subs(xi, sym.Symbol(r\"\\xi\")).subs(z, \"z\").subs(x, \"x\"))\n",
    "# gamma\n",
    "sym.simplify(I_B_0.diff(f).diff(f).subs(xi, sym.Symbol(r\"\\xi\")).subs(z, \"z\").subs(x, \"x\"))\n",
    "# gamma, vanna, volga\n",
    "sym.simplify(I_B_0.diff(f).diff(alpha).subs(xi, sym.Symbol(r\"\\xi\")).subs(z, \"z\").subs(x, \"x\"))\n",
    "# volga\n",
    "sym.simplify(I_B_0.diff(alpha).diff(alpha).subs(xi, sym.Symbol(r\"\\xi\")).subs(z, \"z\").subs(x, \"x\"))\n",
    "# map to delta space\n",
    "sym.simplify(I_B_0.diff(K).subs(xi, sym.Symbol(r\"\\xi\")).subs(z, \"z\").subs(x, \"x\"));"
   ]
  },
  {
   "cell_type": "markdown",
   "id": "8d24561f-6c66-42e6-8650-5b1211bc188d",
   "metadata": {},
   "source": [
    "Implied volatility senstivities are easy to obtain:\n",
    "$$ \\nabla_{\\alpha, \\rho, v, f, K} \\sigma_B(x, T) =  \\nabla_{\\alpha, \\rho, v, f, K} I_B^0(x) \\cdot \\left(1 + I_H^1(x)T \\right) + I_B^0(x) \\cdot T \\cdot \\nabla_{\\alpha, \\rho, v, f, K}I_H^1(x)\n",
    "$$\n",
    "\n",
    "$$\n",
    "\\nabla_{\\alpha, f}^2 \\sigma_B= \\nabla_{\\alpha, f}^2 I_B^0(x) + T\\left( \\nabla_{\\alpha,f}^2 I_B^0(x) \\cdot I_H^1(x) +  \\nabla_{\\alpha, f}^2  I_H^1(x) \\cdot I_B^0(x)  + 2 \\nabla_{\\alpha, f} I_B^0(x) \\cdot \\nabla_{\\alpha, f} I_H^1(x) \\right)\n",
    "$$\n",
    "\n",
    "$$ \\frac{\\partial ^2 \\sigma_B}{\\partial \\alpha \\partial f} = \\frac{\\partial^2 I_B^0(x)}{\\partial \\alpha \\partial f} (1 + I_H^1(x)T) + \\frac{\\partial I_B^0(x)}{\\partial \\alpha} \\frac{\\partial I_H^1(x)}{\\partial f}T + \\frac{\\partial^2 I_H^1(x)}{\\partial \\alpha \\partial f} I_B^0(x) T +\\frac{\\partial I_H^1(x)}{\\partial \\alpha} \\frac{\\partial I_B^0(x)}{\\partial f}T $$"
   ]
  },
  {
   "cell_type": "markdown",
   "id": "97605b95-3db5-4063-bc5c-b9b8c45a4444",
   "metadata": {},
   "source": [
    "## 2. SVI\n",
    "Raw parametrization:\n",
    "\n",
    "$$ w(k, X_R) = a + b\\{\\rho(k - m) + \\sqrt{(k - m)^2 + \\sigma^2} \\}$$"
   ]
  },
  {
   "cell_type": "code",
   "execution_count": null,
   "id": "f0d23702-36cf-49cb-89fa-d0aa17302624",
   "metadata": {},
   "outputs": [],
   "source": [
    "a, b, rho, m, sigma, f, K, T = sym.symbols('a b rho m sigma f K T')\n",
    "k = sym.log(K/f)\n",
    "w = a + b *(rho*(k - m) + sym.sqrt((k-m)**2 + sigma**2)) #total iv\n",
    "v = sym.sqrt(w/T) # iv"
   ]
  },
  {
   "cell_type": "code",
   "execution_count": null,
   "id": "4d5ce0d8-d422-4b56-af08-7256585c5a35",
   "metadata": {},
   "outputs": [],
   "source": [
    "w.subs(k, \"k\")"
   ]
  },
  {
   "cell_type": "code",
   "execution_count": null,
   "id": "d4cde4b0-6a79-4c0e-9ee7-9b79e676d7d4",
   "metadata": {},
   "outputs": [],
   "source": [
    "v.subs(k, \"k\")"
   ]
  },
  {
   "cell_type": "code",
   "execution_count": null,
   "id": "708cd37c-d80b-43ee-b5e9-62f9ca89a42d",
   "metadata": {},
   "outputs": [],
   "source": [
    "v.diff(f).subs(k, \"k\")"
   ]
  },
  {
   "cell_type": "code",
   "execution_count": null,
   "id": "a3be44ce-e8e9-4fe6-8ccd-953bd476f87a",
   "metadata": {},
   "outputs": [],
   "source": [
    "#delta\n",
    "w.diff(f).subs(k, \"k\")# sym.sqrt(T*w)"
   ]
  },
  {
   "cell_type": "code",
   "execution_count": null,
   "id": "e199c676-8e74-416b-9e58-341390146611",
   "metadata": {},
   "outputs": [],
   "source": [
    "#gamma\n",
    "w.diff(f).diff(f).subs(k, \"k\")"
   ]
  },
  {
   "cell_type": "code",
   "execution_count": null,
   "id": "d000f7cc-cb04-4766-a04d-235b31c7bce8",
   "metadata": {},
   "outputs": [],
   "source": [
    "# a\n",
    "w.diff(a).subs(k, \"k\")"
   ]
  },
  {
   "cell_type": "code",
   "execution_count": null,
   "id": "310a123d-f940-40af-adc0-9f86dd4673d8",
   "metadata": {},
   "outputs": [],
   "source": [
    "# b\n",
    "w.diff(b).subs(k, \"k\")"
   ]
  },
  {
   "cell_type": "code",
   "execution_count": null,
   "id": "6884aee8-5f6d-4b62-9c5d-65e57d951002",
   "metadata": {},
   "outputs": [],
   "source": [
    "# rho\n",
    "w.diff(rho).subs(k, \"k\")"
   ]
  },
  {
   "cell_type": "code",
   "execution_count": null,
   "id": "e206266f-f439-4fcd-b4b7-029dffd8b2cd",
   "metadata": {},
   "outputs": [],
   "source": [
    "# m\n",
    "w.diff(m).subs(k, \"k\")"
   ]
  },
  {
   "cell_type": "code",
   "execution_count": null,
   "id": "be62e38d-0032-4005-80ce-3e8606392a08",
   "metadata": {},
   "outputs": [],
   "source": [
    "# sigma\n",
    "w.diff(sigma).subs(k, \"k\")"
   ]
  },
  {
   "cell_type": "code",
   "execution_count": null,
   "id": "79dc2f72-20e6-4f4c-89ec-fb22dba3547e",
   "metadata": {},
   "outputs": [],
   "source": [
    "# K\n",
    "w.diff(K).subs(k, \"k\")"
   ]
  }
 ],
 "metadata": {
  "kernelspec": {
   "display_name": "Python 3 (ipykernel)",
   "language": "python",
   "name": "python3"
  },
  "language_info": {
   "codemirror_mode": {
    "name": "ipython",
    "version": 3
   },
   "file_extension": ".py",
   "mimetype": "text/x-python",
   "name": "python",
   "nbconvert_exporter": "python",
   "pygments_lexer": "ipython3",
   "version": "3.12.10"
  }
 },
 "nbformat": 4,
 "nbformat_minor": 5
}
