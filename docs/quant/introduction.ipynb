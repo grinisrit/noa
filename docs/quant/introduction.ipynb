{
 "cells": [
  {
   "cell_type": "markdown",
   "id": "41bf83d1",
   "metadata": {},
   "source": [
    "# Arbitrage and Risk-Neutral Pricing\n",
    "#### Roland Grinis"
   ]
  },
  {
   "cell_type": "code",
   "execution_count": null,
   "id": "e3bea594",
   "metadata": {},
   "outputs": [],
   "source": [
    "import torch\n",
    "import matplotlib.pyplot as plt\n",
    "plt.style.use(\"dark_background\")\n",
    "%matplotlib inline\n",
    "torch.manual_seed(987654);"
   ]
  },
  {
   "cell_type": "markdown",
   "id": "b34f864a",
   "metadata": {},
   "source": [
    "## 1 Introduction\n",
    "\n",
    "### 1.1 What are *derivatives*?\n",
    "\n",
    "Assets include bonds, stocks, commodities, FX rates, cryptocurrencies etc. \n",
    "\n",
    "Some examples:\n",
    "\n",
    "#### 1.1.1 Zero-coupon bond\n",
    "A contract worth $P(t,T)$ at time $t$ that pays $P(T,T) = 1$ at maturity $t=T$"
   ]
  },
  {
   "cell_type": "code",
   "execution_count": null,
   "id": "b4120c44",
   "metadata": {},
   "outputs": [],
   "source": [
    "nday = 365 # Actual/365 day counting convention\n",
    "t = torch.linspace(0,1,nday) # in years, maturity T = 1\n",
    "time_to_maturity = 1 - t"
   ]
  },
  {
   "cell_type": "markdown",
   "id": "c1c1ccc8",
   "metadata": {},
   "source": [
    "Continuously-compounded spot interest rate \n",
    "$$\n",
    "r(t,T) = - \\frac{\\log P(t,T)}{T-t}\n",
    "$$"
   ]
  },
  {
   "cell_type": "code",
   "execution_count": null,
   "id": "a5875930",
   "metadata": {},
   "outputs": [],
   "source": [
    "spot_interest_rate = 0.01 * torch.rand(nday) + 0.05 * torch.sigmoid(100 * (t-0.5))  # rate hike\n",
    "bond = torch.exp(- time_to_maturity * spot_interest_rate)"
   ]
  },
  {
   "cell_type": "code",
   "execution_count": null,
   "id": "a338b936",
   "metadata": {},
   "outputs": [],
   "source": [
    "fig, ax1 = plt.subplots(figsize=(20,10))\n",
    "ax1.set_xlabel('Time (years)', color='white', fontsize=20)\n",
    "ax1.set_ylabel('Zero-coupon', color='C0', fontsize=20)\n",
    "ax1.plot(t.numpy(), bond.numpy(), 'C0')\n",
    "ax1.set_ylim([0.95,1.02])\n",
    "ax1.grid(True)\n",
    "\n",
    "ax2 = ax1.twinx() \n",
    "ax2.grid(False)\n",
    "ax2.set_ylabel('Interest rate', color='C2', fontsize=20)\n",
    "ax2.plot(t.numpy(),spot_interest_rate.numpy(),color='C2')\n",
    "ax2.set_ylim([-0.1,0.5])\n",
    "ax2.tick_params(axis='y', colors='C2')\n",
    "\n",
    "plt.show()"
   ]
  },
  {
   "cell_type": "markdown",
   "id": "fa9a4672",
   "metadata": {},
   "source": [
    "#### 1.1.2 Zero-bond curve \n",
    "This is the map:\n",
    "\n",
    "$$\n",
    "T \\rightarrow P(t,T), \\quad T>t\n",
    "$$ \n",
    "\n",
    "with corresponding continuously-compounded zero-coupon curve:\n",
    "\n",
    "$$\n",
    "T \\rightarrow r(t,T), \\quad T>t\n",
    "$$ \n",
    "\n",
    "sometimes simply referred to as the *yield curve*. \n",
    "\n",
    "There are many different curves, e.g.\n",
    "[US Libor](https://tradingeconomics.com/united-states/interbank-rate),\n",
    "[US Treasuries](https://tradingeconomics.com/united-states/government-bond-yield) etc. Those are based on governement bonds, and there are considered as risk-free. But many other entities can also issues bonds. \n",
    "\n",
    "#### 1.1.3 Discounting rate\n",
    "\n",
    "The curve is said to be *flat* if the rate does not depend on maturity:\n",
    "$$\n",
    "r(t, T) = r(t,t) \\quad \\forall T>t\n",
    "$$\n",
    "\n",
    "For discounting future cashflows, we will typically use the money-savings rate $r_{\\text{OIS}}(t,T)$, with one unit of cash on the bank deposit growing as:\n",
    "$$\n",
    "B_t = \\exp \\left( \\int_0^t r_{\\text{OIS}}(u,u) du \\right)\n",
    "$$\n",
    "\n",
    "The short rate $r_{\\text{OIS}}$ is typically chosen to be the OIS (Overnight Index Swap) risk-free backward looking rate computed using overnight loan transactions between banks. Examples include SOFR and Fed Funds for USD, SONIA for GBP, ESTER for EUR, RUONIA for RUB etc. (see the lectures on Interest Rates Modelling later). \n"
   ]
  },
  {
   "cell_type": "markdown",
   "id": "9ffa075a",
   "metadata": {},
   "source": [
    "#### 1.1.3 Risky assets\n",
    "Stock prices $S(t)$ and everything else is classified as *more risky*. At the beginning of 20th century Bachelier proposed to model them as Brownian motion (here presented as the Geometric Brownian Motion):"
   ]
  },
  {
   "cell_type": "code",
   "execution_count": null,
   "id": "beba8156",
   "metadata": {},
   "outputs": [],
   "source": [
    "dt = torch.cat((torch.zeros(1), t.diff()))\n",
    "K = 100\n",
    "drift = 0.\n",
    "vol = 1.2\n",
    "Y = ((drift - 0.5*vol**2)*dt + vol*torch.randn(nday) * torch.sqrt(dt)).cumsum(0) \n",
    "S = K * torch.exp(Y)"
   ]
  },
  {
   "cell_type": "code",
   "execution_count": null,
   "id": "8e11039c",
   "metadata": {},
   "outputs": [],
   "source": [
    "plt.figure(figsize=(20,10))\n",
    "plt.plot(t.numpy(), S.numpy(),'C3',markersize=30, label='Stock price')\n",
    "plt.legend(fontsize=20)\n",
    "plt.xlabel('Time (years)', color='white', fontsize=20)\n",
    "plt.grid()\n",
    "plt.show()"
   ]
  },
  {
   "cell_type": "markdown",
   "id": "f3afbfcb",
   "metadata": {},
   "source": [
    "Mandelbrot noted in the 1960s that Brownian motion fails to produce *fat tails* typically observed in stock returns distribution. Modelling improvements include *stochastic volatility* and *jump processes*."
   ]
  },
  {
   "cell_type": "markdown",
   "id": "8bf72ca6",
   "metadata": {},
   "source": [
    "#### 1.1.5 Financial Derivatives\n",
    "It is a contract between a party (or a holder) and its counter-party (or the writer) entered at time $t=t_0$ and settleted:\n",
    "* no maturity (Perpetual contracts)\n",
    "* at maturity $t=T$ (European style)\n",
    "* at any time $t \\leq T$ (American style)\n",
    "* at some specified exercise dates $t_1, t_2, \\dots, T$ (Bermudan style)\n",
    "\n",
    "according to a *payoff* function that depends on one or several underlying financial instruments or indices (assets, or other derivatives). \n",
    "\n",
    "The payoff might depend on the value of the underlyings at exercise date (vanilla contracts) or on the whole path between $t_0$ and maturity $T$ (exotic contracts).\n",
    "\n",
    "The contract might be **physically-settled** when the ownership of the underlying instrument is transferred to the holder of the contract according to the payoff and if the instrument is tradeable. In many cases though, the contract is **cash-settled** where the value of the payoff is settled in a predetermined currency. \n",
    "\n",
    "Derivatives can be traded directly between parties, those are *over-the-counter* (OTC) contracts, or via a Central Counter Party (CCP), e.g. on an exchange such as CME, or a clearing house like the LCH.  \n",
    "\n",
    "Examples:"
   ]
  },
  {
   "cell_type": "markdown",
   "id": "a8ec23a5",
   "metadata": {},
   "source": [
    "#### 1.1.6 Forwards/Futures\n",
    "\n",
    "A *forward* is an OTC contract that obliges the holder, at time $t$, to buy the underlying $S_t$ from the writer at some future maturity time $T>t$ for a price $K$ called the *strike*. The payoff at maturity is:\n",
    "$$\n",
    "\\mathcal{P}_F(S_T) = S_T - K\n",
    "$$\n",
    "By definition, the *forward rate* $F(t,T)$ is $K$ chosen such that the value of the contract at time $t$ is trivial.\n",
    "\n",
    "*Futures* are exchange traded standardized versions of forwards. \n",
    "\n",
    "##### Example: Leveraged Trading\n",
    "Forwards/futures fixe the physical delivery of the underlying asset at maturity. They are traded on margin (see next section) and are typically used to gain leverage. \n",
    "\n",
    "\n",
    "#### 1.1.6.1  Forwards/Futures yield curve\n",
    "We define the (continuously compounded) *forward (futures) yield to maturity* $r^{\\text{FWD}}$ such that:\n",
    "$$\n",
    "F(t,T) = \\frac{S_t}{e^{- r_{\\text{FWD}}\\cdot(T-t)}}\n",
    "$$\n",
    "Note that $r_{\\text{FWD}} = r_{\\text{FWD}}(t,T)$ depends on time to maturity. The map:\n",
    "$$\n",
    "T \\rightarrow r_{\\text{FWD}}(t,T), \\quad T>t\n",
    "$$\n",
    "is called the forward yield curve.\n",
    "\n",
    "\n",
    "##### Examples\n",
    "In these examples, the zero coupon $P(t,T)$, with continuously compounded rate $r(t,T)$, stands for the most riskless bond in a given currency. Typically, those bonds are the government bonds.\n",
    "* if $S_t$ is a financial instrument that is not defaultable and does not admit debit or credit cashflows (e.g. a stock of a blue chip company that does not pay dividents) then:\n",
    "$$\n",
    "r_{\\text{FWD}}(t,T) \\equiv  r_{\\text{OIS}}(t,T) \\quad \\text{the discount OIS rate}\n",
    "$$\n",
    "* if $S_t$ is a stock is expected to pay dividends, continuously compounded as $d(t,T)>0$ for modelling puporses:\n",
    "$$\n",
    "r_{\\text{FWD}}(t,T) \\equiv  r_{\\text{OIS}}(t,T) - d(t,T) - \\lambda(t,T) \n",
    "$$\n",
    "and $\\lambda$ encompass possible liquidity constraints on $S$ if the forward is physically settled, or expended funding rate payments if contract is based on a non-tradable index (typical in crypto).\n",
    "* for commodities\n",
    "$$\n",
    "F(t,T) = \\frac{S_t - C_t}{e^{- r_{\\text{FWD}}\\cdot(T-t)}}\n",
    "$$\n",
    "where $C_t > 0$ is the *cost of carry*, and  $\\lambda$ is called the *convenience yield*. In pratice, that could give negative futures which famously happened in April 2020 during the pandemic for U.S. crude oil.\n",
    "* if $S_t$ is an FX rate, with $r_{\\text{OIS}}$ and $r_{\\text{F-OIS}}$ the domestic and foreign discount rates respectively, then:\n",
    "$$\n",
    "r_{\\text{FWD}}(t,T) \\equiv  r_{\\text{OIS}}(t,T) - r_{\\text{F-OIS}}(t,T) - b(t,T) \n",
    "$$\n",
    "where $b$ is the cross-currency basis swap rate XCCY (widening when the issuer is constrained on liquidity for the foreign currency)\n"
   ]
  },
  {
   "cell_type": "code",
   "execution_count": null,
   "id": "92f7f35a",
   "metadata": {},
   "outputs": [],
   "source": [
    "F = S / bond \n",
    "m = F.max()\n",
    "\n",
    "fig, ax1 = plt.subplots(figsize=(20,10))\n",
    "ax1.set_xlabel('Time (years)', color='white', fontsize=20)\n",
    "ax1.plot(t.numpy(), S.numpy(),'C3',markersize=30, label='Stock price')\n",
    "ax1.plot(t.numpy(), F.numpy(), 'C0', markersize=30, label='Forward rate')\n",
    "ax1.set_ylabel('Spot & Forward', fontsize=20)\n",
    "ax1.legend(loc='upper left',fontsize=20)\n",
    "ax1.grid(True)\n",
    "\n",
    "ax2 = ax1.twinx() \n",
    "ax2.grid(False)\n",
    "ax2.set_ylabel('Interest rate', color='C2', fontsize=20)\n",
    "ax2.plot(t.numpy(),spot_interest_rate.numpy(),color='C2')\n",
    "ax2.set_ylim([-0.1,0.5])\n",
    "ax2.tick_params(axis='y', colors='C2')\n",
    "\n",
    "plt.show()"
   ]
  },
  {
   "cell_type": "markdown",
   "id": "5c2e44bc",
   "metadata": {},
   "source": [
    "#### 1.1.7 Swaps\n",
    "\n",
    "A *swap* is a contract that obliges the payer (holder) to exchange with the receiver (writer or issuer) floating rate payments (which could be interest rates, equities returns, probabilities of default etc.) to be made at dates $\\mathcal{T} = \\{ T_0,T_1,\\dots,T_n\\}$ for a fixed *forward swap rate*:\n",
    "\n",
    "$$ S_{\\mathcal{T}}(t) - \\text{basis w.r.t issuer}$$\n",
    "\n",
    "The basis grows as the probability of the issuer of the swap not being able to provide cashflows increase. The swap rate, just as the forward rate, is chosen such that no cashflow at time $t$ is exchanged.\n",
    "\n",
    "\n",
    "For examples, an Interest Rate Swap (IRS) on a yield curve $T \\rightarrow P(t,T)$ is given by\n",
    "$$\n",
    "S_{\\mathcal{T}}(t) = \\frac{P(t,T_0) - P(t,T_n)}{A_{\\mathcal{T}}(t)}\n",
    "$$\n",
    "where \n",
    "$$\n",
    "A_{\\mathcal{T}}(t) = \\sum_{i=1}^{n}\\tau_iP(t,T_i), \\quad \\tau_i = T_i - T_{i-1}\n",
    "$$\n",
    "is the *swap annuity* (also called the PVBP - present value of a basis point). \n",
    "\n",
    "##### Example: Fixing Interest Rate\n",
    "An IRS is typically used to convert an existing loan with floating payments to a fixed rate. \n",
    "\n",
    "##### Example: Credit Default Swap (CDS)\n",
    "The floating leg of the CDS pays out the probability that the bond issuer defaults between $T_i$ and $T_{i+1}$. Buying such a swap enables to bet against the credit worthiness of the issuer of the bonds. Note however, the basis of the issuer of the swap might wipe out the gains. For example, if the issuing institution holds a large position in bonds underlying the swap (as it happened in 2008)."
   ]
  },
  {
   "cell_type": "markdown",
   "id": "a0ef1872",
   "metadata": {},
   "source": [
    "#### 1.1.8 Options\n",
    "Forwards and swaps are example of *linear* products. Options represent another class of derivatives whose value depends non-linearly on the price of the underlying.  \n",
    "\n",
    "A *call option* gives the right to the holder (but not the obligation) to buy a security $S_{t_e}$ at an exercise date $t_e$ for a fixed price $K$, *the strike*. The payoff $\\mathcal{P}_C$ is given by:\n",
    "$$\n",
    "\\mathcal{P}_C(S_{t_e}) = (S_{t_e} - K)^{+} = \\max\\{S_{t_e} - K,0\\}\n",
    "$$\n",
    "A *put option* gives the right (but not the obligation) to sell a security $S_{t_e}$ at an exercise date $t_e$ for the strike $K$. The payoff in this case is:\n",
    "$$\n",
    "\\mathcal{P}_P(S_{t_e}) = (K - S_{t_e})^{+} \n",
    "$$ \n",
    "\n",
    "#### 1.1.9 Moneyness \n",
    "If the forward rate is equal to the strike, $F(t,T) = K$, we say that the option is *at-the-money* (ATM). For a call:\n",
    "* if $K < F(t,T)$ the option is *in-the-money* (ITM)\n",
    "\n",
    "* if $K > F(t,T)$ the option is *out-of-the-money* (OTM)\n",
    "\n",
    "For a put it's the other way round. "
   ]
  },
  {
   "cell_type": "markdown",
   "id": "0f088cd6",
   "metadata": {},
   "source": [
    "#####  Example: Collar\n",
    "\n",
    "Put options are popular for hedging against a sudden drop in the value of an investement in a risky asset. \n",
    "\n",
    "A typically strategy is the *collar*: an investor holding a risky asset $S_t$ that appreciated in value wants to profit from further increase over $[t,T]$, but needs to protect from a potential downside risk. She proceeds buying an OTM put at strike $K_p<S_t$ financing the purchase by writing an OTM call with suitable strike $K_c > S_t$.\n",
    "\n",
    "At time $T$, she can close extra profit for:\n",
    "$$\n",
    "K_c - S_t, \\quad \\text{if} \\quad S_T \\geq K_c,\n",
    "$$\n",
    "and in the worse case scenario she would lose:\n",
    "$$\n",
    "S_t - K_p, \\quad \\text{if} \\quad S_T \\leq K_p,\n",
    "$$"
   ]
  },
  {
   "cell_type": "code",
   "execution_count": null,
   "id": "ccc45e29",
   "metadata": {},
   "outputs": [],
   "source": [
    "td = int(nday*0.75)\n",
    "St = S[td]\n",
    "Kc = int((1+0.25*vol)*St)\n",
    "Kp = int((1-0.25*vol)*St)\n",
    "tT = t[td:]"
   ]
  },
  {
   "cell_type": "code",
   "execution_count": null,
   "id": "6a5426bb",
   "metadata": {},
   "outputs": [],
   "source": [
    "plt.figure(figsize=(20,10))\n",
    "plt.plot(t.numpy(), S.numpy(),'C3',markersize=30, label='Stock price')\n",
    "plt.plot(t.numpy(), K*torch.ones_like(S).numpy(),'C0',markersize=30, label=f'Strike = {K}')\n",
    "plt.plot(tT.numpy(), Kc*torch.ones_like(tT).numpy(),'C1',markersize=30, label=f'Kc = {Kc}')\n",
    "plt.plot(tT.numpy(), Kp*torch.ones_like(tT).numpy(),'C2',markersize=30, label=f'Kp = {Kp}')\n",
    "plt.legend(fontsize=20)\n",
    "plt.xlabel('Time (years)', color='white', fontsize=20)\n",
    "plt.grid(True)\n",
    "plt.show()"
   ]
  },
  {
   "cell_type": "markdown",
   "id": "0b082d98",
   "metadata": {},
   "source": [
    "#### 1.1.10 Swaptions\n",
    "A *payer swaption* gives the right (but not the obligation) to enter a swap where the floating rate payments will be exchanged for a fixed rate $K$. It is essentially a call option on the forward swap rate $S_{\\mathcal{T}}(t)$ with strike $K$. \n",
    "\n",
    "A *receiver swaption* gives the right (but not the obligation) to enter a swap as a receiver, where a fixed rate $K$ will be exchanged for floating rate payments. It is a put option on $S_{\\mathcal{T}}(t)$.\n",
    "\n",
    "*Callable swaps* are popular products that combine a swap together with an ATM Bermudan receiver swaption enabling the holder to get out of fixed rate payements if the interest rates fall.\n"
   ]
  },
  {
   "cell_type": "markdown",
   "id": "93bd5946-3d84-49c4-8e5c-5b49613ac6f2",
   "metadata": {},
   "source": [
    "#### 1.1.11 Autocallables\n",
    "\n",
    "Autocallables mimic the cash-flows of a bond but with coupon payments tied to returns of a basket of any other tradeable assets. \n",
    "The contract fixes a reference date $t_r$ with values for the underlyings:\n",
    "$$\n",
    "S_{1,t_r}, \\dots, S_{n, t_r}\n",
    "$$\n",
    "and a term structure $t_0,\\dots, t_f$ at which the holder receives payments:\n",
    "$$\n",
    "r \\cdot (t_i - t_{i-1}) \\cdot \\alpha N, \\quad i = 1, \\dots, f\n",
    "$$\n",
    "where the first factors represent interest and $\\alpha$ is the coupon's fraction of the notional $N$ the holder gives the issuer at the start of the contract. \n",
    "\n",
    "Coupon payments are conditional on barrier levels:\n",
    "$$\n",
    "\\mu \\left( \\frac{S_{1,t_i}}{S_{1,t_r}}, \\cdots , \\frac{S_{n,t_i}}{S_{n,t_r}} \\right) \\geq \\mu_{B_i}\n",
    "$$\n",
    "where $\\mu$ might be the average, $\\min$, $\\max$, etc.\n",
    "\n",
    "If the barrier is not reached, the coupon can be accumulated. The notional $N$ is returned to the holder at maturity $t_f$ or if the autocall barrier $\\mu_A \\geq \\mu_{B_i}$ is reached:\n",
    "$$\n",
    "\\mu \\left( \\frac{S_{1,t_i}}{S_{1,t_r}}, \\cdots , \\frac{S_{n,t_i}}{S_{n,t_r}} \\right) > \\mu_A\n",
    "$$\n"
   ]
  },
  {
   "cell_type": "markdown",
   "id": "beba2b32",
   "metadata": {},
   "source": [
    "#### 1.1.12 Securities\n",
    "By a slight abuse of terminology, we will use the term *security* and *financial instrument* interchangeably to refer to any tradeable asset, contract or derivative."
   ]
  },
  {
   "cell_type": "markdown",
   "id": "cbbe067f",
   "metadata": {},
   "source": [
    "### 1.2 How derivative contracts are traded?\n",
    "\n",
    "The answer is easy: it is *always* the market that settles to a value for a derivative contract as a result of *demand and supply* dynamics. \n",
    "\n",
    "However, in some situations (especially for linear payoffs), the value of a derivative can be directly derived from the price of other securities. "
   ]
  },
  {
   "cell_type": "markdown",
   "id": "90aea7e3",
   "metadata": {},
   "source": [
    "#### 1.2.1 Why do we need models?\n",
    "\n",
    "Nowdays, derivatives are traded on margin. When a party and a counter-party enter a trade, only a certain percent of the contract value is exchanged: the *variation margin*. \n",
    "\n",
    "Each party then deposits funds that should cover the *initial margin*: this is the potential depreciation in the value of the contract due to moves in the market, and also account for the possiblity of counter-party default. This is based on sensitivity calculations for the value of the derivative which requires modelling.\n",
    "\n",
    "If a party incurs a loss which eats deep into the initial margin down to a level called the *maintenance margin*, the party will have to give away its losses and close the trade, or deposit more funds (this is called a *margin call* for exchange traded derivatives). But since the latest Basel agreements, due to the downfall of Lehman Brothers in 2008, those strict rules also concern the OTC market.\n",
    "\n",
    "Moreover, the regulators require that the overall portfolio of large banks has small sensitivity to market movements, i.e. it is *market neutral*, and is well diversified. \n"
   ]
  },
  {
   "cell_type": "markdown",
   "id": "f8a42613",
   "metadata": {},
   "source": [
    "#### 1.2.2 Who are the *quants*?\n",
    "\n",
    "Front office: \n",
    "* quant traders\n",
    "* strategist (strats)\n",
    "* quant modellers \n",
    "* quant developers\n",
    "\n",
    "Back office:\n",
    "* risk management\n",
    "* regulatory "
   ]
  },
  {
   "cell_type": "markdown",
   "id": "e3f3a584",
   "metadata": {},
   "source": [
    "## 2 Diffusion processes"
   ]
  },
  {
   "cell_type": "markdown",
   "id": "2f2dab80",
   "metadata": {
    "pycharm": {
     "name": "#%% md\n"
    }
   },
   "source": [
    "### 2.1 Wiener Process (Brownian motion)\n",
    "\n",
    "* Let $(\\Omega, \\mathbb{P})$ be a probability space with time filtration $\\mathcal{F} = \\left( \\mathcal{F}_t\\right) $ - events in $\\mathcal{F}_t$ have only been realised up to time $t$.\n",
    "\n",
    "* For each realisation of an event $\\omega \\in \\Omega$, suppose there is a trajectory $t \\rightarrow W(t)$ that depends on $\\omega$, that's called a *stochastic process*. \n",
    "\n",
    "* If $W(t)$ depends only events from $\\mathcal{F}_t$, that is only events realised up to time $t$ and not from the future beyond $t$, we say $W$ is $\\mathcal{F}$-*adapted*.\n",
    "\n",
    "* If the probability distribution $\\mathbb{P}\\left[ W(T) | \\mathcal{F}_t \\right]$ of $W(T)$ conditional on events from $\\mathcal{F}_t$ depends only $W(t)$ for any $T>t$, we say $W$ is *Markov*. \n",
    "\n",
    "* If the conditional expectation $\\mathbb{E} \\left[ W(T) | \\mathcal{F}_t \\right] = W(t)$, we say $W$ is *Martingale*.\n",
    "\n",
    "* We call $W(t), t \\geq 0$, a *Brownian motion* if for all $t_i;\\ (i = 0,1...n)$ the increments $ \\delta W\\left(t_i\\right)=W\\left(t_i\\right)-W\\left(t_{i-1}\\right) $ are independent normally distributed $N(\\mu, \\sigma^2)$ with\n",
    "$$\n",
    "\\begin{aligned}\n",
    "\\mu = \\mathbb{E}\\left[W\\left(t_{i+1}\\right)-W\\left(t_i\\right)\\right] &=0 \\\\\n",
    "\\sigma^2 =\\mathbb{E}\\left[\\left( W\\left(t_{i+1}\\right)-W\\left(t_i\\right)\\right)^2\\right] = \\operatorname{Var}\\left[W\\left(t_{i+1}\\right)-W\\left(t_i\\right)\\right] &=t_{i+1}-t_i\n",
    "\\end{aligned}\n",
    "$$\n",
    "\n",
    "and $W(0) = 0$. It is Markov and Martingale by definition."
   ]
  },
  {
   "cell_type": "code",
   "execution_count": null,
   "id": "039bd73d",
   "metadata": {
    "pycharm": {
     "name": "#%%\n"
    }
   },
   "outputs": [],
   "source": [
    "# creating brownian motion\n",
    "torch.manual_seed(41)\n",
    "sigma = torch.tensor(0.25)\n",
    "Wt = torch.cumsum(sigma * t.diff().sqrt().reshape((1, nday - 1)) * torch.randn((nday-1)), 1)\n",
    "minimum = torch.min(Wt) * torch.ones(3)\n",
    "maximum = torch.max(Wt) * torch.ones(3)\n",
    "vlines = [120,200,280]\n",
    "Wt_ = Wt.numpy()[0,:]"
   ]
  },
  {
   "cell_type": "markdown",
   "id": "925267a5-06b5-4dad-90f6-46b416ab5f77",
   "metadata": {},
   "source": [
    "Brownian motion: \n",
    "\n",
    "$\\lim_{n \\rightarrow\\infty} W^{(n)}(t) \\sim N(0,t)$ \n",
    "\n",
    "$\\mathbb{E}[W(t_{i+1}) | \\mathcal{F}]=W(t_{i}) $"
   ]
  },
  {
   "cell_type": "code",
   "execution_count": null,
   "id": "88eb293f",
   "metadata": {
    "pycharm": {
     "name": "#%%\n"
    }
   },
   "outputs": [],
   "source": [
    "plt.figure(figsize=(20, 10))\n",
    "plt.plot(Wt_)\n",
    "plt.xlabel('Time index', color='white', fontsize=20)\n",
    "plt.ylabel('W(t)', color='white', fontsize=20)\n",
    "plt.title('Brownian motion', fontsize=28)\n",
    "for i in (0,1):\n",
    "    plt.text(vlines[i]-10, 0, f'$t_{i+1}$', fontsize = 30, color = 'green')\n",
    "    plt.text(vlines[i]+10, -0.05, f'$W(t_{i+2})-W(t_{i+1})$', fontsize = 20, color = 'white')\n",
    "    plt.text(vlines[i]+20, -0.07, f'$ \\\\sim N(0, t_{i+2} - t_{i+1})$', fontsize = 20, color = 'white')\n",
    "plt.text(vlines[2]-10, 0, f'$t_{i+1}$', fontsize = 30, color = 'green')\n",
    "plt.vlines(vlines, ymin= minimum,ymax = maximum, color = 'green', linestyles='--')\n",
    "plt.show()"
   ]
  },
  {
   "cell_type": "markdown",
   "id": "847a816b",
   "metadata": {
    "pycharm": {
     "name": "#%% md\n"
    }
   },
   "source": [
    "### 2.2 Ito Integral\n",
    "\n",
    "If we try to integrate a normal continuous function $b(t)$ with respect to Brownian Motion $W(t)$, the definition of such Integral $X=I(t)=\\int_0^t b(\\tau) d W(\\tau) \\\\  $ is required.\n",
    "\n",
    "Firstly divide the interval of integration to $N$ parts $ (t_1, t_2), ..., (t_{N-1}, t_N)$ and denote \n",
    "$$\n",
    "I_N \\left[ b(t) \\right] = \\sum_{i=0}^{N-1} b(t_{i-1}) \\left( W_{t_i} - W_{t_{i-1}} \\right) \n",
    "$$\n",
    "Ito has proved that there is a function $ I[b(t)] = \\int_0^t b(\\tau) d W(\\tau)$ such that\n",
    "$$\n",
    "\\mathbb{E}\\left[ \\left( I[b(t) \\right] - I_N \\left[ b(t) \\right] \\right)^2] \\rightarrow\\ 0\\ as\\ N \\rightarrow \\inf\n",
    "$$\n",
    "This function is called Ito Integral and it has following properties:\n",
    "\n",
    "+ (Martingale) $I(t)$ is a martingale.\n",
    "+ (Itô isometry) $\\mathbb{E} I^2(t)=\\mathbb{E} \\int_0^t b^2(\\tau) d \\tau$."
   ]
  },
  {
   "cell_type": "code",
   "execution_count": null,
   "id": "d132574e",
   "metadata": {
    "pycharm": {
     "name": "#%%\n"
    }
   },
   "outputs": [],
   "source": [
    "import numpy as np\n",
    "dN = 30\n",
    "maximum = Wt_[::dN]+1\n",
    "minimum = 0.5*np.ones(nday-1)[::dN]\n",
    "foo = 0.1*np.sin(np.arange(nday)/40)+0.6"
   ]
  },
  {
   "cell_type": "code",
   "execution_count": null,
   "id": "d06f53c6",
   "metadata": {
    "pycharm": {
     "name": "#%%\n"
    }
   },
   "outputs": [],
   "source": [
    "plt.figure(figsize=(20, 10))\n",
    "plt.plot(Wt_+ 1)\n",
    "plt.plot(foo)\n",
    "plt.scatter(range(0,nday,dN), maximum, marker = 'o', color='red', s=50*np.ones_like(maximum))\n",
    "plt.vlines(range(0,nday,dN), ymin= minimum, ymax = maximum, color = 'green', linestyles='--')\n",
    "plt.hlines(foo[::dN][:-1], xmin=range(0,nday,dN)[:-1], xmax=range(0,nday,dN)[1:], color='red')\n",
    "plt.xlabel('Time index', color='white', fontsize=20)\n",
    "plt.ylabel('W(t);    b(t)', color='white', fontsize=20)\n",
    "plt.title('Integration of b(t) by W(t):' + ' '*10+ '$I_N[b(t)] = \\sum_{i=0}^{N-1} [W_{t_i} - W_{t_{i-1}}] \\ b(t_{i-1})$', fontsize=25)\n",
    "plt.show()"
   ]
  },
  {
   "cell_type": "markdown",
   "id": "99d7b42a",
   "metadata": {
    "pycharm": {
     "name": "#%% md\n"
    }
   },
   "source": [
    "### 2.3 Stochastic Differential Equations (SDE)\n",
    "Ito integral is used to build SDEs. We start from integral instead of differential because it is much easier to obtain integral for Brownian motion.\n",
    "Actually, the notations\n",
    "$$\n",
    "\\begin{aligned}\n",
    "&\\qquad I(t)=\\int_0^t b(\\tau) d W(\\tau) \\\\\n",
    "&\\qquad d I(t)=b(t) d W(t) \\\\\n",
    "\\end{aligned}\n",
    "$$\n",
    "\n",
    "mean almost the same thing. First equation has the imprecise meaning that when we move forward a little bit in time\n",
    "from time $t$, the change in the Itô integral $I$ is $b(t)$ times the change in the Brownian motion $W$. It also has a precise meaning, which one obtains by integrating both sides:\n",
    "\n",
    "$$\n",
    "\\begin{aligned}\n",
    "&\\qquad I(t)=I(0)+\\int_0^t b(\\tau) d W(\\tau)\n",
    "\\end{aligned}\n",
    "$$\n",
    "These equations mean exactly the same thing.\n",
    "\n",
    "So when we see a Stochastic Differential Equation (diffusion process for example)\n",
    "$$\n",
    "\\text{d}\\textbf{X}_t = \\mu_t(t,\\textbf{X}_t)\\text{d}t + \\sigma_t(t,\\textbf{X}_t)\\text{d}\\textbf{W}_t\n",
    "$$\n",
    "We should think of it as this equation:\n",
    "$$\n",
    "\\textbf{X}_t = \\textbf{X}_0 + \\int_0^T \\mu_t(t,\\textbf{X}_t)\\text{d}t + \\int_0^T \\sigma_t(t,\\textbf{X}_t)\\text{d}\\textbf{W}_t\n",
    "$$"
   ]
  },
  {
   "cell_type": "markdown",
   "id": "9e14db0a",
   "metadata": {},
   "source": [
    "In general, we will consider $n$-dimensional diffusion processes $\\textbf{X}_t$ over a probability space $\\left( \\Omega,  \\mathbb{P} \\right)$. The filtration $\\mathcal{F}$ is generated by $m$ independent Wiener processes $\\textbf{W}_t$. All auxiliary processes mentioned in those notes are assumed adapted to this filtration."
   ]
  },
  {
   "cell_type": "markdown",
   "id": "77090387",
   "metadata": {},
   "source": [
    "### 2.4 Ito Formula\n",
    "Any non-degenerate correlation configuration can be reduced to the following SDE for $\\textbf{X}_t$:\n",
    "$$\n",
    "\\text{d}\\textbf{X}_t = \\mu_t(\\textbf{X}_t)\\text{d}t + \\sigma_t(\\textbf{X}_t)\\text{d}\\textbf{W}_t\n",
    "$$\n",
    "with $\\mu_t$ an $n$-dimensional drift and $\\sigma_t$ denoting a volatility $n \\times m$-matrix. Well-posedness is established for Lipschitz bounds on $\\mu_t$ and  $\\sigma_t$.\n",
    "\n",
    "Ito formula reads for $\\textbf{Y}_t = f(t, \\textbf{X}_t)$:\n",
    "$$\n",
    "\\text{d}\\textbf{Y}_t = \\left( \\frac{\\partial f}{\\partial t} + \\mu_t^{*} \\nabla_x f + \\frac{1}{2} \\text{tr} \\left[ \\sigma_t^{*} \\cdot \\nabla_x^2 f \\cdot \\sigma_t \\right] \\right) \\text{d}t + \\nabla_x^{*} f \\cdot \\sigma_t \\text{d}\\textbf{W}_t\n",
    "$$\n",
    "\n",
    "Conditional expectations:\n",
    "$$\n",
    "g(t, x) = \\mathbb{E} \\left[ h(\\textbf{X}_T) | \\textbf{X}_t=x \\right]\n",
    "$$\n",
    "satisfy the Feynman-Kac equation:\n",
    "$$\n",
    "\\frac{\\partial g}{\\partial t} + \\mu_t^{*} \\nabla_x g + \\frac{1}{2} \\text{tr} \\left[ \\sigma_t^{*} \\cdot \\nabla_x^2 g \\cdot \\sigma_t \\right] = 0\n",
    "$$\n",
    "with initial condition $g(T, x) = h(x)$.\n",
    "\n",
    "#### 2.4.1 Exercise: Feyman-Kac formula \n",
    "Derive the Feyman-Kac formula using the law of iterated expectations:\n",
    "$$\n",
    "\\mathbb{E} \\left[ h(\\textbf{X}_T) | \\mathcal{F}_s \\right] = \\mathbb{E} \\left[ \\mathbb{E} \\left[ h(\\textbf{X}_T) | \\mathcal{F}_t \\right] | \\mathcal{F}_s \\right]\n",
    "$$\n",
    "for $s \\leq t$.\n",
    "\n",
    "Transition probabilities:\n",
    "$$\n",
    "p(t,T,x,y) = \\mathbb{P} \\left( \\textbf{X}_T = y | \\textbf{X}_t = x \\right)\n",
    "$$\n",
    "so that:\n",
    "$$\n",
    "g(t, x) = \\int h(y)p(t,T,x,y)dy\n",
    "$$\n",
    "satisfy the Kolmogorov backward equation:\n",
    "$$\n",
    "\\frac{\\partial p}{\\partial t} + \\mu_t^{*} \\nabla_x p + \\frac{1}{2} \\text{tr} \\left[ \\sigma_t^{*} \\cdot \\nabla_x^2 p \\cdot \\sigma_t \\right] = 0\n",
    "$$\n",
    "with initial condition $p(t,t,x,y) = \\delta(x-y)$."
   ]
  },
  {
   "cell_type": "markdown",
   "id": "b75d4d4a",
   "metadata": {},
   "source": [
    "## 2.5 Girsanov Theorem\n",
    "\n",
    "We will discuss only a special case. Consider a process $\\gamma_t$ with finite Ito norm $\\int \\gamma^2_t dt < \\infty$. Associate to $\\gamma_t$ the exponential process:\n",
    "$$\n",
    "\\text{d}Z^{\\gamma}_t = - Z^{\\gamma}_t \\gamma_t \\text{d}W_t, \\quad Z_0=1\n",
    "$$\n",
    "\n",
    "We can use this process to define a new probability measure equivalent to $\\mathbb{P}$:\n",
    "$$\n",
    "\\text{d}\\mathbb{Q}^\\gamma = Z_T^{\\gamma}\\text{d}\\mathbb{P}\n",
    "$$\n",
    "\n",
    "Girsanov showed that the process:\n",
    "$$\n",
    "\\text{d}W^\\gamma_t = \\gamma_t\\text{d}t + \\text{d}W_t, \\quad W^\\gamma_0=0\n",
    "$$\n",
    "is a Wiener process under the measure $\\mathbb{Q}^\\gamma$."
   ]
  },
  {
   "cell_type": "markdown",
   "id": "88a619f6",
   "metadata": {},
   "source": [
    "### 2.6 Euler Scheme for SDEs\n",
    "\n",
    "The simplest discretisation for $\\textbf{X}_t$ over time steps $t_{i+1} = t_i + \\Delta t$ compatible with Ito's integral is the explicit Euler scheme:\n",
    "$$\n",
    "\\textbf{X}_{t_{i+1}}^{\\Delta t} = \\textbf{X}_{t_i}^{\\Delta t} + \\mu_t(\\textbf{X}_{t_i}^{\\Delta t})\\Delta t + \\sigma_t(\\textbf{X}_{t_i}^{\\Delta t}) \\Delta t^{\\frac{1}{2}}\\Delta\\textbf{W}\n",
    "$$\n",
    "where $\\Delta\\textbf{W}$ follows the standard normal distribution.\n",
    "\n",
    "Strong convergence at some given time slice $t_i=T$ has asymptotics:\n",
    "$$\n",
    "\\mathbb{E} \\left( | \\textbf{X}_T^{\\Delta t} - \\textbf{X}_T |^2 \\right) = O(\\Delta t)\n",
    "$$\n",
    "which is considerably worse than $O(\\Delta t^2)$ for ODEs.\n",
    "\n",
    "Weak convergence for the Monte-Carlo estimator:\n",
    "$$\n",
    "\\textbf{V}^{\\Delta t} =  \\frac{1}{N} \\sum_{k=0}^{N} \\mathcal{P}(\\textbf{X}_T^{\\Delta t})\n",
    "$$\n",
    "\n",
    "of $\\textbf{V} = \\mathbb{E} \\left[ \\mathcal{P}(\\textbf{X}_T) \\right]$, for some payoff $\\mathcal{P}$,  exhibits bias:\n",
    "$$\n",
    "\\begin{split}\n",
    "\\text{MSE}(\\textbf{V}^{\\Delta t}) & =  \\mathbb{E} \\left[ \\left( \\textbf{V}^{\\Delta t} - \\textbf{V} \\right)^2 \\right] \\\\\n",
    " & =  \\left( \\mathbb{E} \\left[\\textbf{V}^{\\Delta t}\\right] - \\textbf{V} \\right)^2 + \\mathbb{E} \\left[ \\left(\\textbf{V}^{\\Delta t} -\\mathbb{E} \\left[\\textbf{V}^{\\Delta t} \\right] \\right)^2 \\right] \\\\\n",
    " & = \\text{Bias}(\\textbf{V}^{\\Delta t})^2 + \\text{Var}(\\textbf{V}^{\\Delta t}) \\\\\n",
    " & = O(\\Delta t^2) + O(\\frac{1}{N})\n",
    "\\end{split}\n",
    "$$\n",
    "beyond the central limit asymptotics.\n"
   ]
  },
  {
   "cell_type": "markdown",
   "id": "de997f2d",
   "metadata": {},
   "source": [
    "### 2.7 Geometric Brownian Motion (GBM)\n",
    "\n",
    "This is the simplest strictly positive process $S_t > 0$ with constant drift and volatility:\n",
    "$$\n",
    "\\frac{\\text{d}S_t}{S_t} = \\mu \\text{d}t + \\sigma\\text{d}W_t\n",
    "$$\n",
    "It's more convenient to work in log-space $Y_t = \\log S_t$:\n",
    "$$\n",
    "\\text{d}Y_t = \\left(\\mu - \\frac{1}{2} \\sigma^2\\right)\\text{d}t + \\sigma\\text{d}W_t\n",
    "$$\n",
    "from Ito's formula.\n",
    "\n",
    "#### Exercise\n",
    "Compute $V_T = \\mathbb{E} \\left[ (S_T - S_0)_{+} \\right]$ analytically. Use the Euler scheme to generate $S_t$ for several choices of time step $\\Delta t$ to compute $V_T$. Perform the same calculation for the Euler scheme with $Y_t$. Finally, compute $V_T$ using a Monte-Carlo simulation for $Y_T$, and compare the results."
   ]
  },
  {
   "cell_type": "code",
   "execution_count": null,
   "id": "4769ed80",
   "metadata": {},
   "outputs": [],
   "source": [
    "dt = torch.cat((torch.zeros(1), t.diff()))\n",
    "num_paths = 1000\n",
    "S0 = torch.tensor(100., requires_grad=True)\n",
    "rate = 0.8\n",
    "vol = torch.tensor(1.2, requires_grad=True)\n",
    "Yt = ((rate - 0.5*vol**2)*dt + vol*torch.randn(num_paths, nday) * dt.sqrt()).cumsum(1) \n",
    "St = S0 * torch.exp(Yt)"
   ]
  },
  {
   "cell_type": "code",
   "execution_count": null,
   "id": "5ca4f614",
   "metadata": {},
   "outputs": [],
   "source": [
    "plt.figure(figsize=(20,10))\n",
    "plt.plot(t.numpy(), St[:10].detach().numpy().squeeze().T)\n",
    "plt.xlabel('Time (years)', color='white', fontsize=20)\n",
    "plt.ylabel('Stock price', color='white', fontsize=20)\n",
    "plt.grid(True)\n",
    "plt.show()"
   ]
  },
  {
   "cell_type": "markdown",
   "id": "f42e9c6f",
   "metadata": {},
   "source": [
    "## 3 Risk-Neutral Valuation\n",
    "\n",
    "Any pricing methodology should obey the no-arbitrage principle. "
   ]
  },
  {
   "cell_type": "markdown",
   "id": "19b565b7",
   "metadata": {},
   "source": [
    "### 3.1 Arbitrage\n",
    " An *arbitrage* is a trading strategy that starts from zero balance and has positive expected return with no probability of loss, i.e. a *risk-free strategy*.\n",
    "\n",
    "Therefore, unless the no-abritrage condition is satisfied, we cannot talk about any notion of fair value."
   ]
  },
  {
   "cell_type": "markdown",
   "id": "8deee265",
   "metadata": {},
   "source": [
    "#### 3.1.1 Pricing a Forward Contract\n",
    "\n",
    "What is the present value $PV_F(t,T,K)$ of a contract at time $t$ that fixes its holder the price of the underlying $S_t$ to $K$ at some future time $T$?\n",
    "\n",
    "It is essentially the present value of the forward contract where instead of using the forward rate $F(t,T)$ we have $K$. Therefore, we refer to such a contract as strike $K$ forward.\n",
    "\n",
    "In fact the payoff at time $T$ is given by:\n",
    "$$\n",
    "PV_F(T,T,K) = S_T - K = \\max\\{S_T - K,0\\} - \\max\\{K - S_T,0\\}\n",
    "$$\n",
    "This decomposition immediately gives us:\n",
    "$$\n",
    "PV_F(t,T,K) = PV_C(t,T,K) - PV_P(t,T,K)\n",
    "$$\n",
    "where $PV_C(t,T,K)$ and $PV_P(t,T,K)$ are the present values at time $t$ of the European call and put options respectively with maturity $T$ and strike $K$.\n",
    "On the other hand, we claim that:\n",
    "$$\n",
    "PV_F(t,T,K)  = P(t,T) \\left(F(t,T) - K \\right), \\quad F(t,T) = \\frac{S_t}{P(t,T)}\n",
    "$$\n",
    "For the second equality we assume that holding the underlying $S_t$ does not give rise to any other cashflows (e.g. dividends, foreign money saving rate, funding rate etc.), and no transaction costs or liquidity issues are taken into account. \n",
    "\n",
    "With such assumptions, we can be obtaine the relations by no-arbitrage arguments:\n",
    "\n",
    "* if $PV_F(t,T,K_0) > P(t,T) \\left(F(t,T) - K_0\\right)$, for some strike $K_0$, we trade in the bond to finance the purchase of the security and stand as a writer in a forward contract at strike $K_0$:\n",
    "$$\n",
    "\\frac{PV_F(t,T,K_0) - S_t}{P(t,T)} P(t,T) + S_t - PV_F(t,T,K_0) = 0\n",
    "$$\n",
    "which has no value at time $t$, but at time $T$ this portfolio is worth:\n",
    "$$\n",
    "\\frac{PV_F(t,T,K_0) - S_t}{P(t,T)} + K_0 > 0\n",
    "$$\n",
    "which is a guaranteed win. That's arbitrage.\n",
    "* if $PV_F(t,T,K_0) < P(t,T) \\left(F(t,T) - K_0\\right)$, we trade in the bond to finance the short sell of the security and buy a forward contract at strike $K_0$:\n",
    "$$\n",
    "\\frac{S_t - PV_F(t,T,K_0)}{P(t,T)} P(t,T) - S_t + PV_F(t,T,K_0) = 0\n",
    "$$\n",
    "Again, this portfolio which has no value at time $t$, becomes:\n",
    "$$\n",
    "\\frac{S_t - PV_F(t,T,K_0)}{P(t,T)} - K_0 > 0\n",
    "$$\n",
    "at time $T$ which is arbitrage.\n",
    "\n",
    "Transaction costs and the risk of counter-party default are ignored in arbitrage arguments because we are only concerned with price dynamics.\n",
    "\n",
    "#### Exercise \n",
    "Show that it costs nothing to enter the interest rate swap."
   ]
  },
  {
   "cell_type": "markdown",
   "id": "e0d02f19",
   "metadata": {},
   "source": [
    "#### 3.1.2 Put-Call Parity\n",
    "\n",
    "The previous example has lead to us to the identity:\n",
    "$$\n",
    "PV_C(t,T,K) - PV_P(t,T,K) = P(t,T) \\left(F(t,T) - K \\right)\n",
    "$$\n",
    "which is called the *put-call parity*. As a consequence, we get that the European ATM put and call have same value:\n",
    "$$\n",
    "PV_C(t,T,F(t,T)) = PV_P(t,T,F(t,T))\n",
    "$$\n",
    "Moreover, it costs nothing to enter a forward contract. But once purchased, the value of this contract will evolve according to $PV_F$."
   ]
  },
  {
   "cell_type": "markdown",
   "id": "d4dc50b5",
   "metadata": {},
   "source": [
    "### 3.2 Numeraire\n",
    "\n",
    "We call a *numeraire* any basket of securities with a strictly positive value throughout time which is used as a denominator for all other securities. \n",
    "\n",
    "A typical example is the zero-coupon bond $P(t,T)$. In fact, prices denominated in $P(t,T)$ correspond to forward rates. \n",
    "\n",
    "However other numeraires can be more convenient, especially in interest rates. For swaps, it is natural to work with the annuity for example. \n",
    "\n",
    "Abusing terminology, we will call *forward prices* or simply *forwards* the prices of all securities denominated in some chosen numeraire. \n",
    "\n",
    "We always model forwards instead of the security prices directly. "
   ]
  },
  {
   "cell_type": "markdown",
   "id": "d7658125",
   "metadata": {},
   "source": [
    "### 3.3  Risk Neutral Measure\n",
    "The *risk-neutral measure*  $\\mathbb{Q}^N$  w.r.t some chosen numeraire $N_t$ is defined to be the one under which the value of any derivative denominated in the numeraire $N_t$ follows martingale dynamics. The measure $\\mathbb{Q}^\\gamma$  obtained from Girsanov's theorem in the BSM model is one basic example. \n"
   ]
  },
  {
   "cell_type": "markdown",
   "id": "7fa6eb90",
   "metadata": {},
   "source": [
    "#### 3.3.1 Stopping time\n",
    "Let us denote by $\\tau$ the stochastic process corresponding to the decision of the holder of the derivative contract to execute it. It is called the *stopping time*. In the case of American style options $\\tau$ can take any value in the interval $[0,T]$, where $T$ is the maturity. For Bermudan style contracts the settlement dates are predetermined, and for European contracts the holder has no choice $\\tau=T$. \n",
    "\n",
    "We will denote by $\\mathcal{T}$ the set of all allowed stopping times."
   ]
  },
  {
   "cell_type": "markdown",
   "id": "e8ebd5a9",
   "metadata": {},
   "source": [
    "#### 3.3.2 Risk Neutral Valuation\n",
    "The present value $PV_t$ of a derivative contract with underlying $S_t$ and (possibly path-dependent) payoff $\\mathcal{P}$ is given by:\n",
    "$$\n",
    "PV_t= N_t \\max_{\\tau \\in \\mathcal{T}} \\mathbb{E}^N \\Bigl[  \\mathcal{P}\\left( \\{S_s\\}_{t \\leq s \\leq \\tau} \\right) / N_{\\tau}| \\mathcal{F}_t \\Bigr]\n",
    "$$\n",
    "where $\\mathbb{E}^N$ is expectation under the risk-neutral measure attached to the numeraire $N_t$ for which \n",
    "$$\n",
    "FV_t = PV_t/N_t\n",
    "$$ \n",
    "is a martingale. By abuse of terminology, we call $FV_t$ the *forward value*. "
   ]
  },
  {
   "cell_type": "code",
   "execution_count": null,
   "id": "cdf801c7",
   "metadata": {},
   "outputs": [],
   "source": [
    "# Lookback option\n",
    "payoff = torch.max(St,1).values\n",
    "plt.figure(figsize=(20,10))\n",
    "plt.hist(payoff.detach().numpy(), 300, density=True);\n",
    "plt.xlabel('Payoff distribution', color='white', fontsize=20)\n",
    "plt.grid(True)\n",
    "plt.show()"
   ]
  },
  {
   "cell_type": "code",
   "execution_count": null,
   "id": "e2c25318",
   "metadata": {},
   "outputs": [],
   "source": [
    "PV = torch.exp(- rate * time_to_maturity[0]) * payoff.mean() # Forward Value\n",
    "PV"
   ]
  },
  {
   "cell_type": "code",
   "execution_count": null,
   "id": "cd23a0cc",
   "metadata": {},
   "outputs": [],
   "source": [
    "delta, vega = torch.autograd.grad(PV, [S0, vol]) # reverse-mode automatic differentiation\n",
    "print(f'Delta: {delta.item()}')\n",
    "print(f'Vega: {vega.item()}')"
   ]
  },
  {
   "cell_type": "markdown",
   "id": "ab03c927",
   "metadata": {},
   "source": [
    "## 4 Fundamental Theorem of Asset Pricing\n",
    "\n",
    "A *complete market* is a market model where any derivative contract can be exactly replicated by trading in the underlying instruments.  \n",
    "\n",
    "The fundamental theorem of asset pricing states that in a complete market for a given numeraire there exist a risk-neutral measure which provides fair valuation for all securities. \n",
    "\n",
    "We will show that for Black-Scholes-Merton model this theorem holds, as special case of the Girsanov Theorem. However the assumption of constant volatility is very restrictive.\n",
    "\n",
    "In practice, exact replication is not interesting and so the notion of complete markets. What is important is the notion of risk neutral measure whose existence practitioners take for granted. "
   ]
  },
  {
   "cell_type": "markdown",
   "id": "af60a636-15e4-43a6-8052-230228da14d6",
   "metadata": {},
   "source": [
    "### 4.1 Forward dynamics with constant volatility\n",
    "The Black-Scholes-Merton (BSM) model describes the evolution the forward $f_t$ via GBM dynamics:\n",
    "\n",
    "$$\n",
    "\\text{d}f_t = \\mu f_t\\text{d}t + \\sigma f_t \\text{d}W_t\n",
    "$$\n",
    "\n",
    "The volatility $\\sigma$ is called the *implied volatility* and is provided by market participants. Being constant is a severe limitation for practitioners, but we will address this issue with stochastic volatility models later.\n",
    "\n",
    "Calibrating the drift $\\mu$ is not possible without apriori information which fundamentally depends on each investor's view on the market.\n",
    "\n",
    "The ingenious idea was to note that the choice of $\\mu$ is linked to the choice of probability measure $\\mathbb{P}$.\n",
    "\n",
    "#### 4.1 Existence of Risk-Neutral Measure\n",
    "\n",
    "In the BSM model, substituting:\n",
    "$$\n",
    "\\gamma = \\frac{\\mu}{\\sigma}\n",
    "$$\n",
    "into Girsanov's result leads to martingale dynamics for the forward:\n",
    "$$\n",
    "\\text{d}f_t = \\sigma f_t \\text{d}W^\\gamma_t\n",
    "$$\n",
    "under $\\mathbb{Q}^\\gamma$. To avoid arbitrage, the forward values of all derivative contracts must also be martingales under that measure. \n",
    "\n",
    "Does the valuation we obtained in the risk neutral world is the fair price for the actual measure $\\mathcal{P}$?\n",
    "\n",
    "#### 4.2 Black-Scholes PDE\n",
    "\n",
    "Let's start again from the BSM model. Considering European contracts for simplicity, the  Feynman-Kac formula for the risk-neutral dynamics gives:\n",
    "$$\n",
    "\\frac{\\partial FV}{\\partial t} + \\frac{1}{2}\\sigma^2 f_t^2 \\frac{\\partial^2 FV}{\\partial f_t^2}=0\n",
    "$$\n",
    "\n",
    "This is also known as the *Black-Scholes PDE*.\n",
    "\n",
    "#### 4.3 Replication\n",
    "\n",
    "By Ito and the above, under the measure $\\mathbb{P}$, the derivative's $FV_t$ evolves as:\n",
    "$$\n",
    "\\begin{split}\n",
    "\\text{d}FV_t & = \\left(\\frac{\\partial FV}{\\partial t}+ \\mu f_t \\frac{\\partial FV}{\\partial f_t} + \\frac{1}{2}\\sigma^2 f_t^2 \\frac{\\partial^2 FV}{\\partial f_t^2} \\right)\\text{d}t + \\sigma f_t\\frac{\\partial FV}{\\partial f_t} dW_t \\\\\n",
    " & =  \\mu f_t \\frac{\\partial FV}{\\partial f_t}\\text{d}t   + \\sigma f_t\\frac{\\partial FV}{\\partial f_t} dW_t \\\\\n",
    " & = \\frac{\\partial FV}{\\partial f_t} df_t\n",
    "\\end{split}\n",
    "$$\n",
    "\n",
    "and so we can exactly replicate the derivative by trading in the forward on the underlying as dictated by $\\partial FV / \\partial f_t$ - the so called *delta*. \n",
    "\n",
    "By no-arbitrage principle, we conclude that the risk neutral price is fair for *any* measure $\\mathbb{P}$ within the framework of the BSM model."
   ]
  },
  {
   "cell_type": "markdown",
   "id": "766c712d-4e1d-4257-8f78-560f724a8762",
   "metadata": {},
   "source": [
    "### 4.2 Local Volatility Models \n",
    "\n",
    "Dupire generalised the BSM model allowing non-constant discounting yield $T \\rightarrow r_{\\text{OIS}}(t,T)$, forward yield $T \\rightarrow r_{\\text{FWD}}(t,T)$ and most importantly volatility $t, S \\rightarrow \\sigma(t,S)$ which are assumed deterministic, however. \n",
    "\n",
    "The local volatility model poses the dynamics for the underlying:\n",
    "$$\n",
    "\\frac{\\text{d}S_t}{S_t} = r_{\\text{FWD}}(t,T) \\text{d}t + \\sigma(t,S_t) \\text{d}W_t\n",
    "$$\n",
    "in the risk neutral measure given by the bank account numeraire, which in this case coincides with all $T$-forward measures, where:\n",
    "$$\n",
    "P(t,T) = \\exp \\left(- \\int_t^T r_{\\text{OIS}}(t,u) du \\right)  \n",
    "$$\n",
    "is the numeraire, and the forward rate:\n",
    "$$\n",
    "F(t,T) = S_t \\cdot \\exp \\left(\\int_t^T r_{\\text{FWD}}(t,u) du \\right)\n",
    "$$\n",
    "is martingale. \n",
    "Hence, we can price any derivative with payoff $\\mathcal{P}$ by:\n",
    "$$\n",
    "PV_t =  \\max_{\\tau \\in \\mathcal{T}} \\biggl\\{ P(t,\\tau) \\cdot \\mathbb{E} \\Bigl[ \\mathcal{P}\\left( \\{S_s\\}_{t \\leq s \\leq \\tau} \\right) | S_t \\Bigr] \\biggr\\}\n",
    "$$"
   ]
  },
  {
   "cell_type": "markdown",
   "id": "a979ef15-10fa-4deb-b34d-65bad6669b82",
   "metadata": {},
   "source": [
    "The main success behind those models comes from the relationship between the volatility surface quotes and the form $\\sigma(t,S_t)$ must take to reproduce them. \n",
    "If we consider the forward normalised process starting from $X_{t_0} = 1$:\n",
    "$$\n",
    "X_t = \\frac{S_t}{F(t_0, t)}, \\quad \\frac{\\text{d}X_t}{X_t} = \\sigma_X(t,X_t) \\text{d}W_t, \\quad \\sigma_X \\left(t,X_t \\right) = \\sigma \\Bigl( t, X_t \\cdot F(t_0, t) \\Bigr)\n",
    "$$\n",
    "\n",
    "Then application of Kolmogorov's equation gives:\n",
    "$$\n",
    "\\frac{\\partial}{\\partial T} PV_{C,X}(t_0,T,K)  = \\frac{1}{2} \\sigma_X(t,X_t)^2  \\frac{\\partial^2}{\\partial K^2} PV_{C,X}(t_0,T,K) \n",
    "$$\n",
    "where $PV_{C,X}$ is the present value of a call option with underlying $X_t$, that we can obtain from actual market quotes for call options $PV_C$ on $S_t$:\n",
    "$$\n",
    "PV_{C,X}(t_0,T,K) = \\frac{1}{F(t_0, t)} PV_C \\Bigl( t_0, T, F(t_0, t) \\cdot K \\Bigr)\n",
    "$$\n",
    "\n",
    "The main drawback of local volatility models are inconsistent dynamics between the underlying and the volatility surface. Moreover, in general, efficient exact simulation Monte-Carlo schemes do not exist. Moving beyond computationally heavy and biased Euler schemes for those models is an active area of research in computational finance."
   ]
  },
  {
   "cell_type": "markdown",
   "id": "6668e5a1",
   "metadata": {},
   "source": [
    "### 4.3 Stochastic Volatility Models: Incomplete Markets\n",
    "Several examples of *incomplete markets* are popular amongst trading desks:\n",
    "\n",
    "#### Example 4.3.1: SABR model\n",
    "\n",
    "This is the stochastic volatility model which describes the dynamics of the forward directly in the risk neutral measure:\n",
    "\n",
    "$$\n",
    "\\begin{split}\n",
    "\\text{d}f_t & =  \\alpha_t f_t^\\beta \\text{d}W_t^1   \\\\\n",
    "\\text{d}\\alpha_t & =  \\upsilon \\alpha_t \\left( \\rho \\text{d}W_t^1 + \\sqrt{1-\\rho^2} \\text{d}W_t^2 \\right) \n",
    "\\end{split}\n",
    "$$\n",
    "\n",
    "where $-1 < \\rho < 1$ is the vol correlation, $0 \\leq \\beta \\leq 1$ CIR exponent and the Wiener processes are independent.\n",
    "\n",
    "For $\\beta < 1$, Girsanov's theorem does not apply and so it's not even clear how to build equivalent measures (without enriching the model with extra risk factors).  "
   ]
  },
  {
   "cell_type": "markdown",
   "id": "4be133f4",
   "metadata": {},
   "source": [
    "#### Example 4.3.2: Heston model\n",
    "\n",
    "Again, this is a stochastic volatility model for forward dynamics in the risk neutral measure:\n",
    "$$\n",
    "\\begin{split}\n",
    "\\text{d}f_t & =  \\sqrt{V_t} f_t \\text{d}W_t^1  \\\\\n",
    "\\text{d}V_t & =  \\kappa (\\theta - V_t) + \\xi \\sqrt{V_t} \\left( \\rho \\text{d}W_t^1 + \\sqrt{1-\\rho^2} \\text{d}W_t^2 \\right)  \n",
    "\\end{split}\n",
    "$$\n",
    "\n",
    "The vol correlation obeys $-1 < \\rho < 1$  as previously, and we impose the Feller condition:\n",
    "$$\n",
    "2\\kappa\\theta > \\xi ^2\n",
    "$$\n",
    "to ensure that the variance $V_t$ stays strictly positive.\n",
    "\n",
    "For this model, Girsanov's theorem applies (exercise), however exact replication requires volatility swaps beyond the underlying forward. Not many markets for such products exists yet."
   ]
  },
  {
   "cell_type": "markdown",
   "id": "d388502a",
   "metadata": {},
   "source": [
    "## References\n",
    "\n",
    "* Seydel, R.U. *Tools for Computational Finance*, 6th edition, Springer V., London (2017)\n",
    "* Shreve, S.E. Stochastic Calculus for Finance I & II, Springer, New York (2004)\n",
    "* Grzelak, L.A. et al. *Mathematical Modeling and Computation in Finance: With Exercises and Python and MATLAB Computer Codes*, World Scientific Pub. (2019)\n",
    "* Savine, A. Modern Computational Finance: AAD and Parallel Simulations, Wiley (2018)"
   ]
  }
 ],
 "metadata": {
  "kernelspec": {
   "display_name": "Python 3 (ipykernel)",
   "language": "python",
   "name": "python3"
  },
  "language_info": {
   "codemirror_mode": {
    "name": "ipython",
    "version": 3
   },
   "file_extension": ".py",
   "mimetype": "text/x-python",
   "name": "python",
   "nbconvert_exporter": "python",
   "pygments_lexer": "ipython3",
   "version": "3.12.10"
  }
 },
 "nbformat": 4,
 "nbformat_minor": 5
}
